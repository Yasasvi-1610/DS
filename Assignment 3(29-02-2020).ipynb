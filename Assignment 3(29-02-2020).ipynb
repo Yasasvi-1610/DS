{
 "cells": [
  {
   "cell_type": "markdown",
   "metadata": {},
   "source": [
    "# CSE-221710313059-T.YASASVI"
   ]
  },
  {
   "cell_type": "code",
   "execution_count": 6,
   "metadata": {},
   "outputs": [
    {
     "data": {
      "text/plain": [
       "24"
      ]
     },
     "execution_count": 6,
     "metadata": {},
     "output_type": "execute_result"
    }
   ],
   "source": [
    "#1. factorial using recursion\n",
    "def factorial(n):\n",
    "    if n==1:\n",
    "        return n\n",
    "    else:\n",
    "        return n*factorial(n-1)\n",
    "factorial(4)"
   ]
  },
  {
   "cell_type": "code",
   "execution_count": 11,
   "metadata": {},
   "outputs": [
    {
     "name": "stdout",
     "output_type": "stream",
     "text": [
      "Fibonacci sequence:\n",
      "0\n",
      "1\n",
      "1\n",
      "2\n",
      "3\n"
     ]
    }
   ],
   "source": [
    "#2. fibonacci using recursion\n",
    "def fib(n):\n",
    "    if n<=1:\n",
    "        return n;\n",
    "    else:\n",
    "        return fib(n-1)+fib(n-2)\n",
    "nterms = 5\n",
    "if nterms <= 0:\n",
    "   print(\"Plese enter a positive integer\")\n",
    "else:\n",
    "   print(\"Fibonacci sequence:\")\n",
    "   for i in range(nterms):\n",
    "       print(fib(i))"
   ]
  },
  {
   "cell_type": "code",
   "execution_count": 15,
   "metadata": {},
   "outputs": [
    {
     "name": "stdout",
     "output_type": "stream",
     "text": [
      "15\n"
     ]
    }
   ],
   "source": [
    "#3. sum of the list\n",
    "list1=[1,2,3,4,5]\n",
    "i=0\n",
    "for j in list1:\n",
    "    i=j+i\n",
    "print(i)\n"
   ]
  },
  {
   "cell_type": "code",
   "execution_count": 16,
   "metadata": {},
   "outputs": [
    {
     "name": "stdout",
     "output_type": "stream",
     "text": [
      "2\n",
      "4\n"
     ]
    }
   ],
   "source": [
    "#4. even no's in list\n",
    "i=0\n",
    "for i in list1:\n",
    "    if i%2==0:\n",
    "        print(i)"
   ]
  },
  {
   "cell_type": "code",
   "execution_count": 8,
   "metadata": {},
   "outputs": [
    {
     "name": "stdout",
     "output_type": "stream",
     "text": [
      "enter size5\n",
      "1\n",
      "2\n",
      "3\n",
      "4\n",
      "5\n",
      "min=  1\n",
      "min index=  1\n"
     ]
    }
   ],
   "source": [
    "#5. smallest no and index\n",
    "list2=[]\n",
    "n=int(input(\"enter size\"))\n",
    "for i in range(0,n):\n",
    "    item=int(input())\n",
    "    list2.append(item)\n",
    "print(\"min= \",min(list2))\n",
    "print(\"min index= \",list2.index(min(list2))+1)"
   ]
  },
  {
   "cell_type": "code",
   "execution_count": 18,
   "metadata": {},
   "outputs": [
    {
     "name": "stdout",
     "output_type": "stream",
     "text": [
      "enter the string mam\n",
      "Palindrome\n"
     ]
    }
   ],
   "source": [
    "#6. string is palindrome or not\n",
    "s=input(\"enter the string \")\n",
    "if s==s[::-1]:\n",
    "    print(\"Palindrome\")\n",
    "else:\n",
    "    print(\"Not Palindrome\")"
   ]
  },
  {
   "cell_type": "code",
   "execution_count": 22,
   "metadata": {},
   "outputs": [
    {
     "name": "stdout",
     "output_type": "stream",
     "text": [
      "even count 2 odd count 3\n"
     ]
    }
   ],
   "source": [
    "#7. count the number of even and odd numbers from a series of numbers. \n",
    "l=(1,2,3,4,5)\n",
    "i=0\n",
    "e_count=0\n",
    "o_count=0\n",
    "for i in l:\n",
    "    if i%2==0:\n",
    "        e_count+=1\n",
    "    else:\n",
    "        o_count+=1\n",
    "print(\"even count\",e_count,\"odd count\",o_count)"
   ]
  },
  {
   "cell_type": "code",
   "execution_count": 3,
   "metadata": {},
   "outputs": [
    {
     "name": "stdout",
     "output_type": "stream",
     "text": [
      "0 1 2 4 5 "
     ]
    }
   ],
   "source": [
    "#8. prints all the numbers from 0 to 6 except 3 and 6.\n",
    "for i in range(0,6):\n",
    "    if (i==3 or i==6):\n",
    "        continue\n",
    "    print(i,end=\" \")"
   ]
  },
  {
   "cell_type": "code",
   "execution_count": 5,
   "metadata": {},
   "outputs": [
    {
     "name": "stdout",
     "output_type": "stream",
     "text": [
      "False\n"
     ]
    }
   ],
   "source": [
    "#9. prime or not using function\n",
    "def prime(n):\n",
    "    if (n==1):\n",
    "        return False\n",
    "    elif (n==2):\n",
    "        return True;\n",
    "    else:\n",
    "        for x in range(2,n):\n",
    "            if(n % x==0):\n",
    "                return False\n",
    "        return True             \n",
    "print(prime(1))"
   ]
  },
  {
   "cell_type": "code",
   "execution_count": null,
   "metadata": {},
   "outputs": [],
   "source": []
  },
  {
   "cell_type": "code",
   "execution_count": 1,
   "metadata": {},
   "outputs": [
    {
     "name": "stdout",
     "output_type": "stream",
     "text": [
      "12\n",
      "12 is a adam number\n"
     ]
    }
   ],
   "source": [
    "number =input()\n",
    "reverse=number[::-1]\n",
    "sqr=int(number)**2\n",
    "reverse_sqr=int(reverse)**2\n",
    "if int(sqr)==int(str(reverse_sqr)[::-1]):\n",
    "   print(number+\" is a adam number\")\n",
    "else:\n",
    "   print(number+\" is not a adam number\")"
   ]
  },
  {
   "cell_type": "code",
   "execution_count": null,
   "metadata": {},
   "outputs": [],
   "source": []
  }
 ],
 "metadata": {
  "kernelspec": {
   "display_name": "Python 3",
   "language": "python",
   "name": "python3"
  },
  "language_info": {
   "codemirror_mode": {
    "name": "ipython",
    "version": 3
   },
   "file_extension": ".py",
   "mimetype": "text/x-python",
   "name": "python",
   "nbconvert_exporter": "python",
   "pygments_lexer": "ipython3",
   "version": "3.7.6"
  }
 },
 "nbformat": 4,
 "nbformat_minor": 4
}
