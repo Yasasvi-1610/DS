{
 "cells": [
  {
   "cell_type": "markdown",
   "metadata": {
    "colab_type": "text",
    "id": "z1AhG_LdZ93i"
   },
   "source": [
    "# CSE-221710313059-T.Yasasvi"
   ]
  },
  {
   "cell_type": "code",
   "execution_count": 1,
   "metadata": {
    "colab": {
     "base_uri": "https://localhost:8080/",
     "height": 34
    },
    "colab_type": "code",
    "id": "sgiRydfk8KzO",
    "outputId": "c1cfa93e-532f-4750-bb77-410c5f0d5d75"
   },
   "outputs": [
    {
     "data": {
      "text/plain": [
       "(619040, 7)"
      ]
     },
     "execution_count": 1,
     "metadata": {},
     "output_type": "execute_result"
    }
   ],
   "source": [
    "#all_stocks_5yr.csv\n",
    "import pandas as pd\n",
    "data = pd.read_csv(\"all_stocks_5yr.csv\")\n",
    "data.shape"
   ]
  },
  {
   "cell_type": "code",
   "execution_count": 2,
   "metadata": {
    "colab": {
     "base_uri": "https://localhost:8080/",
     "height": 195
    },
    "colab_type": "code",
    "id": "mO2HVsdg8_uO",
    "outputId": "ed6e1686-6fd4-4215-df28-de3a16e166da"
   },
   "outputs": [
    {
     "data": {
      "text/html": [
       "<div>\n",
       "<style scoped>\n",
       "    .dataframe tbody tr th:only-of-type {\n",
       "        vertical-align: middle;\n",
       "    }\n",
       "\n",
       "    .dataframe tbody tr th {\n",
       "        vertical-align: top;\n",
       "    }\n",
       "\n",
       "    .dataframe thead th {\n",
       "        text-align: right;\n",
       "    }\n",
       "</style>\n",
       "<table border=\"1\" class=\"dataframe\">\n",
       "  <thead>\n",
       "    <tr style=\"text-align: right;\">\n",
       "      <th></th>\n",
       "      <th>date</th>\n",
       "      <th>open</th>\n",
       "      <th>high</th>\n",
       "      <th>low</th>\n",
       "      <th>close</th>\n",
       "      <th>volume</th>\n",
       "      <th>Name</th>\n",
       "    </tr>\n",
       "  </thead>\n",
       "  <tbody>\n",
       "    <tr>\n",
       "      <th>0</th>\n",
       "      <td>2013-02-08</td>\n",
       "      <td>15.07</td>\n",
       "      <td>15.12</td>\n",
       "      <td>14.63</td>\n",
       "      <td>14.75</td>\n",
       "      <td>8407500</td>\n",
       "      <td>AAL</td>\n",
       "    </tr>\n",
       "    <tr>\n",
       "      <th>1</th>\n",
       "      <td>2013-02-11</td>\n",
       "      <td>14.89</td>\n",
       "      <td>15.01</td>\n",
       "      <td>14.26</td>\n",
       "      <td>14.46</td>\n",
       "      <td>8882000</td>\n",
       "      <td>AAL</td>\n",
       "    </tr>\n",
       "    <tr>\n",
       "      <th>2</th>\n",
       "      <td>2013-02-12</td>\n",
       "      <td>14.45</td>\n",
       "      <td>14.51</td>\n",
       "      <td>14.10</td>\n",
       "      <td>14.27</td>\n",
       "      <td>8126000</td>\n",
       "      <td>AAL</td>\n",
       "    </tr>\n",
       "    <tr>\n",
       "      <th>3</th>\n",
       "      <td>2013-02-13</td>\n",
       "      <td>14.30</td>\n",
       "      <td>14.94</td>\n",
       "      <td>14.25</td>\n",
       "      <td>14.66</td>\n",
       "      <td>10259500</td>\n",
       "      <td>AAL</td>\n",
       "    </tr>\n",
       "    <tr>\n",
       "      <th>4</th>\n",
       "      <td>2013-02-14</td>\n",
       "      <td>14.94</td>\n",
       "      <td>14.96</td>\n",
       "      <td>13.16</td>\n",
       "      <td>13.99</td>\n",
       "      <td>31879900</td>\n",
       "      <td>AAL</td>\n",
       "    </tr>\n",
       "  </tbody>\n",
       "</table>\n",
       "</div>"
      ],
      "text/plain": [
       "         date   open   high    low  close    volume Name\n",
       "0  2013-02-08  15.07  15.12  14.63  14.75   8407500  AAL\n",
       "1  2013-02-11  14.89  15.01  14.26  14.46   8882000  AAL\n",
       "2  2013-02-12  14.45  14.51  14.10  14.27   8126000  AAL\n",
       "3  2013-02-13  14.30  14.94  14.25  14.66  10259500  AAL\n",
       "4  2013-02-14  14.94  14.96  13.16  13.99  31879900  AAL"
      ]
     },
     "execution_count": 2,
     "metadata": {},
     "output_type": "execute_result"
    }
   ],
   "source": [
    "# Top Five rows\n",
    "data.head()"
   ]
  },
  {
   "cell_type": "code",
   "execution_count": 3,
   "metadata": {
    "colab": {
     "base_uri": "https://localhost:8080/",
     "height": 34
    },
    "colab_type": "code",
    "id": "xfdlWA-9-F8y",
    "outputId": "97f09af4-8592-4fbe-9ee8-58baaea21da9"
   },
   "outputs": [
    {
     "data": {
      "text/plain": [
       "Index(['date', 'open', 'high', 'low', 'close', 'volume', 'Name'], dtype='object')"
      ]
     },
     "execution_count": 3,
     "metadata": {},
     "output_type": "execute_result"
    }
   ],
   "source": [
    "data.columns"
   ]
  },
  {
   "cell_type": "code",
   "execution_count": 4,
   "metadata": {
    "colab": {
     "base_uri": "https://localhost:8080/",
     "height": 218
    },
    "colab_type": "code",
    "id": "O9fu2z0MXGd_",
    "outputId": "e05381dc-e7df-4870-c10d-cc21df80f2a9"
   },
   "outputs": [
    {
     "data": {
      "text/plain": [
       "BBY     1259\n",
       "BAX     1259\n",
       "RHI     1259\n",
       "VMC     1259\n",
       "AAPL    1259\n",
       "        ... \n",
       "DXC      215\n",
       "BHGE     152\n",
       "BHF      143\n",
       "DWDP     109\n",
       "APTV      44\n",
       "Name: Name, Length: 505, dtype: int64"
      ]
     },
     "execution_count": 4,
     "metadata": {},
     "output_type": "execute_result"
    }
   ],
   "source": [
    "data['Name'].value_counts()"
   ]
  },
  {
   "cell_type": "code",
   "execution_count": 5,
   "metadata": {
    "colab": {
     "base_uri": "https://localhost:8080/",
     "height": 34
    },
    "colab_type": "code",
    "id": "3vKfEXxi-NwP",
    "outputId": "045c2c45-5894-4b97-de56-96648123e316"
   },
   "outputs": [
    {
     "data": {
      "text/plain": [
       "505"
      ]
     },
     "execution_count": 5,
     "metadata": {},
     "output_type": "execute_result"
    }
   ],
   "source": [
    "### How many company's data we have here?\n",
    "data.Name.nunique()"
   ]
  },
  {
   "cell_type": "code",
   "execution_count": 6,
   "metadata": {
    "colab": {
     "base_uri": "https://localhost:8080/",
     "height": 34
    },
    "colab_type": "code",
    "id": "au3mWKlM-U6Q",
    "outputId": "a25e653c-2f80-4999-d15e-1702eb260df8"
   },
   "outputs": [
    {
     "data": {
      "text/plain": [
       "(1259, 7)"
      ]
     },
     "execution_count": 6,
     "metadata": {},
     "output_type": "execute_result"
    }
   ],
   "source": [
    "## Selecting the data AAL\n",
    "df = data[data['Name']=='AAP']\n",
    "df.shape"
   ]
  },
  {
   "cell_type": "code",
   "execution_count": 7,
   "metadata": {
    "colab": {
     "base_uri": "https://localhost:8080/",
     "height": 34
    },
    "colab_type": "code",
    "id": "ptcOqm5w-vtp",
    "outputId": "4e87484b-20a0-40d2-df15-38f3fdaba754"
   },
   "outputs": [
    {
     "data": {
      "text/plain": [
       "Index(['date', 'open', 'high', 'low', 'close', 'volume', 'Name'], dtype='object')"
      ]
     },
     "execution_count": 7,
     "metadata": {},
     "output_type": "execute_result"
    }
   ],
   "source": [
    "df.columns"
   ]
  },
  {
   "cell_type": "code",
   "execution_count": 8,
   "metadata": {
    "colab": {
     "base_uri": "https://localhost:8080/",
     "height": 402
    },
    "colab_type": "code",
    "id": "7PLWQr5P-ymJ",
    "outputId": "b7ebbfe2-e16d-4bdf-c7d3-f684b4eb94e8"
   },
   "outputs": [
    {
     "data": {
      "text/html": [
       "<div>\n",
       "<style scoped>\n",
       "    .dataframe tbody tr th:only-of-type {\n",
       "        vertical-align: middle;\n",
       "    }\n",
       "\n",
       "    .dataframe tbody tr th {\n",
       "        vertical-align: top;\n",
       "    }\n",
       "\n",
       "    .dataframe thead th {\n",
       "        text-align: right;\n",
       "    }\n",
       "</style>\n",
       "<table border=\"1\" class=\"dataframe\">\n",
       "  <thead>\n",
       "    <tr style=\"text-align: right;\">\n",
       "      <th></th>\n",
       "      <th>date</th>\n",
       "      <th>close</th>\n",
       "    </tr>\n",
       "  </thead>\n",
       "  <tbody>\n",
       "    <tr>\n",
       "      <th>2518</th>\n",
       "      <td>2013-02-08</td>\n",
       "      <td>78.90</td>\n",
       "    </tr>\n",
       "    <tr>\n",
       "      <th>2519</th>\n",
       "      <td>2013-02-11</td>\n",
       "      <td>78.39</td>\n",
       "    </tr>\n",
       "    <tr>\n",
       "      <th>2520</th>\n",
       "      <td>2013-02-12</td>\n",
       "      <td>78.60</td>\n",
       "    </tr>\n",
       "    <tr>\n",
       "      <th>2521</th>\n",
       "      <td>2013-02-13</td>\n",
       "      <td>78.97</td>\n",
       "    </tr>\n",
       "    <tr>\n",
       "      <th>2522</th>\n",
       "      <td>2013-02-14</td>\n",
       "      <td>78.84</td>\n",
       "    </tr>\n",
       "    <tr>\n",
       "      <th>...</th>\n",
       "      <td>...</td>\n",
       "      <td>...</td>\n",
       "    </tr>\n",
       "    <tr>\n",
       "      <th>3772</th>\n",
       "      <td>2018-02-01</td>\n",
       "      <td>117.29</td>\n",
       "    </tr>\n",
       "    <tr>\n",
       "      <th>3773</th>\n",
       "      <td>2018-02-02</td>\n",
       "      <td>113.93</td>\n",
       "    </tr>\n",
       "    <tr>\n",
       "      <th>3774</th>\n",
       "      <td>2018-02-05</td>\n",
       "      <td>109.86</td>\n",
       "    </tr>\n",
       "    <tr>\n",
       "      <th>3775</th>\n",
       "      <td>2018-02-06</td>\n",
       "      <td>112.20</td>\n",
       "    </tr>\n",
       "    <tr>\n",
       "      <th>3776</th>\n",
       "      <td>2018-02-07</td>\n",
       "      <td>109.93</td>\n",
       "    </tr>\n",
       "  </tbody>\n",
       "</table>\n",
       "<p>1259 rows × 2 columns</p>\n",
       "</div>"
      ],
      "text/plain": [
       "            date   close\n",
       "2518  2013-02-08   78.90\n",
       "2519  2013-02-11   78.39\n",
       "2520  2013-02-12   78.60\n",
       "2521  2013-02-13   78.97\n",
       "2522  2013-02-14   78.84\n",
       "...          ...     ...\n",
       "3772  2018-02-01  117.29\n",
       "3773  2018-02-02  113.93\n",
       "3774  2018-02-05  109.86\n",
       "3775  2018-02-06  112.20\n",
       "3776  2018-02-07  109.93\n",
       "\n",
       "[1259 rows x 2 columns]"
      ]
     },
     "execution_count": 8,
     "metadata": {},
     "output_type": "execute_result"
    }
   ],
   "source": [
    "#select the columns data and close price\n",
    "df = df[['date','close']]\n",
    "df"
   ]
  },
  {
   "cell_type": "code",
   "execution_count": 9,
   "metadata": {
    "colab": {
     "base_uri": "https://localhost:8080/",
     "height": 282
    },
    "colab_type": "code",
    "id": "MpbU4HfJ_B3b",
    "outputId": "969c0743-d487-4cc0-c39d-25b95c48638d"
   },
   "outputs": [
    {
     "data": {
      "text/plain": [
       "[<matplotlib.lines.Line2D at 0x16a8a782b48>]"
      ]
     },
     "execution_count": 9,
     "metadata": {},
     "output_type": "execute_result"
    },
    {
     "data": {
      "image/png": "[encoded data removed]",
      "text/plain": [
       "<Figure size 432x288 with 1 Axes>"
      ]
     },
     "metadata": {
      "needs_background": "light"
     },
     "output_type": "display_data"
    }
   ],
   "source": [
    "#line plot\n",
    "import matplotlib.pyplot as plt\n",
    "plt.plot(df['date'],df['close'])"
   ]
  },
  {
   "cell_type": "code",
   "execution_count": 10,
   "metadata": {
    "colab": {
     "base_uri": "https://localhost:8080/",
     "height": 202
    },
    "colab_type": "code",
    "id": "TPjGRa3t_On2",
    "outputId": "b1cacba6-8b9b-414c-8fe6-018bd659a6d3"
   },
   "outputs": [
    {
     "data": {
      "text/plain": [
       "2518    2013-02-08\n",
       "2519    2013-02-11\n",
       "2520    2013-02-12\n",
       "2521    2013-02-13\n",
       "2522    2013-02-14\n",
       "2523    2013-02-15\n",
       "2524    2013-02-19\n",
       "2525    2013-02-20\n",
       "2526    2013-02-21\n",
       "2527    2013-02-22\n",
       "Name: date, dtype: object"
      ]
     },
     "execution_count": 10,
     "metadata": {},
     "output_type": "execute_result"
    }
   ],
   "source": [
    "df.date[:10]"
   ]
  },
  {
   "cell_type": "code",
   "execution_count": 11,
   "metadata": {
    "colab": {
     "base_uri": "https://localhost:8080/",
     "height": 67
    },
    "colab_type": "code",
    "id": "6OVvsbkeDPdr",
    "outputId": "3efb1b5b-082b-404a-e0b8-94a5c59d8a3a"
   },
   "outputs": [
    {
     "data": {
      "text/plain": [
       "date     0\n",
       "close    0\n",
       "dtype: int64"
      ]
     },
     "execution_count": 11,
     "metadata": {},
     "output_type": "execute_result"
    }
   ],
   "source": [
    "### Missing values in the data\n",
    "df.isnull().sum()"
   ]
  },
  {
   "cell_type": "code",
   "execution_count": 12,
   "metadata": {
    "colab": {
     "base_uri": "https://localhost:8080/",
     "height": 34
    },
    "colab_type": "code",
    "id": "YrSs780TshQn",
    "outputId": "fb7e4c10-b88c-4b2d-c93e-5e5a90700c70"
   },
   "outputs": [
    {
     "data": {
      "text/plain": [
       "(1259, 2)"
      ]
     },
     "execution_count": 12,
     "metadata": {},
     "output_type": "execute_result"
    }
   ],
   "source": [
    "df.shape"
   ]
  },
  {
   "cell_type": "code",
   "execution_count": 13,
   "metadata": {
    "colab": {
     "base_uri": "https://localhost:8080/",
     "height": 269
    },
    "colab_type": "code",
    "id": "FoPY-SnRDTry",
    "outputId": "eddf8389-6f5f-42b2-f900-aaa218f46d1e"
   },
   "outputs": [
    {
     "name": "stdout",
     "output_type": "stream",
     "text": [
      "[2518    78.90\n",
      "2519    78.39\n",
      "2520    78.60\n",
      "2521    78.97\n",
      "2522    78.84\n",
      "2523    79.00\n",
      "2524    80.72\n",
      "Name: close, dtype: float64, 2519    78.39\n",
      "2520    78.60\n",
      "2521    78.97\n",
      "2522    78.84\n",
      "2523    79.00\n",
      "2524    80.72\n",
      "2525    79.50\n",
      "Name: close, dtype: float64]\n"
     ]
    }
   ],
   "source": [
    "## Preparing the data\n",
    "## Features and target\n",
    "## Input and output\n",
    "## last 7 days data as input\n",
    "## X -- [[d1-d7],[d9,d15],[d17,23]....]\n",
    "## y -- [d8,d16,d24,...]\n",
    "\n",
    "## X = [[d1-d7],[d2-d8],]\n",
    "## y = [d8,d9]\n",
    "\n",
    "X = [] ## input\n",
    "y = [] ## ouput\n",
    "for i  in range(df.shape[0]-7-1):   \n",
    "  X.append(df['close'][i:i+7])# 0 -->[0:7], 1-->[1:8]\n",
    "  y.append(df['close'][i+2525])# 7,8,9\n",
    "print(X[:2])"
   ]
  },
  {
   "cell_type": "code",
   "execution_count": 14,
   "metadata": {
    "colab": {},
    "colab_type": "code",
    "id": "g8Us1e0xGtls"
   },
   "outputs": [],
   "source": [
    "import numpy as np\n",
    "X = np.array(X)"
   ]
  },
  {
   "cell_type": "code",
   "execution_count": 15,
   "metadata": {
    "colab": {
     "base_uri": "https://localhost:8080/",
     "height": 195
    },
    "colab_type": "code",
    "id": "R2hTTPimGww0",
    "outputId": "40591cba-46bf-4109-90ad-e1632d4c76ea"
   },
   "outputs": [
    {
     "data": {
      "text/html": [
       "<div>\n",
       "<style scoped>\n",
       "    .dataframe tbody tr th:only-of-type {\n",
       "        vertical-align: middle;\n",
       "    }\n",
       "\n",
       "    .dataframe tbody tr th {\n",
       "        vertical-align: top;\n",
       "    }\n",
       "\n",
       "    .dataframe thead th {\n",
       "        text-align: right;\n",
       "    }\n",
       "</style>\n",
       "<table border=\"1\" class=\"dataframe\">\n",
       "  <thead>\n",
       "    <tr style=\"text-align: right;\">\n",
       "      <th></th>\n",
       "      <th>d1</th>\n",
       "      <th>d2</th>\n",
       "      <th>d3</th>\n",
       "      <th>d4</th>\n",
       "      <th>d5</th>\n",
       "      <th>d6</th>\n",
       "      <th>d7</th>\n",
       "    </tr>\n",
       "  </thead>\n",
       "  <tbody>\n",
       "    <tr>\n",
       "      <th>0</th>\n",
       "      <td>78.90</td>\n",
       "      <td>78.39</td>\n",
       "      <td>78.60</td>\n",
       "      <td>78.97</td>\n",
       "      <td>78.84</td>\n",
       "      <td>79.00</td>\n",
       "      <td>80.72</td>\n",
       "    </tr>\n",
       "    <tr>\n",
       "      <th>1</th>\n",
       "      <td>78.39</td>\n",
       "      <td>78.60</td>\n",
       "      <td>78.97</td>\n",
       "      <td>78.84</td>\n",
       "      <td>79.00</td>\n",
       "      <td>80.72</td>\n",
       "      <td>79.50</td>\n",
       "    </tr>\n",
       "    <tr>\n",
       "      <th>2</th>\n",
       "      <td>78.60</td>\n",
       "      <td>78.97</td>\n",
       "      <td>78.84</td>\n",
       "      <td>79.00</td>\n",
       "      <td>80.72</td>\n",
       "      <td>79.50</td>\n",
       "      <td>79.06</td>\n",
       "    </tr>\n",
       "    <tr>\n",
       "      <th>3</th>\n",
       "      <td>78.97</td>\n",
       "      <td>78.84</td>\n",
       "      <td>79.00</td>\n",
       "      <td>80.72</td>\n",
       "      <td>79.50</td>\n",
       "      <td>79.06</td>\n",
       "      <td>79.21</td>\n",
       "    </tr>\n",
       "    <tr>\n",
       "      <th>4</th>\n",
       "      <td>78.84</td>\n",
       "      <td>79.00</td>\n",
       "      <td>80.72</td>\n",
       "      <td>79.50</td>\n",
       "      <td>79.06</td>\n",
       "      <td>79.21</td>\n",
       "      <td>78.36</td>\n",
       "    </tr>\n",
       "  </tbody>\n",
       "</table>\n",
       "</div>"
      ],
      "text/plain": [
       "      d1     d2     d3     d4     d5     d6     d7\n",
       "0  78.90  78.39  78.60  78.97  78.84  79.00  80.72\n",
       "1  78.39  78.60  78.97  78.84  79.00  80.72  79.50\n",
       "2  78.60  78.97  78.84  79.00  80.72  79.50  79.06\n",
       "3  78.97  78.84  79.00  80.72  79.50  79.06  79.21\n",
       "4  78.84  79.00  80.72  79.50  79.06  79.21  78.36"
      ]
     },
     "execution_count": 15,
     "metadata": {},
     "output_type": "execute_result"
    }
   ],
   "source": [
    "df1 = pd.DataFrame(X,columns=['d1','d2','d3','d4','d5','d6','d7'])\n",
    "df1.head()"
   ]
  },
  {
   "cell_type": "code",
   "execution_count": 16,
   "metadata": {
    "colab": {
     "base_uri": "https://localhost:8080/",
     "height": 195
    },
    "colab_type": "code",
    "id": "yHANsBFsG0N9",
    "outputId": "e589008c-ca7f-4391-9755-2944cf0f15a3"
   },
   "outputs": [
    {
     "data": {
      "text/html": [
       "<div>\n",
       "<style scoped>\n",
       "    .dataframe tbody tr th:only-of-type {\n",
       "        vertical-align: middle;\n",
       "    }\n",
       "\n",
       "    .dataframe tbody tr th {\n",
       "        vertical-align: top;\n",
       "    }\n",
       "\n",
       "    .dataframe thead th {\n",
       "        text-align: right;\n",
       "    }\n",
       "</style>\n",
       "<table border=\"1\" class=\"dataframe\">\n",
       "  <thead>\n",
       "    <tr style=\"text-align: right;\">\n",
       "      <th></th>\n",
       "      <th>d1</th>\n",
       "      <th>d2</th>\n",
       "      <th>d3</th>\n",
       "      <th>d4</th>\n",
       "      <th>d5</th>\n",
       "      <th>d6</th>\n",
       "      <th>d7</th>\n",
       "      <th>d8</th>\n",
       "    </tr>\n",
       "  </thead>\n",
       "  <tbody>\n",
       "    <tr>\n",
       "      <th>0</th>\n",
       "      <td>78.90</td>\n",
       "      <td>78.39</td>\n",
       "      <td>78.60</td>\n",
       "      <td>78.97</td>\n",
       "      <td>78.84</td>\n",
       "      <td>79.00</td>\n",
       "      <td>80.72</td>\n",
       "      <td>79.50</td>\n",
       "    </tr>\n",
       "    <tr>\n",
       "      <th>1</th>\n",
       "      <td>78.39</td>\n",
       "      <td>78.60</td>\n",
       "      <td>78.97</td>\n",
       "      <td>78.84</td>\n",
       "      <td>79.00</td>\n",
       "      <td>80.72</td>\n",
       "      <td>79.50</td>\n",
       "      <td>79.06</td>\n",
       "    </tr>\n",
       "    <tr>\n",
       "      <th>2</th>\n",
       "      <td>78.60</td>\n",
       "      <td>78.97</td>\n",
       "      <td>78.84</td>\n",
       "      <td>79.00</td>\n",
       "      <td>80.72</td>\n",
       "      <td>79.50</td>\n",
       "      <td>79.06</td>\n",
       "      <td>79.21</td>\n",
       "    </tr>\n",
       "    <tr>\n",
       "      <th>3</th>\n",
       "      <td>78.97</td>\n",
       "      <td>78.84</td>\n",
       "      <td>79.00</td>\n",
       "      <td>80.72</td>\n",
       "      <td>79.50</td>\n",
       "      <td>79.06</td>\n",
       "      <td>79.21</td>\n",
       "      <td>78.36</td>\n",
       "    </tr>\n",
       "    <tr>\n",
       "      <th>4</th>\n",
       "      <td>78.84</td>\n",
       "      <td>79.00</td>\n",
       "      <td>80.72</td>\n",
       "      <td>79.50</td>\n",
       "      <td>79.06</td>\n",
       "      <td>79.21</td>\n",
       "      <td>78.36</td>\n",
       "      <td>77.15</td>\n",
       "    </tr>\n",
       "  </tbody>\n",
       "</table>\n",
       "</div>"
      ],
      "text/plain": [
       "      d1     d2     d3     d4     d5     d6     d7     d8\n",
       "0  78.90  78.39  78.60  78.97  78.84  79.00  80.72  79.50\n",
       "1  78.39  78.60  78.97  78.84  79.00  80.72  79.50  79.06\n",
       "2  78.60  78.97  78.84  79.00  80.72  79.50  79.06  79.21\n",
       "3  78.97  78.84  79.00  80.72  79.50  79.06  79.21  78.36\n",
       "4  78.84  79.00  80.72  79.50  79.06  79.21  78.36  77.15"
      ]
     },
     "execution_count": 16,
     "metadata": {},
     "output_type": "execute_result"
    }
   ],
   "source": [
    "df1['d8'] = y\n",
    "df1.head()"
   ]
  },
  {
   "cell_type": "code",
   "execution_count": 17,
   "metadata": {
    "colab": {
     "base_uri": "https://localhost:8080/",
     "height": 34
    },
    "colab_type": "code",
    "id": "_ouP22FRG3eM",
    "outputId": "71baf7e4-603c-4b02-cd2b-26ba13573b85"
   },
   "outputs": [
    {
     "data": {
      "text/plain": [
       "(1251, 8)"
      ]
     },
     "execution_count": 17,
     "metadata": {},
     "output_type": "execute_result"
    }
   ],
   "source": [
    "df1.shape"
   ]
  },
  {
   "cell_type": "code",
   "execution_count": 19,
   "metadata": {
    "colab": {
     "base_uri": "https://localhost:8080/",
     "height": 34
    },
    "colab_type": "code",
    "id": "LXg27Hw5MJ7z",
    "outputId": "23dd37d2-a6af-469e-d163-4348341824f4"
   },
   "outputs": [
    {
     "data": {
      "text/plain": [
       "1000.8000000000001"
      ]
     },
     "execution_count": 19,
     "metadata": {},
     "output_type": "execute_result"
    }
   ],
   "source": [
    "1251 * 0.8"
   ]
  },
  {
   "cell_type": "code",
   "execution_count": 20,
   "metadata": {
    "colab": {
     "base_uri": "https://localhost:8080/",
     "height": 84
    },
    "colab_type": "code",
    "id": "zcmbLgjMMLB3",
    "outputId": "18a8c748-dbae-4d33-e96c-0f7b238c418b"
   },
   "outputs": [
    {
     "name": "stdout",
     "output_type": "stream",
     "text": [
      "(1000, 7)\n",
      "(1000,)\n",
      "(251, 7)\n",
      "(251,)\n"
     ]
    }
   ],
   "source": [
    "## Train test split\n",
    "X_train = df1.iloc[0:1000,0:7]\n",
    "X_test = df1.iloc[1000:,0:7]\n",
    "y_train =  df1['d8'][:1000]\n",
    "y_test  = df1['d8'][1000:]\n",
    "print(X_train.shape)\n",
    "print(y_train.shape)\n",
    "print(X_test.shape)\n",
    "print(y_test.shape)"
   ]
  },
  {
   "cell_type": "code",
   "execution_count": 21,
   "metadata": {
    "colab": {
     "base_uri": "https://localhost:8080/",
     "height": 284
    },
    "colab_type": "code",
    "id": "DbQmRFehMOyA",
    "outputId": "5a61877d-a91e-4d56-c231-bf00712c3764"
   },
   "outputs": [
    {
     "data": {
      "text/html": [
       "<div>\n",
       "<style scoped>\n",
       "    .dataframe tbody tr th:only-of-type {\n",
       "        vertical-align: middle;\n",
       "    }\n",
       "\n",
       "    .dataframe tbody tr th {\n",
       "        vertical-align: top;\n",
       "    }\n",
       "\n",
       "    .dataframe thead th {\n",
       "        text-align: right;\n",
       "    }\n",
       "</style>\n",
       "<table border=\"1\" class=\"dataframe\">\n",
       "  <thead>\n",
       "    <tr style=\"text-align: right;\">\n",
       "      <th></th>\n",
       "      <th>d1</th>\n",
       "      <th>d2</th>\n",
       "      <th>d3</th>\n",
       "      <th>d4</th>\n",
       "      <th>d5</th>\n",
       "      <th>d6</th>\n",
       "      <th>d7</th>\n",
       "    </tr>\n",
       "  </thead>\n",
       "  <tbody>\n",
       "    <tr>\n",
       "      <th>count</th>\n",
       "      <td>1.000000e+03</td>\n",
       "      <td>1.000000e+03</td>\n",
       "      <td>1.000000e+03</td>\n",
       "      <td>1.000000e+03</td>\n",
       "      <td>1.000000e+03</td>\n",
       "      <td>1.000000e+03</td>\n",
       "      <td>1.000000e+03</td>\n",
       "    </tr>\n",
       "    <tr>\n",
       "      <th>mean</th>\n",
       "      <td>5.273559e-16</td>\n",
       "      <td>2.123857e-16</td>\n",
       "      <td>-3.332890e-16</td>\n",
       "      <td>4.530820e-16</td>\n",
       "      <td>-4.570788e-16</td>\n",
       "      <td>-3.183009e-16</td>\n",
       "      <td>-3.018696e-16</td>\n",
       "    </tr>\n",
       "    <tr>\n",
       "      <th>std</th>\n",
       "      <td>1.000500e+00</td>\n",
       "      <td>1.000500e+00</td>\n",
       "      <td>1.000500e+00</td>\n",
       "      <td>1.000500e+00</td>\n",
       "      <td>1.000500e+00</td>\n",
       "      <td>1.000500e+00</td>\n",
       "      <td>1.000500e+00</td>\n",
       "    </tr>\n",
       "    <tr>\n",
       "      <th>min</th>\n",
       "      <td>-1.890787e+00</td>\n",
       "      <td>-1.895818e+00</td>\n",
       "      <td>-1.900960e+00</td>\n",
       "      <td>-1.906169e+00</td>\n",
       "      <td>-1.911327e+00</td>\n",
       "      <td>-1.916526e+00</td>\n",
       "      <td>-1.921775e+00</td>\n",
       "    </tr>\n",
       "    <tr>\n",
       "      <th>25%</th>\n",
       "      <td>-5.749156e-01</td>\n",
       "      <td>-5.744587e-01</td>\n",
       "      <td>-5.743494e-01</td>\n",
       "      <td>-5.690188e-01</td>\n",
       "      <td>-5.657487e-01</td>\n",
       "      <td>-5.547025e-01</td>\n",
       "      <td>-5.467598e-01</td>\n",
       "    </tr>\n",
       "    <tr>\n",
       "      <th>50%</th>\n",
       "      <td>3.053054e-01</td>\n",
       "      <td>3.040761e-01</td>\n",
       "      <td>3.031716e-01</td>\n",
       "      <td>3.017810e-01</td>\n",
       "      <td>3.003257e-01</td>\n",
       "      <td>2.990099e-01</td>\n",
       "      <td>2.989073e-01</td>\n",
       "    </tr>\n",
       "    <tr>\n",
       "      <th>75%</th>\n",
       "      <td>7.257967e-01</td>\n",
       "      <td>7.253207e-01</td>\n",
       "      <td>7.266959e-01</td>\n",
       "      <td>7.267586e-01</td>\n",
       "      <td>7.253870e-01</td>\n",
       "      <td>7.247139e-01</td>\n",
       "      <td>7.234518e-01</td>\n",
       "    </tr>\n",
       "    <tr>\n",
       "      <th>max</th>\n",
       "      <td>2.031483e+00</td>\n",
       "      <td>2.031266e+00</td>\n",
       "      <td>2.031145e+00</td>\n",
       "      <td>2.031334e+00</td>\n",
       "      <td>2.031363e+00</td>\n",
       "      <td>2.031387e+00</td>\n",
       "      <td>2.031622e+00</td>\n",
       "    </tr>\n",
       "  </tbody>\n",
       "</table>\n",
       "</div>"
      ],
      "text/plain": [
       "                 d1            d2            d3            d4            d5  \\\n",
       "count  1.000000e+03  1.000000e+03  1.000000e+03  1.000000e+03  1.000000e+03   \n",
       "mean   5.273559e-16  2.123857e-16 -3.332890e-16  4.530820e-16 -4.570788e-16   \n",
       "std    1.000500e+00  1.000500e+00  1.000500e+00  1.000500e+00  1.000500e+00   \n",
       "min   -1.890787e+00 -1.895818e+00 -1.900960e+00 -1.906169e+00 -1.911327e+00   \n",
       "25%   -5.749156e-01 -5.744587e-01 -5.743494e-01 -5.690188e-01 -5.657487e-01   \n",
       "50%    3.053054e-01  3.040761e-01  3.031716e-01  3.017810e-01  3.003257e-01   \n",
       "75%    7.257967e-01  7.253207e-01  7.266959e-01  7.267586e-01  7.253870e-01   \n",
       "max    2.031483e+00  2.031266e+00  2.031145e+00  2.031334e+00  2.031363e+00   \n",
       "\n",
       "                 d6            d7  \n",
       "count  1.000000e+03  1.000000e+03  \n",
       "mean  -3.183009e-16 -3.018696e-16  \n",
       "std    1.000500e+00  1.000500e+00  \n",
       "min   -1.916526e+00 -1.921775e+00  \n",
       "25%   -5.547025e-01 -5.467598e-01  \n",
       "50%    2.990099e-01  2.989073e-01  \n",
       "75%    7.247139e-01  7.234518e-01  \n",
       "max    2.031387e+00  2.031622e+00  "
      ]
     },
     "execution_count": 21,
     "metadata": {},
     "output_type": "execute_result"
    }
   ],
   "source": [
    "## Sacling the data\n",
    "from sklearn.preprocessing import StandardScaler\n",
    "sc = StandardScaler()\n",
    "sc.fit(X_train)\n",
    "X_train_sc = pd.DataFrame(sc.transform(X_train),columns = X_train.columns)\n",
    "X_test_sc = pd.DataFrame(sc.transform(X_test),columns = X_train.columns)\n",
    "X_train_sc.describe()"
   ]
  },
  {
   "cell_type": "code",
   "execution_count": 22,
   "metadata": {
    "colab": {
     "base_uri": "https://localhost:8080/",
     "height": 218
    },
    "colab_type": "code",
    "id": "GM23gcpxMS2C",
    "outputId": "c81cc9f2-c87b-4c84-80f5-2470777bbf38"
   },
   "outputs": [
    {
     "name": "stdout",
     "output_type": "stream",
     "text": [
      "Model: \"sequential\"\n",
      "_________________________________________________________________\n",
      "Layer (type)                 Output Shape              Param #   \n",
      "=================================================================\n",
      "lstm (LSTM)                  (None, 256)               264192    \n",
      "_________________________________________________________________\n",
      "dense (Dense)                (None, 1)                 257       \n",
      "=================================================================\n",
      "Total params: 264,449\n",
      "Trainable params: 264,449\n",
      "Non-trainable params: 0\n",
      "_________________________________________________________________\n"
     ]
    }
   ],
   "source": [
    "from keras.models import Sequential\n",
    "from keras.layers import Dense,Dropout,LSTM\n",
    "model = Sequential()\n",
    "model.add(LSTM(256,input_shape=(7,1)))\n",
    "model.add(Dense(1))\n",
    "model.summary()"
   ]
  },
  {
   "cell_type": "code",
   "execution_count": 23,
   "metadata": {
    "colab": {},
    "colab_type": "code",
    "id": "m8m2OsZKMXF6"
   },
   "outputs": [],
   "source": [
    "model.compile(optimizer='adam',loss='mse')"
   ]
  },
  {
   "cell_type": "code",
   "execution_count": 24,
   "metadata": {
    "colab": {
     "base_uri": "https://localhost:8080/",
     "height": 34
    },
    "colab_type": "code",
    "id": "wYrN77PCYVT5",
    "outputId": "3dd8fb3a-66e5-4187-e976-cc8da5e74623"
   },
   "outputs": [
    {
     "data": {
      "text/plain": [
       "(251, 7)"
      ]
     },
     "execution_count": 24,
     "metadata": {},
     "output_type": "execute_result"
    }
   ],
   "source": [
    "X_test.shape"
   ]
  },
  {
   "cell_type": "code",
   "execution_count": 25,
   "metadata": {
    "colab": {},
    "colab_type": "code",
    "id": "YN8stxEeYhco"
   },
   "outputs": [],
   "source": [
    "# number of records , time steps,Features\n",
    "X_train_sc = X_train_sc.values.reshape(1000,7,1)\n",
    "X_test_sc = X_test_sc.values.reshape(251,7,1)"
   ]
  },
  {
   "cell_type": "code",
   "execution_count": 26,
   "metadata": {
    "colab": {
     "base_uri": "https://localhost:8080/",
     "height": 1000
    },
    "colab_type": "code",
    "id": "JYYsWNZ1MfDE",
    "outputId": "e66c896d-90d9-415f-9109-70c0ec99343c"
   },
   "outputs": [
    {
     "name": "stdout",
     "output_type": "stream",
     "text": [
      "Epoch 1/100\n",
      "32/32 [==============================] - 1s 45ms/step - loss: 17755.4512 - val_loss: 11094.2070\n",
      "Epoch 2/100\n",
      "32/32 [==============================] - 1s 22ms/step - loss: 12296.0000 - val_loss: 7142.1035\n",
      "Epoch 3/100\n",
      "32/32 [==============================] - 1s 22ms/step - loss: 10181.1738 - val_loss: 5755.8696\n",
      "Epoch 4/100\n",
      "32/32 [==============================] - 1s 21ms/step - loss: 8598.5596 - val_loss: 4654.6011\n",
      "Epoch 5/100\n",
      "32/32 [==============================] - 1s 23ms/step - loss: 7299.7280 - val_loss: 3752.9824\n",
      "Epoch 6/100\n",
      "32/32 [==============================] - 1s 22ms/step - loss: 6196.8501 - val_loss: 3017.2896\n",
      "Epoch 7/100\n",
      "32/32 [==============================] - 1s 26ms/step - loss: 5269.1055 - val_loss: 2421.1885\n",
      "Epoch 8/100\n",
      "32/32 [==============================] - 1s 28ms/step - loss: 4483.2988 - val_loss: 1936.8995\n",
      "Epoch 9/100\n",
      "32/32 [==============================] - 1s 33ms/step - loss: 3816.0215 - val_loss: 1550.9385\n",
      "Epoch 10/100\n",
      "32/32 [==============================] - 1s 29ms/step - loss: 3256.8657 - val_loss: 1246.3179\n",
      "Epoch 11/100\n",
      "32/32 [==============================] - 1s 24ms/step - loss: 2786.8735 - val_loss: 1023.9233\n",
      "Epoch 12/100\n",
      "32/32 [==============================] - 1s 25ms/step - loss: 2407.6470 - val_loss: 852.5593\n",
      "Epoch 13/100\n",
      "32/32 [==============================] - 1s 25ms/step - loss: 2093.4150 - val_loss: 739.9511\n",
      "Epoch 14/100\n",
      "32/32 [==============================] - 1s 25ms/step - loss: 1846.8406 - val_loss: 662.2847\n",
      "Epoch 15/100\n",
      "32/32 [==============================] - 1s 22ms/step - loss: 1641.4988 - val_loss: 618.5283\n",
      "Epoch 16/100\n",
      "32/32 [==============================] - 1s 23ms/step - loss: 1482.3743 - val_loss: 600.4811\n",
      "Epoch 17/100\n",
      "32/32 [==============================] - 1s 22ms/step - loss: 1358.1045 - val_loss: 600.6646\n",
      "Epoch 18/100\n",
      "32/32 [==============================] - 1s 22ms/step - loss: 1261.7280 - val_loss: 614.0236\n",
      "Epoch 19/100\n",
      "32/32 [==============================] - 1s 22ms/step - loss: 1188.4816 - val_loss: 637.2216\n",
      "Epoch 20/100\n",
      "32/32 [==============================] - 1s 22ms/step - loss: 1132.4801 - val_loss: 663.7577\n",
      "Epoch 21/100\n",
      "32/32 [==============================] - 1s 23ms/step - loss: 1090.0789 - val_loss: 696.5073\n",
      "Epoch 22/100\n",
      "32/32 [==============================] - 1s 22ms/step - loss: 1057.8015 - val_loss: 728.7744\n",
      "Epoch 23/100\n",
      "32/32 [==============================] - 1s 21ms/step - loss: 1035.1609 - val_loss: 758.0646\n",
      "Epoch 24/100\n",
      "32/32 [==============================] - 1s 22ms/step - loss: 1018.1119 - val_loss: 788.4527\n",
      "Epoch 25/100\n",
      "32/32 [==============================] - 1s 21ms/step - loss: 997.2116 - val_loss: 596.6511\n",
      "Epoch 26/100\n",
      "32/32 [==============================] - 1s 20ms/step - loss: 628.5459 - val_loss: 138.5781\n",
      "Epoch 27/100\n",
      "32/32 [==============================] - 1s 21ms/step - loss: 429.5806 - val_loss: 102.7014\n",
      "Epoch 28/100\n",
      "32/32 [==============================] - 1s 22ms/step - loss: 362.9213 - val_loss: 88.5451\n",
      "Epoch 29/100\n",
      "32/32 [==============================] - 1s 22ms/step - loss: 308.8596 - val_loss: 71.6033\n",
      "Epoch 30/100\n",
      "32/32 [==============================] - 1s 21ms/step - loss: 266.1098 - val_loss: 65.9293\n",
      "Epoch 31/100\n",
      "32/32 [==============================] - 1s 20ms/step - loss: 230.6477 - val_loss: 62.0625\n",
      "Epoch 32/100\n",
      "32/32 [==============================] - 1s 21ms/step - loss: 202.1089 - val_loss: 54.8566\n",
      "Epoch 33/100\n",
      "32/32 [==============================] - 1s 22ms/step - loss: 180.1849 - val_loss: 59.2853\n",
      "Epoch 34/100\n",
      "32/32 [==============================] - 1s 17ms/step - loss: 160.4700 - val_loss: 61.8723\n",
      "Epoch 35/100\n",
      "32/32 [==============================] - 1s 20ms/step - loss: 145.5698 - val_loss: 54.3928\n",
      "Epoch 36/100\n",
      "32/32 [==============================] - 1s 20ms/step - loss: 133.5383 - val_loss: 57.7161\n",
      "Epoch 37/100\n",
      "32/32 [==============================] - 1s 21ms/step - loss: 124.3414 - val_loss: 47.7358\n",
      "Epoch 38/100\n",
      "32/32 [==============================] - 1s 22ms/step - loss: 113.6974 - val_loss: 50.7501\n",
      "Epoch 39/100\n",
      "32/32 [==============================] - 1s 22ms/step - loss: 105.2323 - val_loss: 49.0155\n",
      "Epoch 40/100\n",
      "32/32 [==============================] - 1s 24ms/step - loss: 99.4470 - val_loss: 50.1905\n",
      "Epoch 41/100\n",
      "32/32 [==============================] - 1s 24ms/step - loss: 92.8801 - val_loss: 52.3540\n",
      "Epoch 42/100\n",
      "32/32 [==============================] - 1s 24ms/step - loss: 88.1862 - val_loss: 50.7728\n",
      "Epoch 43/100\n",
      "32/32 [==============================] - 1s 23ms/step - loss: 82.1723 - val_loss: 53.3830\n",
      "Epoch 44/100\n",
      "32/32 [==============================] - 1s 22ms/step - loss: 78.9135 - val_loss: 44.4514\n",
      "Epoch 45/100\n",
      "32/32 [==============================] - 1s 26ms/step - loss: 75.1416 - val_loss: 41.1894\n",
      "Epoch 46/100\n",
      "32/32 [==============================] - 1s 23ms/step - loss: 72.2777 - val_loss: 45.7512\n",
      "Epoch 47/100\n",
      "32/32 [==============================] - 1s 23ms/step - loss: 68.2868 - val_loss: 42.3790\n",
      "Epoch 48/100\n",
      "32/32 [==============================] - 1s 23ms/step - loss: 64.6747 - val_loss: 57.0928\n",
      "Epoch 49/100\n",
      "32/32 [==============================] - 1s 22ms/step - loss: 63.9431 - val_loss: 45.8460\n",
      "Epoch 50/100\n",
      "32/32 [==============================] - 1s 22ms/step - loss: 59.6640 - val_loss: 43.8805\n",
      "Epoch 51/100\n",
      "32/32 [==============================] - 1s 23ms/step - loss: 57.5881 - val_loss: 43.3315\n",
      "Epoch 52/100\n",
      "32/32 [==============================] - 1s 22ms/step - loss: 55.5562 - val_loss: 51.9587\n",
      "Epoch 53/100\n",
      "32/32 [==============================] - 1s 22ms/step - loss: 54.0149 - val_loss: 47.6632\n",
      "Epoch 54/100\n",
      "32/32 [==============================] - 1s 21ms/step - loss: 51.3500 - val_loss: 43.5399\n",
      "Epoch 55/100\n",
      "32/32 [==============================] - 1s 23ms/step - loss: 49.3895 - val_loss: 41.3121\n",
      "Epoch 56/100\n",
      "32/32 [==============================] - 1s 24ms/step - loss: 48.7306 - val_loss: 42.2418\n",
      "Epoch 57/100\n",
      "32/32 [==============================] - 1s 22ms/step - loss: 46.9164 - val_loss: 46.8511\n",
      "Epoch 58/100\n",
      "32/32 [==============================] - 1s 23ms/step - loss: 45.1444 - val_loss: 40.4027\n",
      "Epoch 59/100\n",
      "32/32 [==============================] - 1s 24ms/step - loss: 44.5901 - val_loss: 42.3695\n",
      "Epoch 60/100\n",
      "32/32 [==============================] - 1s 25ms/step - loss: 44.0594 - val_loss: 39.7981\n",
      "Epoch 61/100\n",
      "32/32 [==============================] - 1s 25ms/step - loss: 43.2941 - val_loss: 41.1761\n",
      "Epoch 62/100\n",
      "32/32 [==============================] - 1s 25ms/step - loss: 41.6552 - val_loss: 36.5717\n",
      "Epoch 63/100\n",
      "32/32 [==============================] - 1s 24ms/step - loss: 39.9722 - val_loss: 42.3896\n",
      "Epoch 64/100\n",
      "32/32 [==============================] - 1s 27ms/step - loss: 39.6260 - val_loss: 49.3888\n",
      "Epoch 65/100\n",
      "32/32 [==============================] - 1s 26ms/step - loss: 38.7033 - val_loss: 36.4263\n",
      "Epoch 66/100\n",
      "32/32 [==============================] - 1s 25ms/step - loss: 38.1158 - val_loss: 34.6885\n",
      "Epoch 67/100\n",
      "32/32 [==============================] - 1s 25ms/step - loss: 38.2432 - val_loss: 48.7485\n",
      "Epoch 68/100\n",
      "32/32 [==============================] - 1s 25ms/step - loss: 36.7591 - val_loss: 57.6494\n",
      "Epoch 69/100\n",
      "32/32 [==============================] - 1s 25ms/step - loss: 38.6380 - val_loss: 40.8990\n",
      "Epoch 70/100\n",
      "32/32 [==============================] - 1s 24ms/step - loss: 36.5656 - val_loss: 38.9994\n",
      "Epoch 71/100\n",
      "32/32 [==============================] - 1s 20ms/step - loss: 35.5869 - val_loss: 45.4816\n",
      "Epoch 72/100\n",
      "32/32 [==============================] - 1s 22ms/step - loss: 37.0626 - val_loss: 37.8577\n",
      "Epoch 73/100\n",
      "32/32 [==============================] - 1s 18ms/step - loss: 33.8322 - val_loss: 44.6064\n",
      "Epoch 74/100\n",
      "32/32 [==============================] - 1s 21ms/step - loss: 33.5411 - val_loss: 39.8762\n",
      "Epoch 75/100\n",
      "32/32 [==============================] - 1s 20ms/step - loss: 32.1684 - val_loss: 39.5842\n",
      "Epoch 76/100\n",
      "32/32 [==============================] - 1s 21ms/step - loss: 34.0501 - val_loss: 46.3204\n",
      "Epoch 77/100\n",
      "32/32 [==============================] - 1s 22ms/step - loss: 34.2287 - val_loss: 39.6836\n",
      "Epoch 78/100\n",
      "32/32 [==============================] - 1s 21ms/step - loss: 32.6483 - val_loss: 34.7482\n",
      "Epoch 79/100\n",
      "32/32 [==============================] - 1s 21ms/step - loss: 31.7232 - val_loss: 44.0238\n",
      "Epoch 80/100\n",
      "32/32 [==============================] - 1s 24ms/step - loss: 33.1780 - val_loss: 37.6590\n",
      "Epoch 81/100\n",
      "32/32 [==============================] - 1s 22ms/step - loss: 31.0365 - val_loss: 41.4506\n",
      "Epoch 82/100\n",
      "32/32 [==============================] - 1s 23ms/step - loss: 31.9170 - val_loss: 47.3848\n",
      "Epoch 83/100\n",
      "32/32 [==============================] - 1s 22ms/step - loss: 33.3997 - val_loss: 35.0037\n",
      "Epoch 84/100\n",
      "32/32 [==============================] - 1s 21ms/step - loss: 29.5430 - val_loss: 41.8147\n",
      "Epoch 85/100\n",
      "32/32 [==============================] - 1s 22ms/step - loss: 29.8768 - val_loss: 37.9376\n",
      "Epoch 86/100\n",
      "32/32 [==============================] - 1s 22ms/step - loss: 30.6752 - val_loss: 36.3723\n",
      "Epoch 87/100\n",
      "32/32 [==============================] - 1s 23ms/step - loss: 28.5287 - val_loss: 39.7913\n",
      "Epoch 88/100\n",
      "32/32 [==============================] - 1s 23ms/step - loss: 29.0204 - val_loss: 32.9987\n",
      "Epoch 89/100\n",
      "32/32 [==============================] - 1s 22ms/step - loss: 29.0370 - val_loss: 61.8648\n",
      "Epoch 90/100\n",
      "32/32 [==============================] - 1s 22ms/step - loss: 29.0115 - val_loss: 42.4631\n",
      "Epoch 91/100\n",
      "32/32 [==============================] - 1s 22ms/step - loss: 27.3122 - val_loss: 37.0015\n",
      "Epoch 92/100\n",
      "32/32 [==============================] - 1s 22ms/step - loss: 27.2249 - val_loss: 41.7097\n",
      "Epoch 93/100\n",
      "32/32 [==============================] - 1s 22ms/step - loss: 27.1946 - val_loss: 33.7253\n",
      "Epoch 94/100\n",
      "32/32 [==============================] - 1s 21ms/step - loss: 30.0902 - val_loss: 31.2052\n",
      "Epoch 95/100\n",
      "32/32 [==============================] - 1s 22ms/step - loss: 26.9757 - val_loss: 31.5494\n",
      "Epoch 96/100\n",
      "32/32 [==============================] - 1s 22ms/step - loss: 27.8042 - val_loss: 40.5432\n",
      "Epoch 97/100\n",
      "32/32 [==============================] - 1s 21ms/step - loss: 28.7716 - val_loss: 37.8332\n",
      "Epoch 98/100\n",
      "32/32 [==============================] - 1s 20ms/step - loss: 27.3701 - val_loss: 28.7751\n",
      "Epoch 99/100\n",
      "32/32 [==============================] - 1s 19ms/step - loss: 26.5212 - val_loss: 41.8872\n",
      "Epoch 100/100\n",
      "32/32 [==============================] - 1s 18ms/step - loss: 25.9910 - val_loss: 35.1532\n"
     ]
    }
   ],
   "source": [
    "history = model.fit(X_train_sc,y_train,epochs=100,validation_data=(X_test_sc,y_test))"
   ]
  },
  {
   "cell_type": "code",
   "execution_count": 27,
   "metadata": {
    "colab": {
     "base_uri": "https://localhost:8080/",
     "height": 282
    },
    "colab_type": "code",
    "id": "rNF-KH9HYdip",
    "outputId": "5013f127-68a8-4b6f-8e6e-cebcec315204"
   },
   "outputs": [
    {
     "data": {
      "text/plain": [
       "[<matplotlib.lines.Line2D at 0x16aa534c288>]"
      ]
     },
     "execution_count": 27,
     "metadata": {},
     "output_type": "execute_result"
    },
    {
     "data": {
      "image/png": "[encoded data removed]",
      "text/plain": [
       "<Figure size 432x288 with 1 Axes>"
      ]
     },
     "metadata": {
      "needs_background": "light"
     },
     "output_type": "display_data"
    }
   ],
   "source": [
    "tr_loss = history.history['loss']\n",
    "val_loss = history.history['val_loss']\n",
    "ep = list(range(1,101))\n",
    "plt.plot(ep,tr_loss,color='r')\n",
    "plt.plot(ep,val_loss,color='b')"
   ]
  },
  {
   "cell_type": "code",
   "execution_count": 28,
   "metadata": {
    "colab": {
     "base_uri": "https://localhost:8080/",
     "height": 1000
    },
    "colab_type": "code",
    "id": "3OOZvEjrZFYq",
    "outputId": "1edab1d5-b50c-4016-901d-2c66bb9aad03"
   },
   "outputs": [
    {
     "data": {
      "text/plain": [
       "array([[162.99294 ],\n",
       "       [162.4316  ],\n",
       "       [161.96486 ],\n",
       "       [161.7908  ],\n",
       "       [161.6479  ],\n",
       "       [162.23091 ],\n",
       "       [163.33916 ],\n",
       "       [164.12344 ],\n",
       "       [164.0975  ],\n",
       "       [163.77948 ],\n",
       "       [163.26537 ],\n",
       "       [162.64189 ],\n",
       "       [161.70708 ],\n",
       "       [160.79787 ],\n",
       "       [160.0237  ],\n",
       "       [159.02484 ],\n",
       "       [158.21956 ],\n",
       "       [157.67432 ],\n",
       "       [157.42381 ],\n",
       "       [157.20529 ],\n",
       "       [156.97935 ],\n",
       "       [156.46089 ],\n",
       "       [155.73085 ],\n",
       "       [155.23065 ],\n",
       "       [155.27785 ],\n",
       "       [155.38426 ],\n",
       "       [155.53796 ],\n",
       "       [155.23433 ],\n",
       "       [154.90332 ],\n",
       "       [154.6432  ],\n",
       "       [154.3437  ],\n",
       "       [154.04515 ],\n",
       "       [153.70726 ],\n",
       "       [153.22899 ],\n",
       "       [152.84985 ],\n",
       "       [152.39551 ],\n",
       "       [151.84148 ],\n",
       "       [151.30772 ],\n",
       "       [151.00563 ],\n",
       "       [150.83002 ],\n",
       "       [150.58827 ],\n",
       "       [149.84322 ],\n",
       "       [148.54744 ],\n",
       "       [147.27473 ],\n",
       "       [146.31349 ],\n",
       "       [145.8182  ],\n",
       "       [145.71144 ],\n",
       "       [145.73274 ],\n",
       "       [145.59145 ],\n",
       "       [145.239   ],\n",
       "       [144.91533 ],\n",
       "       [144.82828 ],\n",
       "       [145.42647 ],\n",
       "       [146.62419 ],\n",
       "       [147.97057 ],\n",
       "       [148.85728 ],\n",
       "       [149.08769 ],\n",
       "       [148.5855  ],\n",
       "       [147.83644 ],\n",
       "       [146.79703 ],\n",
       "       [145.91025 ],\n",
       "       [145.43349 ],\n",
       "       [145.80473 ],\n",
       "       [146.55498 ],\n",
       "       [147.50365 ],\n",
       "       [148.24892 ],\n",
       "       [148.79326 ],\n",
       "       [148.98103 ],\n",
       "       [148.96547 ],\n",
       "       [148.68324 ],\n",
       "       [148.63484 ],\n",
       "       [148.70816 ],\n",
       "       [148.75082 ],\n",
       "       [149.08958 ],\n",
       "       [149.52599 ],\n",
       "       [149.45045 ],\n",
       "       [147.87584 ],\n",
       "       [143.85875 ],\n",
       "       [138.8686  ],\n",
       "       [136.15865 ],\n",
       "       [135.56432 ],\n",
       "       [136.05287 ],\n",
       "       [136.85997 ],\n",
       "       [137.67218 ],\n",
       "       [137.59926 ],\n",
       "       [136.23605 ],\n",
       "       [133.94383 ],\n",
       "       [131.72237 ],\n",
       "       [130.48373 ],\n",
       "       [130.67935 ],\n",
       "       [131.45822 ],\n",
       "       [132.29094 ],\n",
       "       [132.13324 ],\n",
       "       [131.37364 ],\n",
       "       [130.2444  ],\n",
       "       [128.29497 ],\n",
       "       [125.90282 ],\n",
       "       [123.93968 ],\n",
       "       [122.65605 ],\n",
       "       [122.38623 ],\n",
       "       [122.348785],\n",
       "       [121.76866 ],\n",
       "       [120.08415 ],\n",
       "       [118.53201 ],\n",
       "       [117.126114],\n",
       "       [114.684525],\n",
       "       [110.649124],\n",
       "       [106.55426 ],\n",
       "       [104.100815],\n",
       "       [103.25314 ],\n",
       "       [102.97861 ],\n",
       "       [103.199005],\n",
       "       [103.62335 ],\n",
       "       [103.83852 ],\n",
       "       [103.68608 ],\n",
       "       [103.45834 ],\n",
       "       [104.075134],\n",
       "       [105.31099 ],\n",
       "       [106.6758  ],\n",
       "       [107.67682 ],\n",
       "       [108.88602 ],\n",
       "       [110.66568 ],\n",
       "       [112.546005],\n",
       "       [113.862564],\n",
       "       [114.99654 ],\n",
       "       [115.59396 ],\n",
       "       [115.42973 ],\n",
       "       [114.52046 ],\n",
       "       [113.29776 ],\n",
       "       [112.45615 ],\n",
       "       [111.93793 ],\n",
       "       [110.03288 ],\n",
       "       [108.44377 ],\n",
       "       [106.283936],\n",
       "       [101.94313 ],\n",
       "       [ 96.71153 ],\n",
       "       [ 93.51141 ],\n",
       "       [ 92.922   ],\n",
       "       [ 94.07962 ],\n",
       "       [ 94.907135],\n",
       "       [ 95.12996 ],\n",
       "       [ 94.94862 ],\n",
       "       [ 94.98303 ],\n",
       "       [ 95.44916 ],\n",
       "       [ 96.10535 ],\n",
       "       [ 96.70686 ],\n",
       "       [ 97.34209 ],\n",
       "       [ 97.81639 ],\n",
       "       [ 97.73775 ],\n",
       "       [ 96.995544],\n",
       "       [ 96.105515],\n",
       "       [ 95.62288 ],\n",
       "       [ 95.79819 ],\n",
       "       [ 96.80081 ],\n",
       "       [ 98.42171 ],\n",
       "       [ 99.70337 ],\n",
       "       [100.201324],\n",
       "       [ 99.538666],\n",
       "       [ 98.19484 ],\n",
       "       [ 96.85622 ],\n",
       "       [ 95.94159 ],\n",
       "       [ 96.04062 ],\n",
       "       [ 97.01752 ],\n",
       "       [ 98.23659 ],\n",
       "       [ 99.36177 ],\n",
       "       [100.08247 ],\n",
       "       [100.19624 ],\n",
       "       [ 99.98981 ],\n",
       "       [ 99.33388 ],\n",
       "       [ 97.91507 ],\n",
       "       [ 96.20744 ],\n",
       "       [ 94.496216],\n",
       "       [ 92.949905],\n",
       "       [ 91.602264],\n",
       "       [ 90.25511 ],\n",
       "       [ 89.002304],\n",
       "       [ 87.870316],\n",
       "       [ 87.16724 ],\n",
       "       [ 87.17651 ],\n",
       "       [ 87.46742 ],\n",
       "       [ 87.48511 ],\n",
       "       [ 87.11432 ],\n",
       "       [ 86.688705],\n",
       "       [ 85.96716 ],\n",
       "       [ 85.31319 ],\n",
       "       [ 84.8586  ],\n",
       "       [ 84.44437 ],\n",
       "       [ 84.01727 ],\n",
       "       [ 83.56462 ],\n",
       "       [ 83.21344 ],\n",
       "       [ 83.01781 ],\n",
       "       [ 82.90614 ],\n",
       "       [ 82.813324],\n",
       "       [ 82.601   ],\n",
       "       [ 82.4164  ],\n",
       "       [ 83.18753 ],\n",
       "       [ 83.95213 ],\n",
       "       [ 85.176926],\n",
       "       [ 87.25032 ],\n",
       "       [ 89.85567 ],\n",
       "       [ 91.25394 ],\n",
       "       [ 91.0677  ],\n",
       "       [ 90.36157 ],\n",
       "       [ 90.165146],\n",
       "       [ 90.18239 ],\n",
       "       [ 90.672104],\n",
       "       [ 91.491196],\n",
       "       [ 93.01547 ],\n",
       "       [ 95.88927 ],\n",
       "       [ 99.07544 ],\n",
       "       [101.262115],\n",
       "       [102.33261 ],\n",
       "       [102.56755 ],\n",
       "       [101.98712 ],\n",
       "       [101.099594],\n",
       "       [100.76564 ],\n",
       "       [101.4854  ],\n",
       "       [102.718414],\n",
       "       [103.61658 ],\n",
       "       [103.498245],\n",
       "       [102.933624],\n",
       "       [102.602325],\n",
       "       [102.38284 ],\n",
       "       [102.00366 ],\n",
       "       [101.480225],\n",
       "       [101.484116],\n",
       "       [101.971146],\n",
       "       [102.56659 ],\n",
       "       [102.76221 ],\n",
       "       [103.45204 ],\n",
       "       [105.24393 ],\n",
       "       [107.95979 ],\n",
       "       [110.70459 ],\n",
       "       [112.82689 ],\n",
       "       [113.979935],\n",
       "       [114.471954],\n",
       "       [114.468445],\n",
       "       [114.98323 ],\n",
       "       [116.03853 ],\n",
       "       [117.10196 ],\n",
       "       [117.79405 ],\n",
       "       [118.2776  ],\n",
       "       [118.933914],\n",
       "       [119.81589 ],\n",
       "       [120.8363  ],\n",
       "       [121.83179 ],\n",
       "       [122.586105],\n",
       "       [123.20654 ],\n",
       "       [123.50238 ],\n",
       "       [122.82185 ],\n",
       "       [121.301254]], dtype=float32)"
      ]
     },
     "execution_count": 28,
     "metadata": {},
     "output_type": "execute_result"
    }
   ],
   "source": [
    "model.predict(X_test_sc)"
   ]
  },
  {
   "cell_type": "code",
   "execution_count": 29,
   "metadata": {
    "colab": {
     "base_uri": "https://localhost:8080/",
     "height": 282
    },
    "colab_type": "code",
    "id": "cZazbwoqZfgU",
    "outputId": "e7bde043-f9e2-47c1-d014-ed8cb32c2ed9"
   },
   "outputs": [
    {
     "data": {
      "text/plain": [
       "[<matplotlib.lines.Line2D at 0x16aa42ca088>]"
      ]
     },
     "execution_count": 29,
     "metadata": {},
     "output_type": "execute_result"
    },
    {
     "data": {
      "image/png": "[encoded data removed]",
      "text/plain": [
       "<Figure size 432x288 with 1 Axes>"
      ]
     },
     "metadata": {
      "needs_background": "light"
     },
     "output_type": "display_data"
    }
   ],
   "source": [
    "plt.plot(range(len(X_test_sc)),model.predict(X_test_sc).flat)\n",
    "plt.plot(range(len(X_test_sc)),y_test)"
   ]
  },
  {
   "cell_type": "markdown",
   "metadata": {
    "colab_type": "text",
    "id": "1RTmBZ7sx1-y"
   },
   "source": [
    "### Reshape the inputs"
   ]
  },
  {
   "cell_type": "code",
   "execution_count": 30,
   "metadata": {
    "colab": {
     "base_uri": "https://localhost:8080/",
     "height": 134
    },
    "colab_type": "code",
    "id": "h74LtriKZhhp",
    "outputId": "9df1bb6f-0e16-42bb-a60f-d6b3982f18b0"
   },
   "outputs": [
    {
     "data": {
      "text/plain": [
       "array([[[0.9024883 ],\n",
       "        [0.88855397],\n",
       "        [0.77141492],\n",
       "        [0.82535467],\n",
       "        [0.83681087],\n",
       "        [0.75642114],\n",
       "        [0.72018917]]])"
      ]
     },
     "execution_count": 30,
     "metadata": {},
     "output_type": "execute_result"
    }
   ],
   "source": [
    "X_test_sc[0].reshape(1,7,1)"
   ]
  },
  {
   "cell_type": "code",
   "execution_count": 31,
   "metadata": {
    "colab": {
     "base_uri": "https://localhost:8080/",
     "height": 34
    },
    "colab_type": "code",
    "id": "3VolYQoFZmBh",
    "outputId": "d78031a0-b548-4719-a451-3e52e2fe0baf"
   },
   "outputs": [
    {
     "data": {
      "text/plain": [
       "array([[162.99294]], dtype=float32)"
      ]
     },
     "execution_count": 31,
     "metadata": {},
     "output_type": "execute_result"
    }
   ],
   "source": [
    "model.predict(X_test_sc[0].reshape(1,7,1))"
   ]
  },
  {
   "cell_type": "code",
   "execution_count": 32,
   "metadata": {
    "colab": {
     "base_uri": "https://localhost:8080/",
     "height": 34
    },
    "colab_type": "code",
    "id": "BhrM6fY-ZpVD",
    "outputId": "2ae80446-8a69-4a97-edf5-a554094f937d"
   },
   "outputs": [
    {
     "data": {
      "text/plain": [
       "162.73"
      ]
     },
     "execution_count": 32,
     "metadata": {},
     "output_type": "execute_result"
    }
   ],
   "source": [
    "y_test[1000]"
   ]
  },
  {
   "cell_type": "markdown",
   "metadata": {
    "colab_type": "text",
    "id": "hwAnnF18x9BC"
   },
   "source": [
    "### Create a Model"
   ]
  },
  {
   "cell_type": "code",
   "execution_count": 33,
   "metadata": {
    "colab": {
     "base_uri": "https://localhost:8080/",
     "height": 252
    },
    "colab_type": "code",
    "id": "xbK0gEL-ZraI",
    "outputId": "8be60c3e-4296-4036-faa8-552b7fbe656c"
   },
   "outputs": [
    {
     "name": "stdout",
     "output_type": "stream",
     "text": [
      "Model: \"sequential_1\"\n",
      "_________________________________________________________________\n",
      "Layer (type)                 Output Shape              Param #   \n",
      "=================================================================\n",
      "lstm_1 (LSTM)                (None, 256)               264192    \n",
      "_________________________________________________________________\n",
      "dropout (Dropout)            (None, 256)               0         \n",
      "_________________________________________________________________\n",
      "dense_1 (Dense)              (None, 1)                 257       \n",
      "=================================================================\n",
      "Total params: 264,449\n",
      "Trainable params: 264,449\n",
      "Non-trainable params: 0\n",
      "_________________________________________________________________\n"
     ]
    }
   ],
   "source": [
    "from keras.models import Sequential\n",
    "from keras.layers import Dense,Dropout,LSTM\n",
    "model2 = Sequential()\n",
    "# 256 cels\n",
    "model2.add(LSTM(256,input_shape=(7,1)))\n",
    "model2.add(Dropout(0.3))\n",
    "# single neuron\n",
    "model2.add(Dense(1))\n",
    "model2.summary()"
   ]
  },
  {
   "cell_type": "markdown",
   "metadata": {
    "colab_type": "text",
    "id": "aFYV_BGqyFyK"
   },
   "source": [
    "### Compile the model with the proper optimizer and loss"
   ]
  },
  {
   "cell_type": "code",
   "execution_count": 34,
   "metadata": {
    "colab": {},
    "colab_type": "code",
    "id": "k7NhUqXPZwOH"
   },
   "outputs": [],
   "source": [
    "model2.compile(optimizer='adam',loss='mse')"
   ]
  },
  {
   "cell_type": "code",
   "execution_count": 35,
   "metadata": {
    "colab": {
     "base_uri": "https://localhost:8080/",
     "height": 1000
    },
    "colab_type": "code",
    "id": "lp7YT_TBZzUO",
    "outputId": "ac417f7b-55d5-4518-8485-fe4f38c400c7"
   },
   "outputs": [
    {
     "name": "stdout",
     "output_type": "stream",
     "text": [
      "Epoch 1/100\n",
      "32/32 [==============================] - 2s 57ms/step - loss: 17807.0117 - val_loss: 11545.0361\n",
      "Epoch 2/100\n",
      "32/32 [==============================] - 1s 21ms/step - loss: 12552.2129 - val_loss: 7301.4712\n",
      "Epoch 3/100\n",
      "32/32 [==============================] - 1s 21ms/step - loss: 10375.1953 - val_loss: 5918.7988\n",
      "Epoch 4/100\n",
      "32/32 [==============================] - 1s 21ms/step - loss: 8808.3936 - val_loss: 4800.1504\n",
      "Epoch 5/100\n",
      "32/32 [==============================] - 1s 22ms/step - loss: 7485.3838 - val_loss: 3888.5308\n",
      "Epoch 6/100\n",
      "32/32 [==============================] - 1s 22ms/step - loss: 6399.6743 - val_loss: 3148.6333\n",
      "Epoch 7/100\n",
      "32/32 [==============================] - 1s 22ms/step - loss: 5448.9473 - val_loss: 2534.1265\n",
      "Epoch 8/100\n",
      "32/32 [==============================] - 1s 20ms/step - loss: 4662.3945 - val_loss: 2035.6207\n",
      "Epoch 9/100\n",
      "32/32 [==============================] - 1s 20ms/step - loss: 3988.2852 - val_loss: 1635.6079\n",
      "Epoch 10/100\n",
      "32/32 [==============================] - 1s 19ms/step - loss: 3405.4792 - val_loss: 1324.3066\n",
      "Epoch 11/100\n",
      "32/32 [==============================] - 1s 21ms/step - loss: 2923.7468 - val_loss: 1083.2327\n",
      "Epoch 12/100\n",
      "32/32 [==============================] - 1s 22ms/step - loss: 2540.3821 - val_loss: 904.5200\n",
      "Epoch 13/100\n",
      "32/32 [==============================] - 1s 19ms/step - loss: 2230.7976 - val_loss: 774.7515\n",
      "Epoch 14/100\n",
      "32/32 [==============================] - 1s 22ms/step - loss: 1949.4066 - val_loss: 689.4066\n",
      "Epoch 15/100\n",
      "32/32 [==============================] - 1s 23ms/step - loss: 1747.9260 - val_loss: 635.5266\n",
      "Epoch 16/100\n",
      "32/32 [==============================] - 1s 22ms/step - loss: 1547.1589 - val_loss: 607.0789\n",
      "Epoch 17/100\n",
      "32/32 [==============================] - 1s 21ms/step - loss: 1446.8204 - val_loss: 598.5912\n",
      "Epoch 18/100\n",
      "32/32 [==============================] - 1s 21ms/step - loss: 1311.3416 - val_loss: 605.6111\n",
      "Epoch 19/100\n",
      "32/32 [==============================] - 1s 19ms/step - loss: 1253.7407 - val_loss: 622.9447\n",
      "Epoch 20/100\n",
      "32/32 [==============================] - 1s 21ms/step - loss: 1173.3363 - val_loss: 647.3456\n",
      "Epoch 21/100\n",
      "32/32 [==============================] - 1s 20ms/step - loss: 1158.8009 - val_loss: 674.6213\n",
      "Epoch 22/100\n",
      "32/32 [==============================] - 1s 22ms/step - loss: 1090.4172 - val_loss: 702.9370\n",
      "Epoch 23/100\n",
      "32/32 [==============================] - 1s 22ms/step - loss: 1080.1951 - val_loss: 722.0729\n",
      "Epoch 24/100\n",
      "32/32 [==============================] - 1s 19ms/step - loss: 1053.6995 - val_loss: 744.0069\n",
      "Epoch 25/100\n",
      "32/32 [==============================] - 1s 19ms/step - loss: 1028.9207 - val_loss: 674.8364\n",
      "Epoch 26/100\n",
      "32/32 [==============================] - 1s 24ms/step - loss: 706.6130 - val_loss: 146.3521\n",
      "Epoch 27/100\n",
      "32/32 [==============================] - 1s 19ms/step - loss: 482.3255 - val_loss: 123.7835\n",
      "Epoch 28/100\n",
      "32/32 [==============================] - 1s 20ms/step - loss: 418.9527 - val_loss: 95.0248\n",
      "Epoch 29/100\n",
      "32/32 [==============================] - 1s 23ms/step - loss: 359.5936 - val_loss: 89.9826\n",
      "Epoch 30/100\n",
      "32/32 [==============================] - 1s 20ms/step - loss: 329.4298 - val_loss: 79.5924\n",
      "Epoch 31/100\n",
      "32/32 [==============================] - 1s 18ms/step - loss: 286.8882 - val_loss: 62.8568\n",
      "Epoch 32/100\n",
      "32/32 [==============================] - 1s 22ms/step - loss: 244.1898 - val_loss: 59.9612\n",
      "Epoch 33/100\n",
      "32/32 [==============================] - 1s 22ms/step - loss: 227.0761 - val_loss: 55.8317\n",
      "Epoch 34/100\n",
      "32/32 [==============================] - 1s 24ms/step - loss: 214.7788 - val_loss: 65.4976\n",
      "Epoch 35/100\n",
      "32/32 [==============================] - 1s 24ms/step - loss: 186.7775 - val_loss: 63.3011\n",
      "Epoch 36/100\n",
      "32/32 [==============================] - 1s 23ms/step - loss: 171.2797 - val_loss: 55.9697\n",
      "Epoch 37/100\n",
      "32/32 [==============================] - 1s 25ms/step - loss: 167.5585 - val_loss: 62.4422\n",
      "Epoch 38/100\n",
      "32/32 [==============================] - 1s 26ms/step - loss: 160.9542 - val_loss: 47.9702\n",
      "Epoch 39/100\n",
      "32/32 [==============================] - 1s 23ms/step - loss: 143.2289 - val_loss: 54.3770\n",
      "Epoch 40/100\n",
      "32/32 [==============================] - 1s 23ms/step - loss: 143.8963 - val_loss: 50.1679\n",
      "Epoch 41/100\n",
      "32/32 [==============================] - 1s 24ms/step - loss: 138.9167 - val_loss: 59.7889\n",
      "Epoch 42/100\n",
      "32/32 [==============================] - 1s 22ms/step - loss: 134.3420 - val_loss: 51.5489\n",
      "Epoch 43/100\n",
      "32/32 [==============================] - 1s 21ms/step - loss: 124.3388 - val_loss: 51.6109\n",
      "Epoch 44/100\n",
      "32/32 [==============================] - 1s 25ms/step - loss: 126.5880 - val_loss: 44.6755\n",
      "Epoch 45/100\n",
      "32/32 [==============================] - 1s 23ms/step - loss: 109.2083 - val_loss: 47.9625\n",
      "Epoch 46/100\n",
      "32/32 [==============================] - 1s 18ms/step - loss: 116.3728 - val_loss: 58.8484\n",
      "Epoch 47/100\n",
      "32/32 [==============================] - 1s 23ms/step - loss: 113.1258 - val_loss: 52.9481\n",
      "Epoch 48/100\n",
      "32/32 [==============================] - 1s 23ms/step - loss: 111.9205 - val_loss: 38.6578\n",
      "Epoch 49/100\n",
      "32/32 [==============================] - 1s 25ms/step - loss: 101.8824 - val_loss: 54.7377\n",
      "Epoch 50/100\n",
      "32/32 [==============================] - 1s 21ms/step - loss: 102.4094 - val_loss: 42.5197\n",
      "Epoch 51/100\n",
      "32/32 [==============================] - 1s 20ms/step - loss: 97.4133 - val_loss: 51.2799\n",
      "Epoch 52/100\n",
      "32/32 [==============================] - 1s 22ms/step - loss: 104.6258 - val_loss: 74.0104\n",
      "Epoch 53/100\n",
      "32/32 [==============================] - 1s 22ms/step - loss: 101.2309 - val_loss: 49.9448\n",
      "Epoch 54/100\n",
      "32/32 [==============================] - 1s 21ms/step - loss: 93.9395 - val_loss: 45.5483\n",
      "Epoch 55/100\n",
      "32/32 [==============================] - 1s 19ms/step - loss: 94.4782 - val_loss: 42.4476\n",
      "Epoch 56/100\n",
      "32/32 [==============================] - 1s 24ms/step - loss: 85.6522 - val_loss: 50.4307\n",
      "Epoch 57/100\n",
      "32/32 [==============================] - 1s 22ms/step - loss: 94.0765 - val_loss: 52.0211\n",
      "Epoch 58/100\n",
      "32/32 [==============================] - 1s 23ms/step - loss: 94.9000 - val_loss: 45.3243\n",
      "Epoch 59/100\n",
      "32/32 [==============================] - 1s 22ms/step - loss: 93.7754 - val_loss: 36.9954\n",
      "Epoch 60/100\n",
      "32/32 [==============================] - 1s 20ms/step - loss: 95.3909 - val_loss: 38.6056\n",
      "Epoch 61/100\n",
      "32/32 [==============================] - 1s 20ms/step - loss: 82.1682 - val_loss: 43.4320\n",
      "Epoch 62/100\n",
      "32/32 [==============================] - 1s 20ms/step - loss: 85.8798 - val_loss: 46.3006\n",
      "Epoch 63/100\n",
      "32/32 [==============================] - 1s 22ms/step - loss: 80.1867 - val_loss: 46.1122\n",
      "Epoch 64/100\n",
      "32/32 [==============================] - 1s 18ms/step - loss: 80.3894 - val_loss: 39.5670\n",
      "Epoch 65/100\n",
      "32/32 [==============================] - 1s 19ms/step - loss: 84.2295 - val_loss: 38.5026\n",
      "Epoch 66/100\n",
      "32/32 [==============================] - 1s 21ms/step - loss: 78.9444 - val_loss: 44.9697\n",
      "Epoch 67/100\n",
      "32/32 [==============================] - 1s 22ms/step - loss: 74.2461 - val_loss: 44.1377\n",
      "Epoch 68/100\n",
      "32/32 [==============================] - 1s 22ms/step - loss: 77.5752 - val_loss: 42.7024\n",
      "Epoch 69/100\n",
      "32/32 [==============================] - 1s 22ms/step - loss: 79.9853 - val_loss: 46.5534\n",
      "Epoch 70/100\n",
      "32/32 [==============================] - 1s 22ms/step - loss: 75.2534 - val_loss: 42.8790\n",
      "Epoch 71/100\n",
      "32/32 [==============================] - 1s 21ms/step - loss: 79.9504 - val_loss: 37.0562\n",
      "Epoch 72/100\n",
      "32/32 [==============================] - 1s 23ms/step - loss: 79.3507 - val_loss: 38.9677\n",
      "Epoch 73/100\n",
      "32/32 [==============================] - 1s 23ms/step - loss: 76.8096 - val_loss: 48.6398\n",
      "Epoch 74/100\n",
      "32/32 [==============================] - 1s 23ms/step - loss: 73.1382 - val_loss: 53.4436\n",
      "Epoch 75/100\n",
      "32/32 [==============================] - 1s 22ms/step - loss: 75.2855 - val_loss: 41.7145\n",
      "Epoch 76/100\n",
      "32/32 [==============================] - 1s 22ms/step - loss: 75.1533 - val_loss: 40.4724\n",
      "Epoch 77/100\n",
      "32/32 [==============================] - 1s 22ms/step - loss: 77.5370 - val_loss: 43.5262\n",
      "Epoch 78/100\n",
      "32/32 [==============================] - 1s 24ms/step - loss: 71.4635 - val_loss: 34.9846\n",
      "Epoch 79/100\n",
      "32/32 [==============================] - 1s 26ms/step - loss: 72.9569 - val_loss: 35.5339\n",
      "Epoch 80/100\n",
      "32/32 [==============================] - 1s 22ms/step - loss: 72.4755 - val_loss: 35.4534\n",
      "Epoch 81/100\n",
      "32/32 [==============================] - 1s 22ms/step - loss: 67.8832 - val_loss: 34.9251\n",
      "Epoch 82/100\n",
      "32/32 [==============================] - 1s 22ms/step - loss: 75.8682 - val_loss: 34.9162\n",
      "Epoch 83/100\n",
      "32/32 [==============================] - 1s 23ms/step - loss: 69.2341 - val_loss: 32.8234\n",
      "Epoch 84/100\n",
      "32/32 [==============================] - 1s 22ms/step - loss: 67.5889 - val_loss: 29.2137\n",
      "Epoch 85/100\n",
      "32/32 [==============================] - 1s 23ms/step - loss: 67.9576 - val_loss: 48.5515\n",
      "Epoch 86/100\n",
      "32/32 [==============================] - 1s 22ms/step - loss: 66.2430 - val_loss: 39.5359\n",
      "Epoch 87/100\n",
      "32/32 [==============================] - 1s 22ms/step - loss: 66.1463 - val_loss: 43.5135\n",
      "Epoch 88/100\n",
      "32/32 [==============================] - 1s 22ms/step - loss: 66.1509 - val_loss: 51.7844\n",
      "Epoch 89/100\n",
      "32/32 [==============================] - 1s 21ms/step - loss: 68.8538 - val_loss: 34.1908\n",
      "Epoch 90/100\n",
      "32/32 [==============================] - 1s 23ms/step - loss: 70.3676 - val_loss: 30.3825\n",
      "Epoch 91/100\n",
      "32/32 [==============================] - 1s 21ms/step - loss: 72.8436 - val_loss: 32.3270\n",
      "Epoch 92/100\n",
      "32/32 [==============================] - 1s 22ms/step - loss: 67.7971 - val_loss: 38.1094\n",
      "Epoch 93/100\n",
      "32/32 [==============================] - 1s 22ms/step - loss: 67.6792 - val_loss: 31.6270\n",
      "Epoch 94/100\n",
      "32/32 [==============================] - 1s 22ms/step - loss: 64.3147 - val_loss: 45.0280\n",
      "Epoch 95/100\n",
      "32/32 [==============================] - 1s 21ms/step - loss: 68.1537 - val_loss: 35.3296\n",
      "Epoch 96/100\n",
      "32/32 [==============================] - 1s 21ms/step - loss: 64.7511 - val_loss: 26.5496\n",
      "Epoch 97/100\n",
      "32/32 [==============================] - 1s 21ms/step - loss: 66.6904 - val_loss: 33.0623\n",
      "Epoch 98/100\n",
      "32/32 [==============================] - 1s 21ms/step - loss: 64.8339 - val_loss: 48.3219\n",
      "Epoch 99/100\n",
      "32/32 [==============================] - 1s 21ms/step - loss: 63.9240 - val_loss: 44.7711\n",
      "Epoch 100/100\n",
      "32/32 [==============================] - 1s 21ms/step - loss: 64.3056 - val_loss: 26.0989\n"
     ]
    }
   ],
   "source": [
    "history2 = model2.fit(X_train_sc,y_train,epochs=100,validation_data=(X_test_sc,y_test))"
   ]
  },
  {
   "cell_type": "markdown",
   "metadata": {
    "colab_type": "text",
    "id": "2ezhoAIuycz0"
   },
   "source": [
    "### Evaluate the model with test data\n",
    " \n"
   ]
  },
  {
   "cell_type": "code",
   "execution_count": 36,
   "metadata": {
    "colab": {
     "base_uri": "https://localhost:8080/",
     "height": 282
    },
    "colab_type": "code",
    "id": "WeGG3zNJZ1c2",
    "outputId": "52d995a2-95b3-4efe-bd21-bd5afe7d9a7f"
   },
   "outputs": [
    {
     "data": {
      "text/plain": [
       "[<matplotlib.lines.Line2D at 0x16aa9d10088>]"
      ]
     },
     "execution_count": 36,
     "metadata": {},
     "output_type": "execute_result"
    },
    {
     "data": {
      "image/png": "[encoded data removed]",
      "text/plain": [
       "<Figure size 432x288 with 1 Axes>"
      ]
     },
     "metadata": {
      "needs_background": "light"
     },
     "output_type": "display_data"
    }
   ],
   "source": [
    "tr_loss = history2.history['loss']\n",
    "val_loss = history2.history['val_loss']\n",
    "ep = list(range(1,101))\n",
    "plt.plot(ep,tr_loss,color='r')\n",
    "plt.plot(ep,val_loss,color='b')"
   ]
  }
 ],
 "metadata": {
  "colab": {
   "name": "Assignment - (16 JULY 2020).ipynb",
   "provenance": []
  },
  "kernelspec": {
   "display_name": "Python 3",
   "language": "python",
   "name": "python3"
  },
  "language_info": {
   "codemirror_mode": {
    "name": "ipython",
    "version": 3
   },
   "file_extension": ".py",
   "mimetype": "text/x-python",
   "name": "python",
   "nbconvert_exporter": "python",
   "pygments_lexer": "ipython3",
   "version": "3.7.6"
  }
 },
 "nbformat": 4,
 "nbformat_minor": 1
}
