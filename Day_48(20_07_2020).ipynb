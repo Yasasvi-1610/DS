{
  "nbformat": 4,
  "nbformat_minor": 0,
  "metadata": {
    "colab": {
      "name": "Day 48(20-07-2020)",
      "provenance": []
    },
    "kernelspec": {
      "name": "python3",
      "display_name": "Python 3"
    }
  },
  "cells": [
    {
      "cell_type": "markdown",
      "metadata": {
        "id": "KeZXwBUpQIol",
        "colab_type": "text"
      },
      "source": [
        "[Audio Preprocessing](https://www.kdnuggets.com/2020/02/audio-data-analysis-deep-learning-python-part-1.html)<br>\n",
        "[librosa](https://medium.com/@patrickbfuller/librosa-a-python-audio-libary-60014eeaccfb)<br>\n",
        "[link text](http://man.hubwiz.com/docset/LibROSA.docset/Contents/Resources/Documents/generated/librosa.feature.mfcc.html)"
      ]
    },
    {
      "cell_type": "code",
      "metadata": {
        "id": "bNgFZMSu8Xc1",
        "colab_type": "code",
        "colab": {}
      },
      "source": [
        "# Audio preprocessing\n",
        "import librosa\n",
        "## Signal represention graph\n",
        "import librosa.display\n",
        "\n",
        "import numpy as np\n",
        "import matplotlib.pyplot as plt\n",
        "## for the CNN modle\n",
        "import tensorflow as tf\n",
        "from matplotlib.pyplot import specgram\n",
        "import keras\n",
        "from keras.preprocessing import sequence\n",
        "from keras.models import Sequential\n",
        "from keras.layers import Dense, Embedding\n",
        "from keras.layers import LSTM\n",
        "from keras.preprocessing.text import Tokenizer\n",
        "from keras.preprocessing.sequence import pad_sequences\n",
        "from keras.utils import to_categorical\n",
        "from keras.layers import Input, Flatten, Dropout, Activation\n",
        "from keras.layers import Conv1D, MaxPooling1D, AveragePooling1D\n",
        "from keras.models import Model\n",
        "from keras.callbacks import ModelCheckpoint\n",
        "from sklearn.metrics import confusion_matrix"
      ],
      "execution_count": null,
      "outputs": []
    },
    {
      "cell_type": "code",
      "metadata": {
        "id": "MAE2gQwfYU8W",
        "colab_type": "code",
        "colab": {}
      },
      "source": [
        "# To mount the drive\n",
        "from google.colab import drive\n",
        "drive.mount('/gdrive')\n",
        "%cd /gdrive"
      ],
      "execution_count": null,
      "outputs": []
    },
    {
      "cell_type": "code",
      "metadata": {
        "id": "lZNlUMJP9NL9",
        "colab_type": "code",
        "colab": {
          "base_uri": "https://localhost:8080/",
          "height": 34
        },
        "outputId": "d947640b-d1fd-408f-dd68-0e75c41d9698"
      },
      "source": [
        "## Listout the files in the data folder\n",
        "import os\n",
        "os.listdir('/content/drive/My Drive/Courses Taken 2020/Summer Internship/AudioData')"
      ],
      "execution_count": null,
      "outputs": [
        {
          "output_type": "execute_result",
          "data": {
            "text/plain": [
              "['DC', 'Info.txt', 'JE', 'KL', 'JK']"
            ]
          },
          "metadata": {
            "tags": []
          },
          "execution_count": 142
        }
      ]
    },
    {
      "cell_type": "code",
      "metadata": {
        "id": "3aN69BWI-POM",
        "colab_type": "code",
        "colab": {}
      },
      "source": [
        "sample_file = '/content/drive/My Drive/Courses Taken 2020/Summer Internship/AudioData/DC/a01.wav'"
      ],
      "execution_count": null,
      "outputs": []
    },
    {
      "cell_type": "code",
      "metadata": {
        "id": "_Ash7SK1-ass",
        "colab_type": "code",
        "colab": {}
      },
      "source": [
        "# Load the audio data with librosa from .wav file\n",
        "# input path \n",
        "data, sampling_rate = librosa.load(sample_file)\n",
        "# output is data teh discrete values, sampling rate"
      ],
      "execution_count": null,
      "outputs": []
    },
    {
      "cell_type": "code",
      "metadata": {
        "id": "P3R1zSHbAEvk",
        "colab_type": "code",
        "colab": {
          "base_uri": "https://localhost:8080/",
          "height": 34
        },
        "outputId": "5c59e8d5-182d-4918-ba0a-ff7f8dbe1f4b"
      },
      "source": [
        "## Audio sampled data ouput shape\n",
        "data.shape"
      ],
      "execution_count": null,
      "outputs": [
        {
          "output_type": "execute_result",
          "data": {
            "text/plain": [
              "(80434,)"
            ]
          },
          "metadata": {
            "tags": []
          },
          "execution_count": 145
        }
      ]
    },
    {
      "cell_type": "code",
      "metadata": {
        "id": "Pc2ANuoFZg_7",
        "colab_type": "code",
        "colab": {
          "base_uri": "https://localhost:8080/",
          "height": 34
        },
        "outputId": "1cc7f2b3-da3d-4575-d368-92d9a01fa453"
      },
      "source": [
        "# sampling rate\n",
        "sampling_rate"
      ],
      "execution_count": null,
      "outputs": [
        {
          "output_type": "execute_result",
          "data": {
            "text/plain": [
              "22050"
            ]
          },
          "metadata": {
            "tags": []
          },
          "execution_count": 146
        }
      ]
    },
    {
      "cell_type": "code",
      "metadata": {
        "id": "sCm1St7XZ95K",
        "colab_type": "code",
        "colab": {
          "base_uri": "https://localhost:8080/",
          "height": 67
        },
        "outputId": "556cc001-9167-424f-b6cb-cbc42006c8bc"
      },
      "source": [
        "## data\n",
        "data[:10]"
      ],
      "execution_count": null,
      "outputs": [
        {
          "output_type": "execute_result",
          "data": {
            "text/plain": [
              "array([0.03537439, 0.05184603, 0.04569934, 0.04965753, 0.04663509,\n",
              "       0.04879001, 0.04705136, 0.04866577, 0.04766231, 0.04865323],\n",
              "      dtype=float32)"
            ]
          },
          "metadata": {
            "tags": []
          },
          "execution_count": 148
        }
      ]
    },
    {
      "cell_type": "code",
      "metadata": {
        "id": "zowkKwc1aJW9",
        "colab_type": "code",
        "colab": {
          "base_uri": "https://localhost:8080/",
          "height": 34
        },
        "outputId": "e97075b0-776d-45ab-af61-df95d5f1f65e"
      },
      "source": [
        "print(type(data))"
      ],
      "execution_count": null,
      "outputs": [
        {
          "output_type": "stream",
          "text": [
            "<class 'numpy.ndarray'>\n"
          ],
          "name": "stdout"
        }
      ]
    },
    {
      "cell_type": "code",
      "metadata": {
        "id": "77xV8oLvaOnM",
        "colab_type": "code",
        "colab": {
          "base_uri": "https://localhost:8080/",
          "height": 67
        },
        "outputId": "bbdc9a91-d07f-4495-dd5c-3a5f4290a3a1"
      },
      "source": [
        "print(data.max())\n",
        "print(data.min())\n",
        "print(data.mean())"
      ],
      "execution_count": null,
      "outputs": [
        {
          "output_type": "stream",
          "text": [
            "0.91246253\n",
            "-1.0036622\n",
            "0.04223855\n"
          ],
          "name": "stdout"
        }
      ]
    },
    {
      "cell_type": "code",
      "metadata": {
        "id": "C7y61F1R-O5i",
        "colab_type": "code",
        "colab": {
          "base_uri": "https://localhost:8080/",
          "height": 370
        },
        "outputId": "c7348ed6-f9b3-4d8a-cee7-c19d378d64c6"
      },
      "source": [
        "% pylab inline\n",
        "import os\n",
        "import pandas as pd\n",
        "import librosa\n",
        "import glob \n",
        "\n",
        "plt.figure(figsize=(15, 5))\n",
        "librosa.display.waveplot(data, sr=sampling_rate)"
      ],
      "execution_count": null,
      "outputs": [
        {
          "output_type": "stream",
          "text": [
            "Populating the interactive namespace from numpy and matplotlib\n"
          ],
          "name": "stdout"
        },
        {
          "output_type": "execute_result",
          "data": {
            "text/plain": [
              "<matplotlib.collections.PolyCollection at 0x7f2038ab5c88>"
            ]
          },
          "metadata": {
            "tags": []
          },
          "execution_count": 147
        },
        {
          "output_type": "display_data",
          "data": {
            "image/png": "[encoded data removed]",
            "text/plain": [
              "<Figure size 1080x360 with 1 Axes>"
            ]
          },
          "metadata": {
            "tags": [],
            "needs_background": "light"
          }
        }
      ]
    },
    {
      "cell_type": "code",
      "metadata": {
        "id": "Wc5_idHPfEd6",
        "colab_type": "code",
        "colab": {
          "base_uri": "https://localhost:8080/",
          "height": 34
        },
        "outputId": "55777056-98b6-4712-87a6-2edfff7f0d6c"
      },
      "source": [
        "X, sample_rate = librosa.load(sample_file, res_type='kaiser_fast',duration=2.5,sr=22050*2,offset=0.5)\n",
        "X.shape"
      ],
      "execution_count": null,
      "outputs": [
        {
          "output_type": "execute_result",
          "data": {
            "text/plain": [
              "(110250,)"
            ]
          },
          "metadata": {
            "tags": []
          },
          "execution_count": 173
        }
      ]
    },
    {
      "cell_type": "code",
      "metadata": {
        "id": "XkEI1tNaiT3O",
        "colab_type": "code",
        "colab": {
          "base_uri": "https://localhost:8080/",
          "height": 34
        },
        "outputId": "ac7587a1-2d27-4584-f989-9ac2e135ead8"
      },
      "source": [
        "10*22050*2"
      ],
      "execution_count": null,
      "outputs": [
        {
          "output_type": "execute_result",
          "data": {
            "text/plain": [
              "441000"
            ]
          },
          "metadata": {
            "tags": []
          },
          "execution_count": 174
        }
      ]
    },
    {
      "cell_type": "code",
      "metadata": {
        "id": "N7Sr05xdfWQ6",
        "colab_type": "code",
        "colab": {
          "base_uri": "https://localhost:8080/",
          "height": 50
        },
        "outputId": "545903ba-f3fe-4d0c-8015-1e39d7bf1cfe"
      },
      "source": [
        "X[:-100]"
      ],
      "execution_count": null,
      "outputs": [
        {
          "output_type": "execute_result",
          "data": {
            "text/plain": [
              "array([0.08215332, 0.0809021 , 0.07754517, ..., 0.0402832 , 0.04049683,\n",
              "       0.04067993], dtype=float32)"
            ]
          },
          "metadata": {
            "tags": []
          },
          "execution_count": 168
        }
      ]
    },
    {
      "cell_type": "code",
      "metadata": {
        "id": "8dxDMcoDfvg5",
        "colab_type": "code",
        "colab": {
          "base_uri": "https://localhost:8080/",
          "height": 235
        },
        "outputId": "0a7cb411-4748-4069-d3a5-fb56937277d5"
      },
      "source": [
        "librosa.feature.mfcc(y=X, sr=sample_rate, n_mfcc=13)"
      ],
      "execution_count": null,
      "outputs": [
        {
          "output_type": "execute_result",
          "data": {
            "text/plain": [
              "array([[-318.34907634, -289.72019185, -269.75849637, ..., -219.42767604,\n",
              "        -209.46609287, -180.1187328 ],\n",
              "       [  83.44985313,  135.30527971,  182.35460902, ...,  229.88559252,\n",
              "         238.01667462,  248.71813002],\n",
              "       [ -54.12408135,   -7.18993656,   16.98681678, ...,   -4.90131715,\n",
              "          -0.33663499,   -1.15097019],\n",
              "       ...,\n",
              "       [ -11.183432  ,  -10.80955344,   -9.52499654, ...,  -32.88296871,\n",
              "         -32.24869379,  -24.09375983],\n",
              "       [ -10.36455051,  -15.87282497,  -20.11362012, ...,  -16.86774535,\n",
              "         -12.20967621,  -13.46425284],\n",
              "       [  -0.92029628,   -8.4874924 ,  -13.82025247, ...,    4.01767426,\n",
              "           8.50465788,   10.81932434]])"
            ]
          },
          "metadata": {
            "tags": []
          },
          "execution_count": 160
        }
      ]
    },
    {
      "cell_type": "code",
      "metadata": {
        "id": "clUqG-kDfzmu",
        "colab_type": "code",
        "colab": {
          "base_uri": "https://localhost:8080/",
          "height": 34
        },
        "outputId": "375a6316-a4d7-4d24-c4c6-344bfc8b2181"
      },
      "source": [
        "librosa.feature.mfcc(y=X, sr=sample_rate, n_mfcc=13).shape"
      ],
      "execution_count": null,
      "outputs": [
        {
          "output_type": "execute_result",
          "data": {
            "text/plain": [
              "(13, 216)"
            ]
          },
          "metadata": {
            "tags": []
          },
          "execution_count": 161
        }
      ]
    },
    {
      "cell_type": "code",
      "metadata": {
        "id": "MEiL1Pgpfm7R",
        "colab_type": "code",
        "colab": {
          "base_uri": "https://localhost:8080/",
          "height": 34
        },
        "outputId": "ecac0dc4-3de4-4acd-aff3-5504c0e17cbf"
      },
      "source": [
        "np.mean(librosa.feature.mfcc(y=X, sr=sample_rate, n_mfcc=13),axis=0).shape"
      ],
      "execution_count": null,
      "outputs": [
        {
          "output_type": "execute_result",
          "data": {
            "text/plain": [
              "(216,)"
            ]
          },
          "metadata": {
            "tags": []
          },
          "execution_count": 163
        }
      ]
    },
    {
      "cell_type": "code",
      "metadata": {
        "id": "q92_uwKTgpQp",
        "colab_type": "code",
        "colab": {
          "base_uri": "https://localhost:8080/",
          "height": 34
        },
        "outputId": "e927b7b1-a89b-4cbb-8ceb-3b3f799323a0"
      },
      "source": [
        "os.listdir(base_path)"
      ],
      "execution_count": null,
      "outputs": [
        {
          "output_type": "execute_result",
          "data": {
            "text/plain": [
              "['DC', 'Info.txt', 'JE', 'KL', 'JK']"
            ]
          },
          "metadata": {
            "tags": []
          },
          "execution_count": 164
        }
      ]
    },
    {
      "cell_type": "code",
      "metadata": {
        "id": "st96yvXn_b4b",
        "colab_type": "code",
        "colab": {
          "base_uri": "https://localhost:8080/",
          "height": 34
        },
        "outputId": "7c774ed5-e5ae-4f6a-baef-5dfda88c3939"
      },
      "source": [
        "base_path = '/content/drive/My Drive/Courses Taken 2020/Summer Internship/AudioData'\n",
        "folders = [fol  for fol in os.listdir(base_path) if os.path.isdir(base_path+'/'+fol)]\n",
        "folders"
      ],
      "execution_count": null,
      "outputs": [
        {
          "output_type": "execute_result",
          "data": {
            "text/plain": [
              "['DC', 'JE', 'KL', 'JK']"
            ]
          },
          "metadata": {
            "tags": []
          },
          "execution_count": 153
        }
      ]
    },
    {
      "cell_type": "code",
      "metadata": {
        "id": "wvMXD8dk8nA6",
        "colab_type": "code",
        "colab": {
          "base_uri": "https://localhost:8080/",
          "height": 84
        },
        "outputId": "20cffb45-f24f-4f74-b735-b18eca2e9ebb"
      },
      "source": [
        "df = pd.DataFrame(columns=['feature']) # empty dataframe with a single column feature\n",
        "bookmark=0 # Row count\n",
        "for cls,per in enumerate(folders): # Folder name with label\n",
        "  # labels are from 0 to 3\n",
        "  print(cls,per)\n",
        "\n",
        "  for name in os.listdir(base_path+'/'+per):\n",
        "        X, sample_rate = librosa.load(base_path+'/'+per+'/'+name, res_type='kaiser_fast',duration=2.5,sr=22050*2,offset=0.5)\n",
        "        # shape of x is sr*duration\n",
        "        sample_rate = np.array(sample_rate)\n",
        "        mfccs = np.mean(librosa.feature.mfcc(y=X, \n",
        "                                            sr=sample_rate, \n",
        "                                            n_mfcc=13),\n",
        "                        axis=0)\n",
        "        # 216 values\n",
        "        feature = mfccs\n",
        "        # Appending class label to numpy array\n",
        "        feature = np.append(feature,cls)\n",
        "        # In each row we have a single column\n",
        "        # In that column I have a numpy array as value\n",
        "        df.loc[bookmark] = [feature]\n",
        "        bookmark=bookmark+1"
      ],
      "execution_count": null,
      "outputs": [
        {
          "output_type": "stream",
          "text": [
            "0 DC\n",
            "1 JE\n",
            "2 KL\n",
            "3 JK\n"
          ],
          "name": "stdout"
        }
      ]
    },
    {
      "cell_type": "code",
      "metadata": {
        "id": "HC09oq-9ioF2",
        "colab_type": "code",
        "colab": {
          "base_uri": "https://localhost:8080/",
          "height": 195
        },
        "outputId": "16f1cecc-0a02-4a66-b8e7-68d6d55dcb8c"
      },
      "source": [
        "# Top 5 rows\n",
        "df.head()"
      ],
      "execution_count": null,
      "outputs": [
        {
          "output_type": "execute_result",
          "data": {
            "text/html": [
              "<div>\n",
              "<style scoped>\n",
              "    .dataframe tbody tr th:only-of-type {\n",
              "        vertical-align: middle;\n",
              "    }\n",
              "\n",
              "    .dataframe tbody tr th {\n",
              "        vertical-align: top;\n",
              "    }\n",
              "\n",
              "    .dataframe thead th {\n",
              "        text-align: right;\n",
              "    }\n",
              "</style>\n",
              "<table border=\"1\" class=\"dataframe\">\n",
              "  <thead>\n",
              "    <tr style=\"text-align: right;\">\n",
              "      <th></th>\n",
              "      <th>feature</th>\n",
              "    </tr>\n",
              "  </thead>\n",
              "  <tbody>\n",
              "    <tr>\n",
              "      <th>0</th>\n",
              "      <td>[-22.524902101459574, -22.20888749145798, -24....</td>\n",
              "    </tr>\n",
              "    <tr>\n",
              "      <th>1</th>\n",
              "      <td>[-5.186610461448468, -6.954901833569995, -8.51...</td>\n",
              "    </tr>\n",
              "    <tr>\n",
              "      <th>2</th>\n",
              "      <td>[-17.140371036763575, -12.269744525501487, -9....</td>\n",
              "    </tr>\n",
              "    <tr>\n",
              "      <th>3</th>\n",
              "      <td>[-13.442276774499996, -8.020598554877814, -5.9...</td>\n",
              "    </tr>\n",
              "    <tr>\n",
              "      <th>4</th>\n",
              "      <td>[-26.308570244098238, -24.952420640915427, -25...</td>\n",
              "    </tr>\n",
              "  </tbody>\n",
              "</table>\n",
              "</div>"
            ],
            "text/plain": [
              "                                             feature\n",
              "0  [-22.524902101459574, -22.20888749145798, -24....\n",
              "1  [-5.186610461448468, -6.954901833569995, -8.51...\n",
              "2  [-17.140371036763575, -12.269744525501487, -9....\n",
              "3  [-13.442276774499996, -8.020598554877814, -5.9...\n",
              "4  [-26.308570244098238, -24.952420640915427, -25..."
            ]
          },
          "metadata": {
            "tags": []
          },
          "execution_count": 175
        }
      ]
    },
    {
      "cell_type": "code",
      "metadata": {
        "id": "vHYKrA6EivXu",
        "colab_type": "code",
        "colab": {
          "base_uri": "https://localhost:8080/",
          "height": 34
        },
        "outputId": "8ffe1ca5-1f31-447a-968a-08eef1b2d53b"
      },
      "source": [
        "df['feature'][0].shape"
      ],
      "execution_count": null,
      "outputs": [
        {
          "output_type": "execute_result",
          "data": {
            "text/plain": [
              "(217,)"
            ]
          },
          "metadata": {
            "tags": []
          },
          "execution_count": 177
        }
      ]
    },
    {
      "cell_type": "code",
      "metadata": {
        "id": "wgQdHC9Yi883",
        "colab_type": "code",
        "colab": {
          "base_uri": "https://localhost:8080/",
          "height": 34
        },
        "outputId": "a8b63b08-b950-4f85-962a-33a8f6c1bf54"
      },
      "source": [
        "df['feature'][0][-1]"
      ],
      "execution_count": null,
      "outputs": [
        {
          "output_type": "execute_result",
          "data": {
            "text/plain": [
              "0.0"
            ]
          },
          "metadata": {
            "tags": []
          },
          "execution_count": 178
        }
      ]
    },
    {
      "cell_type": "code",
      "metadata": {
        "id": "M_Rm2MPw_7ej",
        "colab_type": "code",
        "colab": {
          "base_uri": "https://localhost:8080/",
          "height": 34
        },
        "outputId": "d5989b1a-decf-4b3c-c7f5-c06d291e1313"
      },
      "source": [
        "df.shape"
      ],
      "execution_count": null,
      "outputs": [
        {
          "output_type": "execute_result",
          "data": {
            "text/plain": [
              "(480, 1)"
            ]
          },
          "metadata": {
            "tags": []
          },
          "execution_count": 179
        }
      ]
    },
    {
      "cell_type": "code",
      "metadata": {
        "id": "4tvshQGzAft1",
        "colab_type": "code",
        "colab": {
          "base_uri": "https://localhost:8080/",
          "height": 34
        },
        "outputId": "4edaa13c-76c6-4f58-981c-41d69e9633d8"
      },
      "source": [
        "df.iloc[0][0].shape"
      ],
      "execution_count": null,
      "outputs": [
        {
          "output_type": "execute_result",
          "data": {
            "text/plain": [
              "(217,)"
            ]
          },
          "metadata": {
            "tags": []
          },
          "execution_count": 90
        }
      ]
    },
    {
      "cell_type": "code",
      "metadata": {
        "id": "fmg0KYFDAl0M",
        "colab_type": "code",
        "colab": {
          "base_uri": "https://localhost:8080/",
          "height": 126
        },
        "outputId": "726d92c9-fb6c-4b9a-941c-6d56b12d6ec0"
      },
      "source": [
        "df2 = pd.DataFrame(df['feature'].values.tolist())\n",
        "df2.sample()"
      ],
      "execution_count": null,
      "outputs": [
        {
          "output_type": "execute_result",
          "data": {
            "text/html": [
              "<div>\n",
              "<style scoped>\n",
              "    .dataframe tbody tr th:only-of-type {\n",
              "        vertical-align: middle;\n",
              "    }\n",
              "\n",
              "    .dataframe tbody tr th {\n",
              "        vertical-align: top;\n",
              "    }\n",
              "\n",
              "    .dataframe thead th {\n",
              "        text-align: right;\n",
              "    }\n",
              "</style>\n",
              "<table border=\"1\" class=\"dataframe\">\n",
              "  <thead>\n",
              "    <tr style=\"text-align: right;\">\n",
              "      <th></th>\n",
              "      <th>0</th>\n",
              "      <th>1</th>\n",
              "      <th>2</th>\n",
              "      <th>3</th>\n",
              "      <th>4</th>\n",
              "      <th>5</th>\n",
              "      <th>6</th>\n",
              "      <th>7</th>\n",
              "      <th>8</th>\n",
              "      <th>9</th>\n",
              "      <th>10</th>\n",
              "      <th>11</th>\n",
              "      <th>12</th>\n",
              "      <th>13</th>\n",
              "      <th>14</th>\n",
              "      <th>15</th>\n",
              "      <th>16</th>\n",
              "      <th>17</th>\n",
              "      <th>18</th>\n",
              "      <th>19</th>\n",
              "      <th>20</th>\n",
              "      <th>21</th>\n",
              "      <th>22</th>\n",
              "      <th>23</th>\n",
              "      <th>24</th>\n",
              "      <th>25</th>\n",
              "      <th>26</th>\n",
              "      <th>27</th>\n",
              "      <th>28</th>\n",
              "      <th>29</th>\n",
              "      <th>30</th>\n",
              "      <th>31</th>\n",
              "      <th>32</th>\n",
              "      <th>33</th>\n",
              "      <th>34</th>\n",
              "      <th>35</th>\n",
              "      <th>36</th>\n",
              "      <th>37</th>\n",
              "      <th>38</th>\n",
              "      <th>39</th>\n",
              "      <th>...</th>\n",
              "      <th>177</th>\n",
              "      <th>178</th>\n",
              "      <th>179</th>\n",
              "      <th>180</th>\n",
              "      <th>181</th>\n",
              "      <th>182</th>\n",
              "      <th>183</th>\n",
              "      <th>184</th>\n",
              "      <th>185</th>\n",
              "      <th>186</th>\n",
              "      <th>187</th>\n",
              "      <th>188</th>\n",
              "      <th>189</th>\n",
              "      <th>190</th>\n",
              "      <th>191</th>\n",
              "      <th>192</th>\n",
              "      <th>193</th>\n",
              "      <th>194</th>\n",
              "      <th>195</th>\n",
              "      <th>196</th>\n",
              "      <th>197</th>\n",
              "      <th>198</th>\n",
              "      <th>199</th>\n",
              "      <th>200</th>\n",
              "      <th>201</th>\n",
              "      <th>202</th>\n",
              "      <th>203</th>\n",
              "      <th>204</th>\n",
              "      <th>205</th>\n",
              "      <th>206</th>\n",
              "      <th>207</th>\n",
              "      <th>208</th>\n",
              "      <th>209</th>\n",
              "      <th>210</th>\n",
              "      <th>211</th>\n",
              "      <th>212</th>\n",
              "      <th>213</th>\n",
              "      <th>214</th>\n",
              "      <th>215</th>\n",
              "      <th>216</th>\n",
              "    </tr>\n",
              "  </thead>\n",
              "  <tbody>\n",
              "    <tr>\n",
              "      <th>308</th>\n",
              "      <td>-18.004732</td>\n",
              "      <td>-19.842549</td>\n",
              "      <td>-23.641967</td>\n",
              "      <td>-23.839151</td>\n",
              "      <td>-23.334801</td>\n",
              "      <td>-24.146894</td>\n",
              "      <td>-24.223353</td>\n",
              "      <td>-24.207293</td>\n",
              "      <td>-24.933519</td>\n",
              "      <td>-25.270631</td>\n",
              "      <td>-26.308751</td>\n",
              "      <td>-25.500184</td>\n",
              "      <td>-23.975435</td>\n",
              "      <td>-23.854417</td>\n",
              "      <td>-22.827926</td>\n",
              "      <td>-22.968332</td>\n",
              "      <td>-23.412856</td>\n",
              "      <td>-23.741059</td>\n",
              "      <td>-24.192163</td>\n",
              "      <td>-24.27769</td>\n",
              "      <td>-24.961989</td>\n",
              "      <td>-23.818676</td>\n",
              "      <td>-23.752498</td>\n",
              "      <td>-24.1</td>\n",
              "      <td>-25.856992</td>\n",
              "      <td>-25.617683</td>\n",
              "      <td>-24.81142</td>\n",
              "      <td>-24.392661</td>\n",
              "      <td>-24.946983</td>\n",
              "      <td>-25.188451</td>\n",
              "      <td>-26.261412</td>\n",
              "      <td>-24.190969</td>\n",
              "      <td>-23.894941</td>\n",
              "      <td>-24.485374</td>\n",
              "      <td>-25.230861</td>\n",
              "      <td>-26.162921</td>\n",
              "      <td>-25.066719</td>\n",
              "      <td>-24.766667</td>\n",
              "      <td>-23.087464</td>\n",
              "      <td>-22.103977</td>\n",
              "      <td>...</td>\n",
              "      <td>-32.130049</td>\n",
              "      <td>-34.72066</td>\n",
              "      <td>-39.103775</td>\n",
              "      <td>-41.604873</td>\n",
              "      <td>-43.559795</td>\n",
              "      <td>-43.659526</td>\n",
              "      <td>-42.913156</td>\n",
              "      <td>-43.169406</td>\n",
              "      <td>-44.516376</td>\n",
              "      <td>-45.821643</td>\n",
              "      <td>-36.886166</td>\n",
              "      <td>-30.010738</td>\n",
              "      <td>-26.536955</td>\n",
              "      <td>-26.068943</td>\n",
              "      <td>-25.371833</td>\n",
              "      <td>-24.765041</td>\n",
              "      <td>-25.059435</td>\n",
              "      <td>-25.620013</td>\n",
              "      <td>-25.443911</td>\n",
              "      <td>-25.549983</td>\n",
              "      <td>-26.798419</td>\n",
              "      <td>-27.832134</td>\n",
              "      <td>-28.233763</td>\n",
              "      <td>-27.746996</td>\n",
              "      <td>-28.06868</td>\n",
              "      <td>-29.803245</td>\n",
              "      <td>-30.661294</td>\n",
              "      <td>-32.483238</td>\n",
              "      <td>-35.797565</td>\n",
              "      <td>-40.210187</td>\n",
              "      <td>-42.988366</td>\n",
              "      <td>-40.496127</td>\n",
              "      <td>-35.968635</td>\n",
              "      <td>-30.394701</td>\n",
              "      <td>-26.159234</td>\n",
              "      <td>-25.761408</td>\n",
              "      <td>-25.781085</td>\n",
              "      <td>-24.155154</td>\n",
              "      <td>-21.725846</td>\n",
              "      <td>2.0</td>\n",
              "    </tr>\n",
              "  </tbody>\n",
              "</table>\n",
              "<p>1 rows × 217 columns</p>\n",
              "</div>"
            ],
            "text/plain": [
              "           0          1          2    ...        214        215  216\n",
              "308 -18.004732 -19.842549 -23.641967  ... -24.155154 -21.725846  2.0\n",
              "\n",
              "[1 rows x 217 columns]"
            ]
          },
          "metadata": {
            "tags": []
          },
          "execution_count": 180
        }
      ]
    },
    {
      "cell_type": "code",
      "metadata": {
        "id": "Ptui9kBYjfAW",
        "colab_type": "code",
        "colab": {
          "base_uri": "https://localhost:8080/",
          "height": 218
        },
        "outputId": "5ceff45f-a23a-40e5-f0e6-9dbe1b738588"
      },
      "source": [
        "df2.isnull().sum(axis=1)"
      ],
      "execution_count": null,
      "outputs": [
        {
          "output_type": "execute_result",
          "data": {
            "text/plain": [
              "0      0\n",
              "1      0\n",
              "2      0\n",
              "3      0\n",
              "4      0\n",
              "      ..\n",
              "475    0\n",
              "476    0\n",
              "477    0\n",
              "478    0\n",
              "479    0\n",
              "Length: 480, dtype: int64"
            ]
          },
          "metadata": {
            "tags": []
          },
          "execution_count": 182
        }
      ]
    },
    {
      "cell_type": "code",
      "metadata": {
        "id": "5hJgZzPIjW-c",
        "colab_type": "code",
        "colab": {
          "base_uri": "https://localhost:8080/",
          "height": 218
        },
        "outputId": "18ba2505-9bf2-4f62-afcc-59c04f22d0f9"
      },
      "source": [
        "df2.isnull().sum()"
      ],
      "execution_count": null,
      "outputs": [
        {
          "output_type": "execute_result",
          "data": {
            "text/plain": [
              "0        0\n",
              "1        0\n",
              "2        0\n",
              "3        0\n",
              "4        0\n",
              "      ... \n",
              "212    100\n",
              "213    101\n",
              "214    101\n",
              "215    102\n",
              "216    103\n",
              "Length: 217, dtype: int64"
            ]
          },
          "metadata": {
            "tags": []
          },
          "execution_count": 181
        }
      ]
    },
    {
      "cell_type": "code",
      "metadata": {
        "id": "tSE9zZLmNsDl",
        "colab_type": "code",
        "colab": {}
      },
      "source": [
        "df2 = df2.dropna()"
      ],
      "execution_count": null,
      "outputs": []
    },
    {
      "cell_type": "code",
      "metadata": {
        "id": "yNad8ESgBbwp",
        "colab_type": "code",
        "colab": {
          "base_uri": "https://localhost:8080/",
          "height": 34
        },
        "outputId": "bdb2b9aa-b0bb-4c0c-9052-388862c3a0af"
      },
      "source": [
        "df2[216].value_counts().sum()"
      ],
      "execution_count": null,
      "outputs": [
        {
          "output_type": "execute_result",
          "data": {
            "text/plain": [
              "377"
            ]
          },
          "metadata": {
            "tags": []
          },
          "execution_count": 184
        }
      ]
    },
    {
      "cell_type": "code",
      "metadata": {
        "id": "tBdkfFzuMNXg",
        "colab_type": "code",
        "colab": {
          "base_uri": "https://localhost:8080/",
          "height": 34
        },
        "outputId": "b5ac6dce-d26a-440f-ea21-b4eb698e43f9"
      },
      "source": [
        "df2[216].isnull().sum()"
      ],
      "execution_count": null,
      "outputs": [
        {
          "output_type": "execute_result",
          "data": {
            "text/plain": [
              "0"
            ]
          },
          "metadata": {
            "tags": []
          },
          "execution_count": 185
        }
      ]
    },
    {
      "cell_type": "code",
      "metadata": {
        "id": "hN6ft1BbNaog",
        "colab_type": "code",
        "colab": {}
      },
      "source": [
        ""
      ],
      "execution_count": null,
      "outputs": []
    },
    {
      "cell_type": "code",
      "metadata": {
        "id": "nrng_pjmBj9t",
        "colab_type": "code",
        "colab": {
          "base_uri": "https://localhost:8080/",
          "height": 34
        },
        "outputId": "e489ffa8-d603-4c34-9c65-a8072a07e1de"
      },
      "source": [
        "df2.shape"
      ],
      "execution_count": null,
      "outputs": [
        {
          "output_type": "execute_result",
          "data": {
            "text/plain": [
              "(377, 217)"
            ]
          },
          "metadata": {
            "tags": []
          },
          "execution_count": 186
        }
      ]
    },
    {
      "cell_type": "code",
      "metadata": {
        "id": "wvdVlndcBpZ5",
        "colab_type": "code",
        "colab": {
          "base_uri": "https://localhost:8080/",
          "height": 244
        },
        "outputId": "6366dbf2-d04a-43ab-ad0d-1ca159761ca4"
      },
      "source": [
        "new_df = df2.rename(columns={216: \"label\"})\n",
        "new_df.head()"
      ],
      "execution_count": null,
      "outputs": [
        {
          "output_type": "execute_result",
          "data": {
            "text/html": [
              "<div>\n",
              "<style scoped>\n",
              "    .dataframe tbody tr th:only-of-type {\n",
              "        vertical-align: middle;\n",
              "    }\n",
              "\n",
              "    .dataframe tbody tr th {\n",
              "        vertical-align: top;\n",
              "    }\n",
              "\n",
              "    .dataframe thead th {\n",
              "        text-align: right;\n",
              "    }\n",
              "</style>\n",
              "<table border=\"1\" class=\"dataframe\">\n",
              "  <thead>\n",
              "    <tr style=\"text-align: right;\">\n",
              "      <th></th>\n",
              "      <th>0</th>\n",
              "      <th>1</th>\n",
              "      <th>2</th>\n",
              "      <th>3</th>\n",
              "      <th>4</th>\n",
              "      <th>5</th>\n",
              "      <th>6</th>\n",
              "      <th>7</th>\n",
              "      <th>8</th>\n",
              "      <th>9</th>\n",
              "      <th>10</th>\n",
              "      <th>11</th>\n",
              "      <th>12</th>\n",
              "      <th>13</th>\n",
              "      <th>14</th>\n",
              "      <th>15</th>\n",
              "      <th>16</th>\n",
              "      <th>17</th>\n",
              "      <th>18</th>\n",
              "      <th>19</th>\n",
              "      <th>20</th>\n",
              "      <th>21</th>\n",
              "      <th>22</th>\n",
              "      <th>23</th>\n",
              "      <th>24</th>\n",
              "      <th>25</th>\n",
              "      <th>26</th>\n",
              "      <th>27</th>\n",
              "      <th>28</th>\n",
              "      <th>29</th>\n",
              "      <th>30</th>\n",
              "      <th>31</th>\n",
              "      <th>32</th>\n",
              "      <th>33</th>\n",
              "      <th>34</th>\n",
              "      <th>35</th>\n",
              "      <th>36</th>\n",
              "      <th>37</th>\n",
              "      <th>38</th>\n",
              "      <th>39</th>\n",
              "      <th>...</th>\n",
              "      <th>177</th>\n",
              "      <th>178</th>\n",
              "      <th>179</th>\n",
              "      <th>180</th>\n",
              "      <th>181</th>\n",
              "      <th>182</th>\n",
              "      <th>183</th>\n",
              "      <th>184</th>\n",
              "      <th>185</th>\n",
              "      <th>186</th>\n",
              "      <th>187</th>\n",
              "      <th>188</th>\n",
              "      <th>189</th>\n",
              "      <th>190</th>\n",
              "      <th>191</th>\n",
              "      <th>192</th>\n",
              "      <th>193</th>\n",
              "      <th>194</th>\n",
              "      <th>195</th>\n",
              "      <th>196</th>\n",
              "      <th>197</th>\n",
              "      <th>198</th>\n",
              "      <th>199</th>\n",
              "      <th>200</th>\n",
              "      <th>201</th>\n",
              "      <th>202</th>\n",
              "      <th>203</th>\n",
              "      <th>204</th>\n",
              "      <th>205</th>\n",
              "      <th>206</th>\n",
              "      <th>207</th>\n",
              "      <th>208</th>\n",
              "      <th>209</th>\n",
              "      <th>210</th>\n",
              "      <th>211</th>\n",
              "      <th>212</th>\n",
              "      <th>213</th>\n",
              "      <th>214</th>\n",
              "      <th>215</th>\n",
              "      <th>label</th>\n",
              "    </tr>\n",
              "  </thead>\n",
              "  <tbody>\n",
              "    <tr>\n",
              "      <th>0</th>\n",
              "      <td>-22.524902</td>\n",
              "      <td>-22.208887</td>\n",
              "      <td>-24.005843</td>\n",
              "      <td>-24.024116</td>\n",
              "      <td>-22.797543</td>\n",
              "      <td>-23.048337</td>\n",
              "      <td>-23.729386</td>\n",
              "      <td>-22.437185</td>\n",
              "      <td>-14.011244</td>\n",
              "      <td>-9.044641</td>\n",
              "      <td>-7.724232</td>\n",
              "      <td>-8.467503</td>\n",
              "      <td>-8.946239</td>\n",
              "      <td>-9.058219</td>\n",
              "      <td>-8.106055</td>\n",
              "      <td>-6.820057</td>\n",
              "      <td>-6.728450</td>\n",
              "      <td>-7.185192</td>\n",
              "      <td>-8.514035</td>\n",
              "      <td>-8.720271</td>\n",
              "      <td>-10.650831</td>\n",
              "      <td>-10.707384</td>\n",
              "      <td>-10.986039</td>\n",
              "      <td>-11.683027</td>\n",
              "      <td>-11.144586</td>\n",
              "      <td>-11.920536</td>\n",
              "      <td>-11.244743</td>\n",
              "      <td>-10.948799</td>\n",
              "      <td>-10.761151</td>\n",
              "      <td>-11.470045</td>\n",
              "      <td>-11.875884</td>\n",
              "      <td>-11.489210</td>\n",
              "      <td>-11.715768</td>\n",
              "      <td>-10.388436</td>\n",
              "      <td>-10.403201</td>\n",
              "      <td>-8.536229</td>\n",
              "      <td>-7.323166</td>\n",
              "      <td>-8.814609</td>\n",
              "      <td>-13.099437</td>\n",
              "      <td>-17.154389</td>\n",
              "      <td>...</td>\n",
              "      <td>-12.028208</td>\n",
              "      <td>-9.513662</td>\n",
              "      <td>-9.113670</td>\n",
              "      <td>-8.657270</td>\n",
              "      <td>-8.125623</td>\n",
              "      <td>-9.048409</td>\n",
              "      <td>-13.967228</td>\n",
              "      <td>-18.531909</td>\n",
              "      <td>-22.399454</td>\n",
              "      <td>-23.629573</td>\n",
              "      <td>-24.200903</td>\n",
              "      <td>-21.651318</td>\n",
              "      <td>-21.586084</td>\n",
              "      <td>-22.029809</td>\n",
              "      <td>-21.051281</td>\n",
              "      <td>-22.768007</td>\n",
              "      <td>-23.662347</td>\n",
              "      <td>-23.558486</td>\n",
              "      <td>-22.293811</td>\n",
              "      <td>-20.789314</td>\n",
              "      <td>-20.137737</td>\n",
              "      <td>-20.876769</td>\n",
              "      <td>-21.858270</td>\n",
              "      <td>-21.330486</td>\n",
              "      <td>-23.948082</td>\n",
              "      <td>-24.553751</td>\n",
              "      <td>-22.890143</td>\n",
              "      <td>-22.407508</td>\n",
              "      <td>-23.294820</td>\n",
              "      <td>-24.160784</td>\n",
              "      <td>-24.365741</td>\n",
              "      <td>-22.837054</td>\n",
              "      <td>-22.323085</td>\n",
              "      <td>-22.315031</td>\n",
              "      <td>-22.977893</td>\n",
              "      <td>-24.879630</td>\n",
              "      <td>-24.021607</td>\n",
              "      <td>-24.460890</td>\n",
              "      <td>-24.637407</td>\n",
              "      <td>0.0</td>\n",
              "    </tr>\n",
              "    <tr>\n",
              "      <th>1</th>\n",
              "      <td>-5.186610</td>\n",
              "      <td>-6.954902</td>\n",
              "      <td>-8.514689</td>\n",
              "      <td>-8.034406</td>\n",
              "      <td>-8.010320</td>\n",
              "      <td>-8.342092</td>\n",
              "      <td>-8.884696</td>\n",
              "      <td>-8.054525</td>\n",
              "      <td>-9.238838</td>\n",
              "      <td>-10.089182</td>\n",
              "      <td>-8.685709</td>\n",
              "      <td>-8.209906</td>\n",
              "      <td>-6.931064</td>\n",
              "      <td>-5.818272</td>\n",
              "      <td>-5.413306</td>\n",
              "      <td>-6.569093</td>\n",
              "      <td>-7.581195</td>\n",
              "      <td>-9.369097</td>\n",
              "      <td>-11.738839</td>\n",
              "      <td>-11.968124</td>\n",
              "      <td>-11.421879</td>\n",
              "      <td>-9.332683</td>\n",
              "      <td>-7.720200</td>\n",
              "      <td>-8.663573</td>\n",
              "      <td>-10.413919</td>\n",
              "      <td>-11.706178</td>\n",
              "      <td>-12.368442</td>\n",
              "      <td>-13.173401</td>\n",
              "      <td>-14.065433</td>\n",
              "      <td>-14.033513</td>\n",
              "      <td>-15.274103</td>\n",
              "      <td>-15.017984</td>\n",
              "      <td>-14.820037</td>\n",
              "      <td>-12.884018</td>\n",
              "      <td>-12.418864</td>\n",
              "      <td>-12.018818</td>\n",
              "      <td>-10.087079</td>\n",
              "      <td>-8.695846</td>\n",
              "      <td>-10.220960</td>\n",
              "      <td>-12.791140</td>\n",
              "      <td>...</td>\n",
              "      <td>-11.987415</td>\n",
              "      <td>-13.657402</td>\n",
              "      <td>-13.228905</td>\n",
              "      <td>-12.431403</td>\n",
              "      <td>-13.553700</td>\n",
              "      <td>-13.300913</td>\n",
              "      <td>-13.813630</td>\n",
              "      <td>-14.215347</td>\n",
              "      <td>-13.123743</td>\n",
              "      <td>-12.288183</td>\n",
              "      <td>-11.677754</td>\n",
              "      <td>-10.353573</td>\n",
              "      <td>-8.303671</td>\n",
              "      <td>-6.889846</td>\n",
              "      <td>-6.579188</td>\n",
              "      <td>-7.164528</td>\n",
              "      <td>-8.236657</td>\n",
              "      <td>-9.056375</td>\n",
              "      <td>-10.735427</td>\n",
              "      <td>-12.984892</td>\n",
              "      <td>-16.628807</td>\n",
              "      <td>-17.241836</td>\n",
              "      <td>-20.293140</td>\n",
              "      <td>-23.105220</td>\n",
              "      <td>-23.260354</td>\n",
              "      <td>-25.120372</td>\n",
              "      <td>-26.358382</td>\n",
              "      <td>-24.947229</td>\n",
              "      <td>-23.845434</td>\n",
              "      <td>-24.905541</td>\n",
              "      <td>-24.886794</td>\n",
              "      <td>-23.785848</td>\n",
              "      <td>-24.147078</td>\n",
              "      <td>-24.223251</td>\n",
              "      <td>-24.390625</td>\n",
              "      <td>-25.368713</td>\n",
              "      <td>-25.882362</td>\n",
              "      <td>-24.892670</td>\n",
              "      <td>-25.330870</td>\n",
              "      <td>0.0</td>\n",
              "    </tr>\n",
              "    <tr>\n",
              "      <th>2</th>\n",
              "      <td>-17.140371</td>\n",
              "      <td>-12.269745</td>\n",
              "      <td>-9.123624</td>\n",
              "      <td>-8.337747</td>\n",
              "      <td>-6.780760</td>\n",
              "      <td>-6.049018</td>\n",
              "      <td>-5.864444</td>\n",
              "      <td>-7.053760</td>\n",
              "      <td>-11.960453</td>\n",
              "      <td>-13.965419</td>\n",
              "      <td>-15.583537</td>\n",
              "      <td>-16.818060</td>\n",
              "      <td>-19.771049</td>\n",
              "      <td>-21.061275</td>\n",
              "      <td>-22.273708</td>\n",
              "      <td>-22.017590</td>\n",
              "      <td>-23.142621</td>\n",
              "      <td>-14.968740</td>\n",
              "      <td>-8.982360</td>\n",
              "      <td>-7.583397</td>\n",
              "      <td>-9.436335</td>\n",
              "      <td>-10.037995</td>\n",
              "      <td>-10.377468</td>\n",
              "      <td>-10.912025</td>\n",
              "      <td>-10.708055</td>\n",
              "      <td>-9.533499</td>\n",
              "      <td>-9.299254</td>\n",
              "      <td>-9.920825</td>\n",
              "      <td>-9.162455</td>\n",
              "      <td>-11.298832</td>\n",
              "      <td>-10.711319</td>\n",
              "      <td>-11.664258</td>\n",
              "      <td>-13.300637</td>\n",
              "      <td>-14.258247</td>\n",
              "      <td>-13.555246</td>\n",
              "      <td>-12.725204</td>\n",
              "      <td>-12.455634</td>\n",
              "      <td>-10.688285</td>\n",
              "      <td>-10.620993</td>\n",
              "      <td>-13.675367</td>\n",
              "      <td>...</td>\n",
              "      <td>-11.338949</td>\n",
              "      <td>-12.011319</td>\n",
              "      <td>-12.238891</td>\n",
              "      <td>-14.265098</td>\n",
              "      <td>-16.294702</td>\n",
              "      <td>-17.401734</td>\n",
              "      <td>-19.089904</td>\n",
              "      <td>-20.131012</td>\n",
              "      <td>-19.425659</td>\n",
              "      <td>-14.356544</td>\n",
              "      <td>-12.345058</td>\n",
              "      <td>-11.704090</td>\n",
              "      <td>-12.628723</td>\n",
              "      <td>-13.833715</td>\n",
              "      <td>-14.171431</td>\n",
              "      <td>-15.133308</td>\n",
              "      <td>-16.541349</td>\n",
              "      <td>-19.884585</td>\n",
              "      <td>-17.253949</td>\n",
              "      <td>-14.479861</td>\n",
              "      <td>-11.851639</td>\n",
              "      <td>-11.693107</td>\n",
              "      <td>-12.155968</td>\n",
              "      <td>-12.237337</td>\n",
              "      <td>-12.815170</td>\n",
              "      <td>-13.217037</td>\n",
              "      <td>-13.462488</td>\n",
              "      <td>-14.322076</td>\n",
              "      <td>-13.526829</td>\n",
              "      <td>-14.238198</td>\n",
              "      <td>-16.175346</td>\n",
              "      <td>-18.152841</td>\n",
              "      <td>-21.535325</td>\n",
              "      <td>-21.459095</td>\n",
              "      <td>-18.435676</td>\n",
              "      <td>-15.236815</td>\n",
              "      <td>-12.939343</td>\n",
              "      <td>-8.849758</td>\n",
              "      <td>-3.629149</td>\n",
              "      <td>0.0</td>\n",
              "    </tr>\n",
              "    <tr>\n",
              "      <th>3</th>\n",
              "      <td>-13.442277</td>\n",
              "      <td>-8.020599</td>\n",
              "      <td>-5.986820</td>\n",
              "      <td>-6.373723</td>\n",
              "      <td>-5.190186</td>\n",
              "      <td>-4.239274</td>\n",
              "      <td>-3.880402</td>\n",
              "      <td>-8.047453</td>\n",
              "      <td>-14.418951</td>\n",
              "      <td>-16.864241</td>\n",
              "      <td>-21.314467</td>\n",
              "      <td>-22.875887</td>\n",
              "      <td>-23.260774</td>\n",
              "      <td>-23.529831</td>\n",
              "      <td>-23.232727</td>\n",
              "      <td>-23.221456</td>\n",
              "      <td>-16.292157</td>\n",
              "      <td>-11.113592</td>\n",
              "      <td>-7.238350</td>\n",
              "      <td>-6.534056</td>\n",
              "      <td>-6.318192</td>\n",
              "      <td>-7.051064</td>\n",
              "      <td>-6.797225</td>\n",
              "      <td>-7.456634</td>\n",
              "      <td>-8.211616</td>\n",
              "      <td>-8.996083</td>\n",
              "      <td>-9.026207</td>\n",
              "      <td>-8.968917</td>\n",
              "      <td>-8.863509</td>\n",
              "      <td>-8.620302</td>\n",
              "      <td>-8.744816</td>\n",
              "      <td>-8.281763</td>\n",
              "      <td>-8.710537</td>\n",
              "      <td>-8.522243</td>\n",
              "      <td>-8.949199</td>\n",
              "      <td>-11.293446</td>\n",
              "      <td>-12.039905</td>\n",
              "      <td>-13.063959</td>\n",
              "      <td>-14.101835</td>\n",
              "      <td>-14.197291</td>\n",
              "      <td>...</td>\n",
              "      <td>-18.555188</td>\n",
              "      <td>-19.612205</td>\n",
              "      <td>-21.237263</td>\n",
              "      <td>-22.723498</td>\n",
              "      <td>-22.377916</td>\n",
              "      <td>-24.123754</td>\n",
              "      <td>-23.786376</td>\n",
              "      <td>-22.913931</td>\n",
              "      <td>-23.267759</td>\n",
              "      <td>-24.431508</td>\n",
              "      <td>-25.343116</td>\n",
              "      <td>-21.536793</td>\n",
              "      <td>-13.650363</td>\n",
              "      <td>-10.705757</td>\n",
              "      <td>-8.800107</td>\n",
              "      <td>-9.953593</td>\n",
              "      <td>-11.429703</td>\n",
              "      <td>-10.710131</td>\n",
              "      <td>-10.866633</td>\n",
              "      <td>-9.619050</td>\n",
              "      <td>-8.033700</td>\n",
              "      <td>-8.292207</td>\n",
              "      <td>-9.331999</td>\n",
              "      <td>-9.906535</td>\n",
              "      <td>-10.579398</td>\n",
              "      <td>-9.925113</td>\n",
              "      <td>-9.873599</td>\n",
              "      <td>-9.546299</td>\n",
              "      <td>-9.769730</td>\n",
              "      <td>-11.022026</td>\n",
              "      <td>-10.693924</td>\n",
              "      <td>-10.625392</td>\n",
              "      <td>-10.843582</td>\n",
              "      <td>-10.529746</td>\n",
              "      <td>-9.981357</td>\n",
              "      <td>-10.076419</td>\n",
              "      <td>-9.949385</td>\n",
              "      <td>-4.860997</td>\n",
              "      <td>-0.177100</td>\n",
              "      <td>0.0</td>\n",
              "    </tr>\n",
              "    <tr>\n",
              "      <th>4</th>\n",
              "      <td>-26.308570</td>\n",
              "      <td>-24.952421</td>\n",
              "      <td>-25.424216</td>\n",
              "      <td>-26.548579</td>\n",
              "      <td>-25.863737</td>\n",
              "      <td>-25.133315</td>\n",
              "      <td>-25.443135</td>\n",
              "      <td>-25.117382</td>\n",
              "      <td>-24.570843</td>\n",
              "      <td>-26.397366</td>\n",
              "      <td>-25.312840</td>\n",
              "      <td>-24.255211</td>\n",
              "      <td>-24.620870</td>\n",
              "      <td>-24.877019</td>\n",
              "      <td>-24.003088</td>\n",
              "      <td>-22.314498</td>\n",
              "      <td>-22.792832</td>\n",
              "      <td>-22.935174</td>\n",
              "      <td>-18.735180</td>\n",
              "      <td>-14.648899</td>\n",
              "      <td>-11.174059</td>\n",
              "      <td>-10.727664</td>\n",
              "      <td>-11.470130</td>\n",
              "      <td>-12.076531</td>\n",
              "      <td>-12.739723</td>\n",
              "      <td>-12.462644</td>\n",
              "      <td>-10.364154</td>\n",
              "      <td>-9.072237</td>\n",
              "      <td>-8.765806</td>\n",
              "      <td>-8.900035</td>\n",
              "      <td>-8.307144</td>\n",
              "      <td>-9.006373</td>\n",
              "      <td>-9.004644</td>\n",
              "      <td>-9.663058</td>\n",
              "      <td>-9.506249</td>\n",
              "      <td>-8.028088</td>\n",
              "      <td>-8.014873</td>\n",
              "      <td>-9.125159</td>\n",
              "      <td>-10.486218</td>\n",
              "      <td>-9.882233</td>\n",
              "      <td>...</td>\n",
              "      <td>-7.809243</td>\n",
              "      <td>-9.830414</td>\n",
              "      <td>-9.431819</td>\n",
              "      <td>-10.124594</td>\n",
              "      <td>-10.857070</td>\n",
              "      <td>-9.451745</td>\n",
              "      <td>-9.816940</td>\n",
              "      <td>-9.379938</td>\n",
              "      <td>-8.733025</td>\n",
              "      <td>-9.582089</td>\n",
              "      <td>-9.244735</td>\n",
              "      <td>-9.596691</td>\n",
              "      <td>-9.583364</td>\n",
              "      <td>-9.747941</td>\n",
              "      <td>-8.550244</td>\n",
              "      <td>-7.425331</td>\n",
              "      <td>-4.872395</td>\n",
              "      <td>-4.531896</td>\n",
              "      <td>-5.281549</td>\n",
              "      <td>-7.456276</td>\n",
              "      <td>-8.295960</td>\n",
              "      <td>-9.317088</td>\n",
              "      <td>-10.603518</td>\n",
              "      <td>-14.492125</td>\n",
              "      <td>-17.688901</td>\n",
              "      <td>-18.478480</td>\n",
              "      <td>-17.883636</td>\n",
              "      <td>-10.836647</td>\n",
              "      <td>-6.694176</td>\n",
              "      <td>-6.877402</td>\n",
              "      <td>-8.180344</td>\n",
              "      <td>-8.410608</td>\n",
              "      <td>-9.429976</td>\n",
              "      <td>-10.991138</td>\n",
              "      <td>-11.286240</td>\n",
              "      <td>-12.426881</td>\n",
              "      <td>-10.873959</td>\n",
              "      <td>-7.737998</td>\n",
              "      <td>-4.208160</td>\n",
              "      <td>0.0</td>\n",
              "    </tr>\n",
              "  </tbody>\n",
              "</table>\n",
              "<p>5 rows × 217 columns</p>\n",
              "</div>"
            ],
            "text/plain": [
              "           0          1          2  ...        214        215  label\n",
              "0 -22.524902 -22.208887 -24.005843  ... -24.460890 -24.637407    0.0\n",
              "1  -5.186610  -6.954902  -8.514689  ... -24.892670 -25.330870    0.0\n",
              "2 -17.140371 -12.269745  -9.123624  ...  -8.849758  -3.629149    0.0\n",
              "3 -13.442277  -8.020599  -5.986820  ...  -4.860997  -0.177100    0.0\n",
              "4 -26.308570 -24.952421 -25.424216  ...  -7.737998  -4.208160    0.0\n",
              "\n",
              "[5 rows x 217 columns]"
            ]
          },
          "metadata": {
            "tags": []
          },
          "execution_count": 187
        }
      ]
    },
    {
      "cell_type": "code",
      "metadata": {
        "id": "X-jCVErmJJSC",
        "colab_type": "code",
        "colab": {
          "base_uri": "https://localhost:8080/",
          "height": 34
        },
        "outputId": "df763452-5ab7-4633-bb39-8b75dff3e786"
      },
      "source": [
        "from sklearn.model_selection import train_test_split\n",
        "X_train,X_test,y_train,y_test = train_test_split(new_df.drop('label',axis=1),\\\n",
        "                                                 new_df['label'],random_state=5)\n",
        "print(X_train.shape)"
      ],
      "execution_count": null,
      "outputs": [
        {
          "output_type": "stream",
          "text": [
            "(282, 216)\n"
          ],
          "name": "stdout"
        }
      ]
    },
    {
      "cell_type": "code",
      "metadata": {
        "id": "E1NgVj8KJ7uK",
        "colab_type": "code",
        "colab": {
          "base_uri": "https://localhost:8080/",
          "height": 101
        },
        "outputId": "d31ce43b-4bfb-433b-de1a-86b3054832ab"
      },
      "source": [
        "y_train.value_counts(normalize=True)"
      ],
      "execution_count": null,
      "outputs": [
        {
          "output_type": "execute_result",
          "data": {
            "text/plain": [
              "1.0    0.294326\n",
              "3.0    0.262411\n",
              "0.0    0.244681\n",
              "2.0    0.198582\n",
              "Name: label, dtype: float64"
            ]
          },
          "metadata": {
            "tags": []
          },
          "execution_count": 208
        }
      ]
    },
    {
      "cell_type": "code",
      "metadata": {
        "id": "js98Y3YvKCI8",
        "colab_type": "code",
        "colab": {
          "base_uri": "https://localhost:8080/",
          "height": 101
        },
        "outputId": "2ecf0423-3a3b-4bbc-f766-e5f3557f510a"
      },
      "source": [
        "y_test.value_counts(normalize=True)"
      ],
      "execution_count": null,
      "outputs": [
        {
          "output_type": "execute_result",
          "data": {
            "text/plain": [
              "3.0    0.315789\n",
              "0.0    0.273684\n",
              "1.0    0.263158\n",
              "2.0    0.147368\n",
              "Name: label, dtype: float64"
            ]
          },
          "metadata": {
            "tags": []
          },
          "execution_count": 209
        }
      ]
    },
    {
      "cell_type": "code",
      "metadata": {
        "id": "7EoT7uXBnc0t",
        "colab_type": "code",
        "colab": {
          "base_uri": "https://localhost:8080/",
          "height": 67
        },
        "outputId": "31c9d4f6-db80-4a66-cfbb-3af6ee38ed5a"
      },
      "source": [
        "# Import the model\n",
        "from sklearn.neighbors import KNeighborsClassifier\n",
        "# Creating an instance\n",
        "knn =  KNeighborsClassifier()\n",
        "# Training\n",
        "knn.fit(X_train,y_train)"
      ],
      "execution_count": null,
      "outputs": [
        {
          "output_type": "execute_result",
          "data": {
            "text/plain": [
              "KNeighborsClassifier(algorithm='auto', leaf_size=30, metric='minkowski',\n",
              "                     metric_params=None, n_jobs=None, n_neighbors=5, p=2,\n",
              "                     weights='uniform')"
            ]
          },
          "metadata": {
            "tags": []
          },
          "execution_count": 210
        }
      ]
    },
    {
      "cell_type": "code",
      "metadata": {
        "id": "UpNGtM7MoFLW",
        "colab_type": "code",
        "colab": {
          "base_uri": "https://localhost:8080/",
          "height": 34
        },
        "outputId": "cc2c591f-41fd-4ae7-c1ba-06aaa5927d12"
      },
      "source": [
        "## Training\n",
        "from sklearn.metrics import accuracy_score\n",
        "y_train_pred = knn.predict(X_train)\n",
        "accuracy_score(y_train,y_train_pred)"
      ],
      "execution_count": null,
      "outputs": [
        {
          "output_type": "execute_result",
          "data": {
            "text/plain": [
              "0.6843971631205674"
            ]
          },
          "metadata": {
            "tags": []
          },
          "execution_count": 211
        }
      ]
    },
    {
      "cell_type": "code",
      "metadata": {
        "id": "upjew04roerA",
        "colab_type": "code",
        "colab": {
          "base_uri": "https://localhost:8080/",
          "height": 34
        },
        "outputId": "32b10034-58e9-479a-cc1d-a75ff4d2fcf2"
      },
      "source": [
        "## Testing\n",
        "from sklearn.metrics import accuracy_score\n",
        "y_test_pred = knn.predict(X_test)\n",
        "accuracy_score(y_test,y_test_pred)"
      ],
      "execution_count": null,
      "outputs": [
        {
          "output_type": "execute_result",
          "data": {
            "text/plain": [
              "0.5368421052631579"
            ]
          },
          "metadata": {
            "tags": []
          },
          "execution_count": 212
        }
      ]
    },
    {
      "cell_type": "code",
      "metadata": {
        "id": "WZItws9Xqbyg",
        "colab_type": "code",
        "colab": {}
      },
      "source": [
        "## randomforest classifier training accuracy-1.00 testing accuracy-0.56"
      ],
      "execution_count": null,
      "outputs": []
    },
    {
      "cell_type": "code",
      "metadata": {
        "id": "z6VFGj_fq3X1",
        "colab_type": "code",
        "colab": {
          "base_uri": "https://localhost:8080/",
          "height": 218
        },
        "outputId": "ac4c6b97-7251-4183-a9b8-7704dd4782c2"
      },
      "source": [
        "y_train"
      ],
      "execution_count": null,
      "outputs": [
        {
          "output_type": "execute_result",
          "data": {
            "text/plain": [
              "315    2.0\n",
              "284    2.0\n",
              "476    3.0\n",
              "382    3.0\n",
              "335    2.0\n",
              "      ... \n",
              "92     0.0\n",
              "146    1.0\n",
              "225    1.0\n",
              "245    2.0\n",
              "454    3.0\n",
              "Name: label, Length: 282, dtype: float64"
            ]
          },
          "metadata": {
            "tags": []
          },
          "execution_count": 214
        }
      ]
    },
    {
      "cell_type": "markdown",
      "metadata": {
        "id": "HThl6EaWqrM1",
        "colab_type": "text"
      },
      "source": [
        "# ANN"
      ]
    },
    {
      "cell_type": "code",
      "metadata": {
        "id": "lcuws0XyKGhQ",
        "colab_type": "code",
        "colab": {}
      },
      "source": [
        "from keras.utils import to_categorical\n",
        "from sklearn.preprocessing import LabelEncoder\n",
        "\n",
        "y_train_cat = to_categorical(y_train)\n",
        "y_test_cat = to_categorical(y_test)"
      ],
      "execution_count": null,
      "outputs": []
    },
    {
      "cell_type": "code",
      "metadata": {
        "id": "CRoMxPEtKfcS",
        "colab_type": "code",
        "colab": {
          "base_uri": "https://localhost:8080/",
          "height": 134
        },
        "outputId": "c4c72397-277a-4bac-ba45-ef0f2453da94"
      },
      "source": [
        "y_train_cat"
      ],
      "execution_count": null,
      "outputs": [
        {
          "output_type": "execute_result",
          "data": {
            "text/plain": [
              "array([[0., 0., 1., 0.],\n",
              "       [0., 0., 1., 0.],\n",
              "       [0., 0., 0., 1.],\n",
              "       ...,\n",
              "       [0., 1., 0., 0.],\n",
              "       [0., 0., 1., 0.],\n",
              "       [0., 0., 0., 1.]], dtype=float32)"
            ]
          },
          "metadata": {
            "tags": []
          },
          "execution_count": 216
        }
      ]
    },
    {
      "cell_type": "code",
      "metadata": {
        "id": "QMEI4yifrRCu",
        "colab_type": "code",
        "colab": {
          "base_uri": "https://localhost:8080/",
          "height": 118
        },
        "outputId": "54d62eaa-1e2b-4378-af49-f9fdfc4e87cf"
      },
      "source": [
        "y_train[:5]"
      ],
      "execution_count": null,
      "outputs": [
        {
          "output_type": "execute_result",
          "data": {
            "text/plain": [
              "315    2.0\n",
              "284    2.0\n",
              "476    3.0\n",
              "382    3.0\n",
              "335    2.0\n",
              "Name: label, dtype: float64"
            ]
          },
          "metadata": {
            "tags": []
          },
          "execution_count": 217
        }
      ]
    },
    {
      "cell_type": "code",
      "metadata": {
        "id": "bqbJE2X_rZnN",
        "colab_type": "code",
        "colab": {
          "base_uri": "https://localhost:8080/",
          "height": 252
        },
        "outputId": "1791d519-95d5-4896-851f-2b9a0ed21ceb"
      },
      "source": [
        "## Bulding the model\n",
        "model_ann = Sequential()\n",
        "model_ann.add(Dense(512,input_shape=(216,),activation='relu'))\n",
        "model_ann.add(Dense(64,activation='relu'))\n",
        "model_ann.add(Dense(4,activation='softmax'))\n",
        "model_ann.summary()"
      ],
      "execution_count": null,
      "outputs": [
        {
          "output_type": "stream",
          "text": [
            "Model: \"sequential_7\"\n",
            "_________________________________________________________________\n",
            "Layer (type)                 Output Shape              Param #   \n",
            "=================================================================\n",
            "dense_8 (Dense)              (None, 512)               111104    \n",
            "_________________________________________________________________\n",
            "dense_9 (Dense)              (None, 64)                32832     \n",
            "_________________________________________________________________\n",
            "dense_10 (Dense)             (None, 4)                 260       \n",
            "=================================================================\n",
            "Total params: 144,196\n",
            "Trainable params: 144,196\n",
            "Non-trainable params: 0\n",
            "_________________________________________________________________\n"
          ],
          "name": "stdout"
        }
      ]
    },
    {
      "cell_type": "code",
      "metadata": {
        "id": "j5QwM5Y4sHR5",
        "colab_type": "code",
        "colab": {}
      },
      "source": [
        "# Compiling the model\n",
        "model_ann.compile(optimizer='adam',loss='categorical_crossentropy',metrics=['accuracy'])"
      ],
      "execution_count": null,
      "outputs": []
    },
    {
      "cell_type": "code",
      "metadata": {
        "id": "NG-w6fg7sYzy",
        "colab_type": "code",
        "colab": {
          "base_uri": "https://localhost:8080/",
          "height": 722
        },
        "outputId": "4fd8f649-33c8-4301-d83c-77e089407f2a"
      },
      "source": [
        "## Train the model\n",
        "model_ann.fit(X_train,y_train_cat,epochs=20,validation_data=(X_test,y_test_cat))"
      ],
      "execution_count": null,
      "outputs": [
        {
          "output_type": "stream",
          "text": [
            "Train on 282 samples, validate on 95 samples\n",
            "Epoch 1/20\n",
            "282/282 [==============================] - 0s 497us/step - loss: 10.3654 - accuracy: 0.2801 - val_loss: 6.0760 - val_accuracy: 0.2105\n",
            "Epoch 2/20\n",
            "282/282 [==============================] - 0s 154us/step - loss: 3.6799 - accuracy: 0.3830 - val_loss: 1.9738 - val_accuracy: 0.4842\n",
            "Epoch 3/20\n",
            "282/282 [==============================] - 0s 148us/step - loss: 1.5220 - accuracy: 0.4929 - val_loss: 1.5819 - val_accuracy: 0.4632\n",
            "Epoch 4/20\n",
            "282/282 [==============================] - 0s 149us/step - loss: 1.3680 - accuracy: 0.4681 - val_loss: 1.5281 - val_accuracy: 0.3579\n",
            "Epoch 5/20\n",
            "282/282 [==============================] - 0s 144us/step - loss: 1.1925 - accuracy: 0.5106 - val_loss: 1.7316 - val_accuracy: 0.4000\n",
            "Epoch 6/20\n",
            "282/282 [==============================] - 0s 196us/step - loss: 1.0693 - accuracy: 0.5780 - val_loss: 1.4495 - val_accuracy: 0.4737\n",
            "Epoch 7/20\n",
            "282/282 [==============================] - 0s 198us/step - loss: 0.8897 - accuracy: 0.6028 - val_loss: 1.4006 - val_accuracy: 0.4632\n",
            "Epoch 8/20\n",
            "282/282 [==============================] - 0s 163us/step - loss: 0.8163 - accuracy: 0.6525 - val_loss: 1.4268 - val_accuracy: 0.4421\n",
            "Epoch 9/20\n",
            "282/282 [==============================] - 0s 146us/step - loss: 0.7220 - accuracy: 0.7163 - val_loss: 1.3751 - val_accuracy: 0.5053\n",
            "Epoch 10/20\n",
            "282/282 [==============================] - 0s 170us/step - loss: 0.5691 - accuracy: 0.7766 - val_loss: 1.2934 - val_accuracy: 0.5158\n",
            "Epoch 11/20\n",
            "282/282 [==============================] - 0s 152us/step - loss: 0.5591 - accuracy: 0.7766 - val_loss: 1.6507 - val_accuracy: 0.4316\n",
            "Epoch 12/20\n",
            "282/282 [==============================] - 0s 145us/step - loss: 0.5463 - accuracy: 0.7979 - val_loss: 1.3132 - val_accuracy: 0.5053\n",
            "Epoch 13/20\n",
            "282/282 [==============================] - 0s 140us/step - loss: 0.4862 - accuracy: 0.8298 - val_loss: 1.2419 - val_accuracy: 0.5158\n",
            "Epoch 14/20\n",
            "282/282 [==============================] - 0s 137us/step - loss: 0.4839 - accuracy: 0.8085 - val_loss: 1.3616 - val_accuracy: 0.5053\n",
            "Epoch 15/20\n",
            "282/282 [==============================] - 0s 139us/step - loss: 0.3938 - accuracy: 0.8759 - val_loss: 1.4698 - val_accuracy: 0.4632\n",
            "Epoch 16/20\n",
            "282/282 [==============================] - 0s 149us/step - loss: 0.3539 - accuracy: 0.8865 - val_loss: 1.2771 - val_accuracy: 0.5053\n",
            "Epoch 17/20\n",
            "282/282 [==============================] - 0s 144us/step - loss: 0.3018 - accuracy: 0.9043 - val_loss: 1.2706 - val_accuracy: 0.4947\n",
            "Epoch 18/20\n",
            "282/282 [==============================] - 0s 139us/step - loss: 0.2690 - accuracy: 0.9220 - val_loss: 1.3015 - val_accuracy: 0.5368\n",
            "Epoch 19/20\n",
            "282/282 [==============================] - 0s 142us/step - loss: 0.2369 - accuracy: 0.9610 - val_loss: 1.3772 - val_accuracy: 0.4842\n",
            "Epoch 20/20\n",
            "282/282 [==============================] - 0s 138us/step - loss: 0.2490 - accuracy: 0.9291 - val_loss: 1.4355 - val_accuracy: 0.4947\n"
          ],
          "name": "stdout"
        },
        {
          "output_type": "execute_result",
          "data": {
            "text/plain": [
              "<keras.callbacks.callbacks.History at 0x7f20388fa470>"
            ]
          },
          "metadata": {
            "tags": []
          },
          "execution_count": 222
        }
      ]
    },
    {
      "cell_type": "markdown",
      "metadata": {
        "id": "wKPOLucovpcm",
        "colab_type": "text"
      },
      "source": [
        "# CNN"
      ]
    },
    {
      "cell_type": "code",
      "metadata": {
        "id": "LsD060cSvvMk",
        "colab_type": "code",
        "colab": {
          "base_uri": "https://localhost:8080/",
          "height": 34
        },
        "outputId": "4bdb3f9c-75ba-4119-b6e4-88ca901061c8"
      },
      "source": [
        "X_train.shape"
      ],
      "execution_count": null,
      "outputs": [
        {
          "output_type": "execute_result",
          "data": {
            "text/plain": [
              "(282, 216)"
            ]
          },
          "metadata": {
            "tags": []
          },
          "execution_count": 223
        }
      ]
    },
    {
      "cell_type": "code",
      "metadata": {
        "id": "kskXeSjoKg9Z",
        "colab_type": "code",
        "colab": {}
      },
      "source": [
        "x_traincnn =np.expand_dims(X_train, axis=2)\n",
        "x_testcnn= np.expand_dims(X_test, axis=2)"
      ],
      "execution_count": null,
      "outputs": []
    },
    {
      "cell_type": "code",
      "metadata": {
        "id": "DHv7KD_pOk2G",
        "colab_type": "code",
        "colab": {
          "base_uri": "https://localhost:8080/",
          "height": 34
        },
        "outputId": "0c53c46e-0b08-46c8-e359-6f9dd6b1695d"
      },
      "source": [
        "x_traincnn.shape"
      ],
      "execution_count": null,
      "outputs": [
        {
          "output_type": "execute_result",
          "data": {
            "text/plain": [
              "(282, 216, 1)"
            ]
          },
          "metadata": {
            "tags": []
          },
          "execution_count": 225
        }
      ]
    },
    {
      "cell_type": "code",
      "metadata": {
        "id": "o8ucojW1Om7g",
        "colab_type": "code",
        "colab": {}
      },
      "source": [
        "## Bulid the model\n",
        "model = Sequential()\n",
        "\n",
        "model.add(Conv1D(256, 5,padding='same',\n",
        "                 input_shape=(216,1)))\n",
        "model.add(Activation('relu'))\n",
        "model.add(Conv1D(128, 5,padding='same'))\n",
        "model.add(Activation('relu'))\n",
        "model.add(Dropout(0.1))\n",
        "model.add(MaxPooling1D(pool_size=(8)))\n",
        "model.add(Conv1D(128, 5,padding='same',))\n",
        "model.add(Activation('relu'))\n",
        "#model.add(Conv1D(128, 5,padding='same',))\n",
        "#model.add(Activation('relu'))\n",
        "#model.add(Conv1D(128, 5,padding='same',))\n",
        "#model.add(Activation('relu'))\n",
        "#model.add(Dropout(0.2))\n",
        "model.add(Conv1D(128, 5,padding='same',))\n",
        "model.add(Activation('relu'))\n",
        "model.add(Flatten())\n",
        "model.add(Dense(4,activation='softmax'))\n",
        "opt = keras.optimizers.rmsprop(lr=0.00001, decay=1e-6)"
      ],
      "execution_count": null,
      "outputs": []
    },
    {
      "cell_type": "code",
      "metadata": {
        "id": "lRCW6pUQO1As",
        "colab_type": "code",
        "colab": {}
      },
      "source": [
        "model.summary()"
      ],
      "execution_count": null,
      "outputs": []
    },
    {
      "cell_type": "code",
      "metadata": {
        "id": "G7ko927bPAOj",
        "colab_type": "code",
        "colab": {}
      },
      "source": [
        "model.compile(loss='categorical_crossentropy', optimizer=opt,metrics=['accuracy'])"
      ],
      "execution_count": null,
      "outputs": []
    },
    {
      "cell_type": "code",
      "metadata": {
        "id": "bbh9InZcPAvw",
        "colab_type": "code",
        "colab": {
          "base_uri": "https://localhost:8080/",
          "height": 1000
        },
        "outputId": "5dca53c5-d3e3-4773-9592-385987eb6e0d"
      },
      "source": [
        "cnnhistory=model.fit(x_traincnn, y_train_cat, batch_size=16, epochs=100, validation_data=(x_testcnn, y_test_cat))"
      ],
      "execution_count": null,
      "outputs": [
        {
          "output_type": "stream",
          "text": [
            "Train on 282 samples, validate on 95 samples\n",
            "Epoch 1/100\n",
            "282/282 [==============================] - 2s 7ms/step - loss: 1.4873 - accuracy: 0.2908 - val_loss: 1.4448 - val_accuracy: 0.2632\n",
            "Epoch 2/100\n",
            "282/282 [==============================] - 2s 7ms/step - loss: 1.3326 - accuracy: 0.3404 - val_loss: 1.4014 - val_accuracy: 0.2737\n",
            "Epoch 3/100\n",
            "282/282 [==============================] - 2s 7ms/step - loss: 1.2927 - accuracy: 0.3901 - val_loss: 1.3802 - val_accuracy: 0.3263\n",
            "Epoch 4/100\n",
            "282/282 [==============================] - 2s 7ms/step - loss: 1.2613 - accuracy: 0.4681 - val_loss: 1.3675 - val_accuracy: 0.2526\n",
            "Epoch 5/100\n",
            "282/282 [==============================] - 2s 7ms/step - loss: 1.2341 - accuracy: 0.4220 - val_loss: 1.3420 - val_accuracy: 0.3895\n",
            "Epoch 6/100\n",
            "282/282 [==============================] - 2s 7ms/step - loss: 1.2174 - accuracy: 0.4681 - val_loss: 1.3359 - val_accuracy: 0.3474\n",
            "Epoch 7/100\n",
            "282/282 [==============================] - 2s 7ms/step - loss: 1.1910 - accuracy: 0.4858 - val_loss: 1.3206 - val_accuracy: 0.3789\n",
            "Epoch 8/100\n",
            "282/282 [==============================] - 2s 7ms/step - loss: 1.1698 - accuracy: 0.4894 - val_loss: 1.3060 - val_accuracy: 0.3895\n",
            "Epoch 9/100\n",
            "282/282 [==============================] - 2s 7ms/step - loss: 1.1537 - accuracy: 0.5248 - val_loss: 1.2966 - val_accuracy: 0.4316\n",
            "Epoch 10/100\n",
            "282/282 [==============================] - 2s 7ms/step - loss: 1.1362 - accuracy: 0.5284 - val_loss: 1.2962 - val_accuracy: 0.3474\n",
            "Epoch 11/100\n",
            "282/282 [==============================] - 2s 7ms/step - loss: 1.1179 - accuracy: 0.5248 - val_loss: 1.2680 - val_accuracy: 0.4421\n",
            "Epoch 12/100\n",
            "282/282 [==============================] - 2s 7ms/step - loss: 1.1003 - accuracy: 0.5496 - val_loss: 1.2575 - val_accuracy: 0.4526\n",
            "Epoch 13/100\n",
            "282/282 [==============================] - 2s 7ms/step - loss: 1.0833 - accuracy: 0.5638 - val_loss: 1.2665 - val_accuracy: 0.4000\n",
            "Epoch 14/100\n",
            "282/282 [==============================] - 2s 7ms/step - loss: 1.0654 - accuracy: 0.5532 - val_loss: 1.2365 - val_accuracy: 0.4000\n",
            "Epoch 15/100\n",
            "282/282 [==============================] - 2s 7ms/step - loss: 1.0535 - accuracy: 0.5674 - val_loss: 1.2270 - val_accuracy: 0.4421\n",
            "Epoch 16/100\n",
            "282/282 [==============================] - 2s 7ms/step - loss: 1.0360 - accuracy: 0.5816 - val_loss: 1.2151 - val_accuracy: 0.4421\n",
            "Epoch 17/100\n",
            "282/282 [==============================] - 2s 7ms/step - loss: 1.0201 - accuracy: 0.6170 - val_loss: 1.2169 - val_accuracy: 0.4526\n",
            "Epoch 18/100\n",
            "282/282 [==============================] - 2s 7ms/step - loss: 1.0061 - accuracy: 0.5851 - val_loss: 1.1947 - val_accuracy: 0.4632\n",
            "Epoch 19/100\n",
            "282/282 [==============================] - 2s 7ms/step - loss: 0.9887 - accuracy: 0.6170 - val_loss: 1.1897 - val_accuracy: 0.4632\n",
            "Epoch 20/100\n",
            "282/282 [==============================] - 2s 7ms/step - loss: 0.9764 - accuracy: 0.6064 - val_loss: 1.1750 - val_accuracy: 0.4842\n",
            "Epoch 21/100\n",
            "282/282 [==============================] - 2s 7ms/step - loss: 0.9628 - accuracy: 0.6170 - val_loss: 1.1644 - val_accuracy: 0.4842\n",
            "Epoch 22/100\n",
            "282/282 [==============================] - 2s 7ms/step - loss: 0.9482 - accuracy: 0.6135 - val_loss: 1.1636 - val_accuracy: 0.4737\n",
            "Epoch 23/100\n",
            "282/282 [==============================] - 2s 7ms/step - loss: 0.9305 - accuracy: 0.6348 - val_loss: 1.1459 - val_accuracy: 0.4842\n",
            "Epoch 24/100\n",
            "282/282 [==============================] - 2s 7ms/step - loss: 0.9176 - accuracy: 0.6312 - val_loss: 1.1289 - val_accuracy: 0.4632\n",
            "Epoch 25/100\n",
            "282/282 [==============================] - 2s 7ms/step - loss: 0.9066 - accuracy: 0.6418 - val_loss: 1.1212 - val_accuracy: 0.4842\n",
            "Epoch 26/100\n",
            "282/282 [==============================] - 2s 7ms/step - loss: 0.8873 - accuracy: 0.6560 - val_loss: 1.1107 - val_accuracy: 0.4842\n",
            "Epoch 27/100\n",
            "282/282 [==============================] - 2s 7ms/step - loss: 0.8757 - accuracy: 0.6667 - val_loss: 1.0984 - val_accuracy: 0.4947\n",
            "Epoch 28/100\n",
            "282/282 [==============================] - 2s 7ms/step - loss: 0.8581 - accuracy: 0.6667 - val_loss: 1.0865 - val_accuracy: 0.5158\n",
            "Epoch 29/100\n",
            "282/282 [==============================] - 2s 7ms/step - loss: 0.8456 - accuracy: 0.6773 - val_loss: 1.0914 - val_accuracy: 0.4842\n",
            "Epoch 30/100\n",
            "282/282 [==============================] - 2s 7ms/step - loss: 0.8392 - accuracy: 0.6773 - val_loss: 1.0713 - val_accuracy: 0.4947\n",
            "Epoch 31/100\n",
            "282/282 [==============================] - 2s 7ms/step - loss: 0.8259 - accuracy: 0.6915 - val_loss: 1.0642 - val_accuracy: 0.5158\n",
            "Epoch 32/100\n",
            "282/282 [==============================] - 2s 7ms/step - loss: 0.8199 - accuracy: 0.6738 - val_loss: 1.0609 - val_accuracy: 0.5263\n",
            "Epoch 33/100\n",
            "282/282 [==============================] - 2s 7ms/step - loss: 0.8044 - accuracy: 0.6915 - val_loss: 1.0485 - val_accuracy: 0.5263\n",
            "Epoch 34/100\n",
            "282/282 [==============================] - 2s 7ms/step - loss: 0.7982 - accuracy: 0.6738 - val_loss: 1.0459 - val_accuracy: 0.4947\n",
            "Epoch 35/100\n",
            "282/282 [==============================] - 2s 7ms/step - loss: 0.7883 - accuracy: 0.7021 - val_loss: 1.0428 - val_accuracy: 0.5053\n",
            "Epoch 36/100\n",
            "282/282 [==============================] - 2s 7ms/step - loss: 0.7726 - accuracy: 0.7092 - val_loss: 1.0281 - val_accuracy: 0.5053\n",
            "Epoch 37/100\n",
            "282/282 [==============================] - 2s 7ms/step - loss: 0.7680 - accuracy: 0.7270 - val_loss: 1.0268 - val_accuracy: 0.5368\n",
            "Epoch 38/100\n",
            "282/282 [==============================] - 2s 7ms/step - loss: 0.7549 - accuracy: 0.7163 - val_loss: 1.0142 - val_accuracy: 0.5474\n",
            "Epoch 39/100\n",
            "282/282 [==============================] - 2s 7ms/step - loss: 0.7514 - accuracy: 0.7234 - val_loss: 1.0100 - val_accuracy: 0.5263\n",
            "Epoch 40/100\n",
            "282/282 [==============================] - 2s 7ms/step - loss: 0.7341 - accuracy: 0.7376 - val_loss: 1.0205 - val_accuracy: 0.5368\n",
            "Epoch 41/100\n",
            "282/282 [==============================] - 2s 7ms/step - loss: 0.7331 - accuracy: 0.7270 - val_loss: 0.9981 - val_accuracy: 0.5579\n",
            "Epoch 42/100\n",
            "282/282 [==============================] - 2s 7ms/step - loss: 0.7240 - accuracy: 0.7234 - val_loss: 0.9865 - val_accuracy: 0.5579\n",
            "Epoch 43/100\n",
            "282/282 [==============================] - 2s 7ms/step - loss: 0.7160 - accuracy: 0.7340 - val_loss: 0.9940 - val_accuracy: 0.5368\n",
            "Epoch 44/100\n",
            "282/282 [==============================] - 2s 7ms/step - loss: 0.7082 - accuracy: 0.7518 - val_loss: 0.9819 - val_accuracy: 0.5579\n",
            "Epoch 45/100\n",
            "282/282 [==============================] - 2s 7ms/step - loss: 0.6966 - accuracy: 0.7624 - val_loss: 0.9854 - val_accuracy: 0.5474\n",
            "Epoch 46/100\n",
            "282/282 [==============================] - 2s 7ms/step - loss: 0.6895 - accuracy: 0.7518 - val_loss: 0.9800 - val_accuracy: 0.5579\n",
            "Epoch 47/100\n",
            "282/282 [==============================] - 2s 7ms/step - loss: 0.6850 - accuracy: 0.7447 - val_loss: 0.9711 - val_accuracy: 0.5368\n",
            "Epoch 48/100\n",
            "282/282 [==============================] - 2s 7ms/step - loss: 0.6708 - accuracy: 0.7801 - val_loss: 0.9675 - val_accuracy: 0.5579\n",
            "Epoch 49/100\n",
            "282/282 [==============================] - 2s 7ms/step - loss: 0.6706 - accuracy: 0.7447 - val_loss: 0.9479 - val_accuracy: 0.5895\n",
            "Epoch 50/100\n",
            "282/282 [==============================] - 2s 7ms/step - loss: 0.6646 - accuracy: 0.7553 - val_loss: 0.9472 - val_accuracy: 0.5684\n",
            "Epoch 51/100\n",
            "282/282 [==============================] - 2s 7ms/step - loss: 0.6491 - accuracy: 0.7589 - val_loss: 0.9387 - val_accuracy: 0.5895\n",
            "Epoch 52/100\n",
            "282/282 [==============================] - 2s 7ms/step - loss: 0.6471 - accuracy: 0.7589 - val_loss: 0.9537 - val_accuracy: 0.5579\n",
            "Epoch 53/100\n",
            "282/282 [==============================] - 2s 7ms/step - loss: 0.6381 - accuracy: 0.7553 - val_loss: 0.9248 - val_accuracy: 0.5789\n",
            "Epoch 54/100\n",
            "282/282 [==============================] - 2s 7ms/step - loss: 0.6367 - accuracy: 0.7553 - val_loss: 0.9402 - val_accuracy: 0.5789\n",
            "Epoch 55/100\n",
            "282/282 [==============================] - 2s 7ms/step - loss: 0.6282 - accuracy: 0.7660 - val_loss: 0.9263 - val_accuracy: 0.5895\n",
            "Epoch 56/100\n",
            "282/282 [==============================] - 2s 7ms/step - loss: 0.6244 - accuracy: 0.7695 - val_loss: 0.9258 - val_accuracy: 0.5789\n",
            "Epoch 57/100\n",
            "282/282 [==============================] - 2s 7ms/step - loss: 0.6131 - accuracy: 0.7660 - val_loss: 0.9129 - val_accuracy: 0.5684\n",
            "Epoch 58/100\n",
            "282/282 [==============================] - 2s 7ms/step - loss: 0.6141 - accuracy: 0.7660 - val_loss: 0.9044 - val_accuracy: 0.5789\n",
            "Epoch 59/100\n",
            "282/282 [==============================] - 2s 7ms/step - loss: 0.6046 - accuracy: 0.7801 - val_loss: 0.9030 - val_accuracy: 0.5684\n",
            "Epoch 60/100\n",
            "282/282 [==============================] - 2s 7ms/step - loss: 0.6019 - accuracy: 0.7624 - val_loss: 0.9154 - val_accuracy: 0.6000\n",
            "Epoch 61/100\n",
            "282/282 [==============================] - 2s 7ms/step - loss: 0.5959 - accuracy: 0.7730 - val_loss: 0.9003 - val_accuracy: 0.5684\n",
            "Epoch 62/100\n",
            "282/282 [==============================] - 2s 7ms/step - loss: 0.5812 - accuracy: 0.7837 - val_loss: 0.9173 - val_accuracy: 0.5684\n",
            "Epoch 63/100\n",
            "282/282 [==============================] - 2s 7ms/step - loss: 0.5816 - accuracy: 0.8014 - val_loss: 0.9170 - val_accuracy: 0.5895\n",
            "Epoch 64/100\n",
            "282/282 [==============================] - 2s 7ms/step - loss: 0.5824 - accuracy: 0.7730 - val_loss: 0.9123 - val_accuracy: 0.5579\n",
            "Epoch 65/100\n",
            "282/282 [==============================] - 2s 7ms/step - loss: 0.5736 - accuracy: 0.7979 - val_loss: 0.8746 - val_accuracy: 0.6000\n",
            "Epoch 66/100\n",
            "282/282 [==============================] - 2s 7ms/step - loss: 0.5721 - accuracy: 0.7837 - val_loss: 0.8897 - val_accuracy: 0.6000\n",
            "Epoch 67/100\n",
            "282/282 [==============================] - 2s 7ms/step - loss: 0.5689 - accuracy: 0.7872 - val_loss: 0.8774 - val_accuracy: 0.6316\n",
            "Epoch 68/100\n",
            "282/282 [==============================] - 2s 7ms/step - loss: 0.5568 - accuracy: 0.7979 - val_loss: 0.8851 - val_accuracy: 0.5789\n",
            "Epoch 69/100\n",
            "282/282 [==============================] - 2s 7ms/step - loss: 0.5558 - accuracy: 0.7943 - val_loss: 0.8810 - val_accuracy: 0.5684\n",
            "Epoch 70/100\n",
            "282/282 [==============================] - 2s 7ms/step - loss: 0.5481 - accuracy: 0.7979 - val_loss: 0.8904 - val_accuracy: 0.5579\n",
            "Epoch 71/100\n",
            "282/282 [==============================] - 2s 7ms/step - loss: 0.5482 - accuracy: 0.8050 - val_loss: 0.8753 - val_accuracy: 0.6211\n",
            "Epoch 72/100\n",
            "282/282 [==============================] - 2s 7ms/step - loss: 0.5409 - accuracy: 0.8191 - val_loss: 0.8828 - val_accuracy: 0.5474\n",
            "Epoch 73/100\n",
            "282/282 [==============================] - 2s 7ms/step - loss: 0.5341 - accuracy: 0.8050 - val_loss: 0.9010 - val_accuracy: 0.6000\n",
            "Epoch 74/100\n",
            "282/282 [==============================] - 2s 7ms/step - loss: 0.5358 - accuracy: 0.7872 - val_loss: 0.8704 - val_accuracy: 0.6105\n",
            "Epoch 75/100\n",
            "282/282 [==============================] - 2s 7ms/step - loss: 0.5309 - accuracy: 0.8085 - val_loss: 0.8571 - val_accuracy: 0.6211\n",
            "Epoch 76/100\n",
            "282/282 [==============================] - 2s 7ms/step - loss: 0.5222 - accuracy: 0.8014 - val_loss: 0.8665 - val_accuracy: 0.5789\n",
            "Epoch 77/100\n",
            "282/282 [==============================] - 2s 7ms/step - loss: 0.5284 - accuracy: 0.8050 - val_loss: 0.8685 - val_accuracy: 0.6316\n",
            "Epoch 78/100\n",
            "282/282 [==============================] - 2s 7ms/step - loss: 0.5175 - accuracy: 0.8014 - val_loss: 0.8515 - val_accuracy: 0.6105\n",
            "Epoch 79/100\n",
            "282/282 [==============================] - 2s 7ms/step - loss: 0.5108 - accuracy: 0.8121 - val_loss: 0.8416 - val_accuracy: 0.6000\n",
            "Epoch 80/100\n",
            "282/282 [==============================] - 2s 7ms/step - loss: 0.5089 - accuracy: 0.8191 - val_loss: 0.8678 - val_accuracy: 0.6000\n",
            "Epoch 81/100\n",
            "282/282 [==============================] - 2s 7ms/step - loss: 0.4992 - accuracy: 0.8121 - val_loss: 0.8566 - val_accuracy: 0.6421\n",
            "Epoch 82/100\n",
            "282/282 [==============================] - 2s 7ms/step - loss: 0.5006 - accuracy: 0.8262 - val_loss: 0.8392 - val_accuracy: 0.5895\n",
            "Epoch 83/100\n",
            "282/282 [==============================] - 2s 7ms/step - loss: 0.4971 - accuracy: 0.8227 - val_loss: 0.8505 - val_accuracy: 0.5579\n",
            "Epoch 84/100\n",
            "282/282 [==============================] - 2s 7ms/step - loss: 0.4902 - accuracy: 0.8227 - val_loss: 0.8406 - val_accuracy: 0.5474\n",
            "Epoch 85/100\n",
            "282/282 [==============================] - 2s 7ms/step - loss: 0.4917 - accuracy: 0.8156 - val_loss: 0.8493 - val_accuracy: 0.6211\n",
            "Epoch 86/100\n",
            "282/282 [==============================] - 2s 7ms/step - loss: 0.4935 - accuracy: 0.8191 - val_loss: 0.8427 - val_accuracy: 0.6211\n",
            "Epoch 87/100\n",
            "282/282 [==============================] - 2s 7ms/step - loss: 0.4778 - accuracy: 0.8546 - val_loss: 0.8479 - val_accuracy: 0.5789\n",
            "Epoch 88/100\n",
            "282/282 [==============================] - 2s 7ms/step - loss: 0.4788 - accuracy: 0.8227 - val_loss: 0.8398 - val_accuracy: 0.5789\n",
            "Epoch 89/100\n",
            "282/282 [==============================] - 2s 7ms/step - loss: 0.4723 - accuracy: 0.8404 - val_loss: 0.8197 - val_accuracy: 0.6316\n",
            "Epoch 90/100\n",
            "282/282 [==============================] - 2s 7ms/step - loss: 0.4727 - accuracy: 0.8582 - val_loss: 0.8353 - val_accuracy: 0.5684\n",
            "Epoch 91/100\n",
            "282/282 [==============================] - 2s 7ms/step - loss: 0.4711 - accuracy: 0.8298 - val_loss: 0.8258 - val_accuracy: 0.6316\n",
            "Epoch 92/100\n",
            "282/282 [==============================] - 2s 7ms/step - loss: 0.4686 - accuracy: 0.8369 - val_loss: 0.8436 - val_accuracy: 0.6211\n",
            "Epoch 93/100\n",
            "282/282 [==============================] - 2s 7ms/step - loss: 0.4574 - accuracy: 0.8333 - val_loss: 0.8337 - val_accuracy: 0.6105\n",
            "Epoch 94/100\n",
            "282/282 [==============================] - 2s 7ms/step - loss: 0.4614 - accuracy: 0.8333 - val_loss: 0.8238 - val_accuracy: 0.6105\n",
            "Epoch 95/100\n",
            "282/282 [==============================] - 2s 7ms/step - loss: 0.4581 - accuracy: 0.8440 - val_loss: 0.8164 - val_accuracy: 0.5895\n",
            "Epoch 96/100\n",
            "282/282 [==============================] - 2s 7ms/step - loss: 0.4484 - accuracy: 0.8440 - val_loss: 0.8344 - val_accuracy: 0.6105\n",
            "Epoch 97/100\n",
            "282/282 [==============================] - 2s 7ms/step - loss: 0.4499 - accuracy: 0.8475 - val_loss: 0.8251 - val_accuracy: 0.6105\n",
            "Epoch 98/100\n",
            "282/282 [==============================] - 2s 7ms/step - loss: 0.4476 - accuracy: 0.8440 - val_loss: 0.8143 - val_accuracy: 0.6211\n",
            "Epoch 99/100\n",
            "282/282 [==============================] - 2s 7ms/step - loss: 0.4441 - accuracy: 0.8475 - val_loss: 0.8152 - val_accuracy: 0.6000\n",
            "Epoch 100/100\n",
            "282/282 [==============================] - 2s 7ms/step - loss: 0.4378 - accuracy: 0.8582 - val_loss: 0.8145 - val_accuracy: 0.6000\n"
          ],
          "name": "stdout"
        }
      ]
    },
    {
      "cell_type": "code",
      "metadata": {
        "id": "YsP9UH7NPFTt",
        "colab_type": "code",
        "colab": {}
      },
      "source": [
        "### Read\n",
        "test_path = \"/content/drive/My Drive/Courses Taken 2020/Summer Internship/AudioData/JK/n09.wav\""
      ],
      "execution_count": null,
      "outputs": []
    },
    {
      "cell_type": "code",
      "metadata": {
        "id": "TFWpb5yqz7_f",
        "colab_type": "code",
        "colab": {}
      },
      "source": [
        " X, sample_rate = librosa.load(test_path, res_type='kaiser_fast',duration=2.5,sr=22050*2,offset=0.5)\n",
        "# shape of x is sr*duration\n",
        "sample_rate = np.array(sample_rate)\n",
        "mfccs = np.mean(librosa.feature.mfcc(y=X,sr=sample_rate,n_mfcc=13),axis=0)\n",
        "mfccs"
      ],
      "execution_count": null,
      "outputs": []
    },
    {
      "cell_type": "code",
      "metadata": {
        "id": "8aCcJEwY0Fgo",
        "colab_type": "code",
        "colab": {
          "base_uri": "https://localhost:8080/",
          "height": 34
        },
        "outputId": "22fa68df-ab86-45f4-ad86-6781b020c013"
      },
      "source": [
        "mfccs.shape"
      ],
      "execution_count": null,
      "outputs": [
        {
          "output_type": "execute_result",
          "data": {
            "text/plain": [
              "(216,)"
            ]
          },
          "metadata": {
            "tags": []
          },
          "execution_count": 235
        }
      ]
    },
    {
      "cell_type": "code",
      "metadata": {
        "id": "HR4zIjTu0QEV",
        "colab_type": "code",
        "colab": {
          "base_uri": "https://localhost:8080/",
          "height": 34
        },
        "outputId": "0a15e87d-c0c3-4ec8-8f5a-e22371344305"
      },
      "source": [
        "## Knn prediction\n",
        "## input shape 2d Array(sample_size*216)\n",
        "#knn.predict(np.expand_dims(mfccs,0))\n",
        "knn.predict([mfccs.tolist()])"
      ],
      "execution_count": null,
      "outputs": [
        {
          "output_type": "execute_result",
          "data": {
            "text/plain": [
              "array([3.])"
            ]
          },
          "metadata": {
            "tags": []
          },
          "execution_count": 240
        }
      ]
    },
    {
      "cell_type": "code",
      "metadata": {
        "id": "oTCA7IM30jAh",
        "colab_type": "code",
        "colab": {
          "base_uri": "https://localhost:8080/",
          "height": 50
        },
        "outputId": "9db167a8-659a-40f9-f275-cc167362116e"
      },
      "source": [
        "model_ann.predict(np.expand_dims(mfccs,0))"
      ],
      "execution_count": null,
      "outputs": [
        {
          "output_type": "execute_result",
          "data": {
            "text/plain": [
              "array([[4.4320699e-05, 2.1718467e-02, 1.7860271e-04, 9.7805858e-01]],\n",
              "      dtype=float32)"
            ]
          },
          "metadata": {
            "tags": []
          },
          "execution_count": 241
        }
      ]
    },
    {
      "cell_type": "code",
      "metadata": {
        "id": "EqbI2U7k1Yt3",
        "colab_type": "code",
        "colab": {}
      },
      "source": [
        ""
      ],
      "execution_count": null,
      "outputs": []
    }
  ]
}