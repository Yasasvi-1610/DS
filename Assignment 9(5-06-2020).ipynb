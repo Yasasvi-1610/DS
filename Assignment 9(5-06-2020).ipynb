{
 "cells": [
  {
   "cell_type": "markdown",
   "metadata": {},
   "source": [
    "# CSE-221710313059-T.Yasasvi"
   ]
  },
  {
   "cell_type": "code",
   "execution_count": 1,
   "metadata": {},
   "outputs": [],
   "source": [
    "import pandas as pd"
   ]
  },
  {
   "cell_type": "code",
   "execution_count": 7,
   "metadata": {},
   "outputs": [
    {
     "data": {
      "text/html": [
       "<div>\n",
       "<style scoped>\n",
       "    .dataframe tbody tr th:only-of-type {\n",
       "        vertical-align: middle;\n",
       "    }\n",
       "\n",
       "    .dataframe tbody tr th {\n",
       "        vertical-align: top;\n",
       "    }\n",
       "\n",
       "    .dataframe thead th {\n",
       "        text-align: right;\n",
       "    }\n",
       "</style>\n",
       "<table border=\"1\" class=\"dataframe\">\n",
       "  <thead>\n",
       "    <tr style=\"text-align: right;\">\n",
       "      <th></th>\n",
       "      <th>A</th>\n",
       "      <th>B</th>\n",
       "      <th>A+B</th>\n",
       "      <th>A-B</th>\n",
       "      <th>A*B</th>\n",
       "      <th>A/B</th>\n",
       "    </tr>\n",
       "  </thead>\n",
       "  <tbody>\n",
       "    <tr>\n",
       "      <th>0</th>\n",
       "      <td>2</td>\n",
       "      <td>1</td>\n",
       "      <td>3</td>\n",
       "      <td>1</td>\n",
       "      <td>2</td>\n",
       "      <td>2.000000</td>\n",
       "    </tr>\n",
       "    <tr>\n",
       "      <th>1</th>\n",
       "      <td>4</td>\n",
       "      <td>3</td>\n",
       "      <td>7</td>\n",
       "      <td>1</td>\n",
       "      <td>12</td>\n",
       "      <td>1.333333</td>\n",
       "    </tr>\n",
       "    <tr>\n",
       "      <th>2</th>\n",
       "      <td>6</td>\n",
       "      <td>5</td>\n",
       "      <td>11</td>\n",
       "      <td>1</td>\n",
       "      <td>30</td>\n",
       "      <td>1.200000</td>\n",
       "    </tr>\n",
       "    <tr>\n",
       "      <th>3</th>\n",
       "      <td>8</td>\n",
       "      <td>7</td>\n",
       "      <td>15</td>\n",
       "      <td>1</td>\n",
       "      <td>56</td>\n",
       "      <td>1.142857</td>\n",
       "    </tr>\n",
       "    <tr>\n",
       "      <th>4</th>\n",
       "      <td>10</td>\n",
       "      <td>9</td>\n",
       "      <td>19</td>\n",
       "      <td>1</td>\n",
       "      <td>90</td>\n",
       "      <td>1.111111</td>\n",
       "    </tr>\n",
       "  </tbody>\n",
       "</table>\n",
       "</div>"
      ],
      "text/plain": [
       "    A  B  A+B  A-B  A*B       A/B\n",
       "0   2  1    3    1    2  2.000000\n",
       "1   4  3    7    1   12  1.333333\n",
       "2   6  5   11    1   30  1.200000\n",
       "3   8  7   15    1   56  1.142857\n",
       "4  10  9   19    1   90  1.111111"
      ]
     },
     "execution_count": 7,
     "metadata": {},
     "output_type": "execute_result"
    }
   ],
   "source": [
    "#1. Write a Python program to add, subtract, multiple and divide two Pandas Series. \n",
    "a=pd.Series([2, 4, 6, 8, 10])\n",
    "b=pd.Series([1, 3, 5, 7, 9])\n",
    "c=a+b\n",
    "d=a-b\n",
    "e=a*b\n",
    "f=a/b\n",
    "data={\"A\":a,\"B\":b,\"A+B\":c,\"A-B\":d,\"A*B\":e,\"A/B\":f}\n",
    "g=pd.DataFrame(data)\n",
    "g"
   ]
  },
  {
   "cell_type": "code",
   "execution_count": 8,
   "metadata": {},
   "outputs": [
    {
     "name": "stdout",
     "output_type": "stream",
     "text": [
      "0      3.000938\n",
      "1     11.370722\n",
      "2     14.612143\n",
      "3      8.990256\n",
      "4     13.925283\n",
      "5     12.056875\n",
      "6     10.884719\n",
      "7      5.719827\n",
      "8      9.242017\n",
      "9     11.020006\n",
      "10     8.167892\n",
      "11    11.740654\n",
      "12     7.665620\n",
      "13    13.267388\n",
      "14    12.690883\n",
      "15     9.582355\n",
      "16     7.874878\n",
      "17    14.118931\n",
      "18     8.247458\n",
      "19     5.526727\n",
      "dtype: float64\n",
      "\n",
      "Minimum, 25th percentile, median, 75th, and maximum of a given series:\n",
      "[ 3.00093811  8.09463867 10.23353705 12.21537733 14.61214321]\n"
     ]
    }
   ],
   "source": [
    "#2.\n",
    "import numpy as np\n",
    "num_state = np.random.RandomState(100)\n",
    "num_series = pd.Series(num_state.normal(10, 4, 20))\n",
    "print(num_series)\n",
    "result = np.percentile(num_series, q=[0, 25, 50, 75, 100])\n",
    "print(\"\\nMinimum, 25th percentile, median, 75th, and maximum of a given series:\")\n",
    "print(result)"
   ]
  },
  {
   "cell_type": "code",
   "execution_count": 9,
   "metadata": {},
   "outputs": [
    {
     "name": "stdout",
     "output_type": "stream",
     "text": [
      "sr1:\n",
      "0    1\n",
      "1    2\n",
      "2    3\n",
      "3    4\n",
      "4    5\n",
      "dtype: int64\n",
      "sr2:\n",
      "0     2\n",
      "1     4\n",
      "2     6\n",
      "3     8\n",
      "4    10\n",
      "dtype: int64\n",
      "\n",
      "Items of sr1 not present in sr2:\n",
      "0    1\n",
      "2    3\n",
      "4    5\n",
      "dtype: int64\n"
     ]
    }
   ],
   "source": [
    "#3.\n",
    "sr1 = pd.Series([1, 2, 3, 4, 5])\n",
    "sr2 = pd.Series([2, 4, 6, 8, 10])\n",
    "print(\"sr1:\")\n",
    "print(sr1)\n",
    "print(\"sr2:\")\n",
    "print(sr2)\n",
    "print(\"\\nItems of sr1 not present in sr2:\")\n",
    "result = sr1[~sr1.isin(sr2)]\n",
    "print(result)"
   ]
  },
  {
   "cell_type": "code",
   "execution_count": 11,
   "metadata": {},
   "outputs": [
    {
     "name": "stdout",
     "output_type": "stream",
     "text": [
      "0       Red\n",
      "1     Green\n",
      "2    Orange\n",
      "3      Pink\n",
      "4    Yellow\n",
      "5     White\n",
      "dtype: object\n",
      "Filtered words:\n",
      "1     Green\n",
      "2    Orange\n",
      "4    Yellow\n",
      "5     White\n",
      "dtype: object\n"
     ]
    }
   ],
   "source": [
    "#4.\n",
    "from collections import Counter\n",
    "color_series = pd.Series(['Red', 'Green', 'Orange', 'Pink', 'Yellow', 'White'])\n",
    "print(color_series)\n",
    "print(\"Filtered words:\")\n",
    "result = mask = color_series.map(lambda c: sum([Counter(c.lower()).get(i, 0) for i in list('aeiou')]) >= 2)\n",
    "print(color_series[result])"
   ]
  },
  {
   "cell_type": "code",
   "execution_count": 13,
   "metadata": {},
   "outputs": [
    {
     "name": "stdout",
     "output_type": "stream",
     "text": [
      "        name  score  attempts qualify\n",
      "a  Anastasia   12.5         1     yes\n",
      "b       Dima    9.0         3      no\n",
      "c  Katherine   16.5         2     yes\n",
      "d      James    NaN         3      no\n",
      "e      Emily    9.0         2      no\n",
      "f    Michael   20.0         3     yes\n",
      "g    Matthew   14.5         1     yes\n",
      "h      Laura    NaN         1      no\n",
      "i      Kevin    8.0         2      no\n",
      "j      Jonas   19.0         1     yes\n",
      "Number of attempts in the examination is less than 2 and score greater than 15 :\n",
      "    name  score  attempts qualify\n",
      "j  Jonas   19.0         1     yes\n"
     ]
    }
   ],
   "source": [
    "#5.\n",
    "exam_data  = {'name': ['Anastasia', 'Dima', 'Katherine', 'James', 'Emily', 'Michael', 'Matthew', 'Laura', 'Kevin', 'Jonas'],\n",
    "        'score': [12.5, 9, 16.5, np.nan, 9, 20, 14.5, np.nan, 8, 19],\n",
    "        'attempts': [1, 3, 2, 3, 2, 3, 1, 1, 2, 1],\n",
    "        'qualify': ['yes', 'no', 'yes', 'no', 'no', 'yes', 'yes', 'no', 'no', 'yes']}\n",
    "labels = ['a', 'b', 'c', 'd', 'e', 'f', 'g', 'h', 'i', 'j']\n",
    "df = pd.DataFrame(exam_data , index=labels)\n",
    "print(df)\n",
    "print(\"Number of attempts in the examination is less than 2 and score greater than 15 :\")\n",
    "print(df[(df['attempts'] < 2) & (df['score'] > 15)])"
   ]
  },
  {
   "cell_type": "code",
   "execution_count": null,
   "metadata": {},
   "outputs": [],
   "source": []
  }
 ],
 "metadata": {
  "kernelspec": {
   "display_name": "Python 3",
   "language": "python",
   "name": "python3"
  },
  "language_info": {
   "codemirror_mode": {
    "name": "ipython",
    "version": 3
   },
   "file_extension": ".py",
   "mimetype": "text/x-python",
   "name": "python",
   "nbconvert_exporter": "python",
   "pygments_lexer": "ipython3",
   "version": "3.7.6"
  }
 },
 "nbformat": 4,
 "nbformat_minor": 4
}
