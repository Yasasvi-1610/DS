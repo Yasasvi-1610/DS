{
 "cells": [
  {
   "cell_type": "markdown",
   "metadata": {},
   "source": [
    "# CSE-221710313059-T.Yasasvi"
   ]
  },
  {
   "cell_type": "code",
   "execution_count": null,
   "metadata": {},
   "outputs": [],
   "source": [
    "Questions: https://docs.google.com/document/d/1WrkWFmmhCmX8Oi9Aw6uLhw0zU5IvTfYjJoVJIXzN_WM/edit"
   ]
  },
  {
   "cell_type": "code",
   "execution_count": 1,
   "metadata": {},
   "outputs": [
    {
     "name": "stdout",
     "output_type": "stream",
     "text": [
      "4\n",
      "a\n",
      "ab\n",
      "abcd\n",
      "aaaaa\n",
      "YES\n",
      "YES\n",
      "NO\n",
      "YES\n"
     ]
    }
   ],
   "source": [
    "#1.\n",
    "def L(x):\n",
    "    return x[1:]+x[0]\n",
    "def R(x):\n",
    "    return x[len(x)-1]+x[0:len(x)-1]\n",
    "t=int(input())\n",
    "list1=[input() for i in range(t)]\n",
    "for i in list1:\n",
    "    print(\"YES\") if L(i) == R(i) else print(\"NO\")"
   ]
  },
  {
   "cell_type": "code",
   "execution_count": 3,
   "metadata": {},
   "outputs": [
    {
     "name": "stdout",
     "output_type": "stream",
     "text": [
      "20 23 6\n",
      "2\n"
     ]
    }
   ],
   "source": [
    "#2.\n",
    "i,j,k=map(int,input().split())\n",
    "c=0\n",
    "for n in range(i,j+1):\n",
    "    if((n-int(str(n)[::-1]))%2==0):\n",
    "        c+=1\n",
    "print(c)"
   ]
  },
  {
   "cell_type": "code",
   "execution_count": 5,
   "metadata": {},
   "outputs": [
    {
     "name": "stdout",
     "output_type": "stream",
     "text": [
      "4\n",
      "3 2 1 3\n",
      "2\n"
     ]
    }
   ],
   "source": [
    "#3.\n",
    "n=int(input())\n",
    "a=list(map(int,input().split()))\n",
    "print(a.count(max(a)))"
   ]
  },
  {
   "cell_type": "code",
   "execution_count": 7,
   "metadata": {},
   "outputs": [
    {
     "name": "stdout",
     "output_type": "stream",
     "text": [
      "1,2,1\n",
      "211,3\n"
     ]
    }
   ],
   "source": [
    "#4.\n",
    "import itertools as it\n",
    "a=list(map(str,input().split(',')))\n",
    "p = it.permutations(a, 3)\n",
    "x = list(set(p))\n",
    "l = []\n",
    "for i in x:\n",
    "    p = ''.join(i)\n",
    "    l.append(int(p))\n",
    "l.sort()\n",
    "print(str(l[-1])+','+str(len(l)))"
   ]
  },
  {
   "cell_type": "code",
   "execution_count": 8,
   "metadata": {},
   "outputs": [
    {
     "name": "stdout",
     "output_type": "stream",
     "text": [
      "124\n",
      "545\n"
     ]
    }
   ],
   "source": [
    "#5.\n",
    "n=int(input())\n",
    "while(True):\n",
    "    n=str(n)\n",
    "    if(n ==n[::-1]):\n",
    "        print(n)\n",
    "        break\n",
    "    else:\n",
    "        n=int(n)+int(n[::-1])"
   ]
  },
  {
   "cell_type": "code",
   "execution_count": null,
   "metadata": {},
   "outputs": [
    {
     "name": "stdout",
     "output_type": "stream",
     "text": [
      "2\n",
      "5 3\n",
      "2 4 2 4 2\n",
      "output:\n",
      " 5 \n",
      "\n"
     ]
    }
   ],
   "source": [
    "#6.\n",
    "t=int(input())\n",
    "while(t>0):\n",
    "    n,k=map(int,input().split())\n",
    "    a=list(map(int,input().split()))\n",
    "    gre=0\n",
    "    l=0\n",
    "    pos=-1\n",
    "    long=0\n",
    "    for i in range(n):\n",
    "        if a[i]>k and gre!=0 and a[i]!=gre:\n",
    "            gre = a[i]\n",
    "            if long<l:\n",
    "                long=l\n",
    "            l = i - pos\n",
    "            pos=i\n",
    "            continue\n",
    "        elif a[i]>k:\n",
    "            gre = a[i]\n",
    "            pos=i\n",
    "        l+=1\n",
    "    if long<l:\n",
    "        long=l\n",
    "    t-=1\n",
    "    print(\"output:\\n\",long,\"\\n\")"
   ]
  },
  {
   "cell_type": "code",
   "execution_count": null,
   "metadata": {},
   "outputs": [],
   "source": []
  }
 ],
 "metadata": {
  "kernelspec": {
   "display_name": "Python 3",
   "language": "python",
   "name": "python3"
  },
  "language_info": {
   "codemirror_mode": {
    "name": "ipython",
    "version": 3
   },
   "file_extension": ".py",
   "mimetype": "text/x-python",
   "name": "python",
   "nbconvert_exporter": "python",
   "pygments_lexer": "ipython3",
   "version": "3.7.6"
  }
 },
 "nbformat": 4,
 "nbformat_minor": 4
}
