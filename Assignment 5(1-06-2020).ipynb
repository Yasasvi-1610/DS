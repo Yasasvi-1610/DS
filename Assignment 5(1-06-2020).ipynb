{
 "cells": [
  {
   "cell_type": "code",
   "execution_count": null,
   "metadata": {},
   "outputs": [
    {
     "name": "stdout",
     "output_type": "stream",
     "text": [
      "Enter yes if password is correct and no if the password is incorrectno\n",
      "annoyox2!\n",
      "Enter yes if password is correct and no if the password is incorrectno\n",
      "motionlessrat1*\n",
      "Enter yes if password is correct and no if the password is incorrectno\n",
      "amazingcat4:\n",
      "Enter yes if password is correct and no if the password is incorrectno\n",
      "busycow8@\n",
      "Enter yes if password is correct and no if the password is incorrectno\n",
      "amazingdinosaur4(\n",
      "Enter yes if password is correct and no if the password is incorrectno\n",
      "amazingbuffalo4+\n",
      "Enter yes if password is correct and no if the password is incorrectno\n",
      "busybird3)\n",
      "Enter yes if password is correct and no if the password is incorrectno\n",
      "motionlesscow2#\n",
      "Enter yes if password is correct and no if the password is incorrectno\n",
      "dizzycat2-\n",
      "Enter yes if password is correct and no if the password is incorrectno\n",
      "sleepyrat4@\n",
      "Enter yes if password is correct and no if the password is incorrectno\n",
      "amazingdinosaur8$\n"
     ]
    }
   ],
   "source": [
    "import random\n",
    "a=['happy','sad','sleepy','annoy','dizzy','busy','famous','amazing','fancy','motionless']\n",
    "b=['dog','cat','rat','horse','bird','cow','dinosaur','ox','cow','buffalo']\n",
    "c=('!','@','#','$','(',')','*','+','-','.','/',':',';','<','=')\n",
    "while(True):\n",
    "    d=input(\"Enter yes if password is correct and no if the password is incorrect\")\n",
    "    if(d=='no'):\n",
    "        print(random.choice(a)+random.choice(b)+str(random.randint(1,10))+random.choice(c))\n",
    "    else:\n",
    "        break"
   ]
  },
  {
   "cell_type": "code",
   "execution_count": null,
   "metadata": {},
   "outputs": [],
   "source": [
    "#5. creating the folder--> 5files\n",
    "import os \n",
    "import string\n",
    "import random\n",
    "#os.mkdir(\"python class\")\n",
    "for i in range (1,6):\n",
    "    file_name = \"C:\\\\Users\\\\DELL\\\\Desktop\\\\Internship\\\\Data Science\\\\python class\\\\file%d\"%(i)\n",
    "    f = open(file_name,\"a\")\n",
    "    data = \"\"\n",
    "    for i in range(512):\n",
    "        data = data + random.choice(string.ascii_letters) \n",
    "    f.write(data)\n",
    "    f.close()\n",
    "    "
   ]
  },
  {
   "cell_type": "code",
   "execution_count": null,
   "metadata": {},
   "outputs": [],
   "source": []
  }
 ],
 "metadata": {
  "kernelspec": {
   "display_name": "Python 3",
   "language": "python",
   "name": "python3"
  },
  "language_info": {
   "codemirror_mode": {
    "name": "ipython",
    "version": 3
   },
   "file_extension": ".py",
   "mimetype": "text/x-python",
   "name": "python",
   "nbconvert_exporter": "python",
   "pygments_lexer": "ipython3",
   "version": "3.7.6"
  }
 },
 "nbformat": 4,
 "nbformat_minor": 4
}
