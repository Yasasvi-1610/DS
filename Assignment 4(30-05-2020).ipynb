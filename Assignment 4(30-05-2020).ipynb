{
 "cells": [
  {
   "cell_type": "code",
   "execution_count": 1,
   "metadata": {},
   "outputs": [],
   "source": [
    "f = open(\"file1.txt\",\"w\")\n",
    "f.write(\"Hello Everyone\")\n",
    "f.close()"
   ]
  },
  {
   "cell_type": "code",
   "execution_count": 3,
   "metadata": {},
   "outputs": [],
   "source": [
    "f = open(\"file2.txt\",\"w\")\n",
    "f.write(\"My name is T.Yasasvi\")\n",
    "f.close()"
   ]
  },
  {
   "cell_type": "code",
   "execution_count": 8,
   "metadata": {},
   "outputs": [],
   "source": [
    "f = open(\"file3.txt\",\"w\")\n",
    "f.write(\"Internship\")\n",
    "f.close()"
   ]
  },
  {
   "cell_type": "code",
   "execution_count": 10,
   "metadata": {},
   "outputs": [],
   "source": [
    "f = open(\"file5.txt\",\"w\")\n",
    "f.write(\"CSE\")\n",
    "f.close()"
   ]
  },
  {
   "cell_type": "code",
   "execution_count": 9,
   "metadata": {},
   "outputs": [],
   "source": [
    "f = open(\"file4.txt\",\"w\")\n",
    "f.write(\"Gitam university\")\n",
    "f.close()"
   ]
  },
  {
   "cell_type": "code",
   "execution_count": null,
   "metadata": {},
   "outputs": [],
   "source": []
  },
  {
   "cell_type": "code",
   "execution_count": 11,
   "metadata": {},
   "outputs": [],
   "source": [
    "f = open(\"sample.txt\",\"w\")\n",
    "f.write(\"Hello everyone\")\n",
    "f.close()"
   ]
  },
  {
   "cell_type": "code",
   "execution_count": 17,
   "metadata": {},
   "outputs": [],
   "source": [
    "f=open(\"sample.txt\",\"a\")\n",
    "s=''' How are you doing?\n",
    "Stay safe please!!!'''\n",
    "f.write(s)\n",
    "f.close()"
   ]
  },
  {
   "cell_type": "code",
   "execution_count": 18,
   "metadata": {},
   "outputs": [
    {
     "name": "stdout",
     "output_type": "stream",
     "text": [
      "No.of lines in the file= 3\n",
      "No.of words in the file= 15\n",
      "No.of letters in the file= 71\n"
     ]
    }
   ],
   "source": [
    "#1. Count the no.of words,no.of letters,no.of lines available in your file\n",
    "file=open(\"sample.txt\",\"r\")\n",
    "c=file.read()\n",
    "list1=c.split(\"\\n\")\n",
    "list2=c.split()\n",
    "print(\"No.of lines in the file=\",len(list1))\n",
    "print(\"No.of words in the file=\",len(list2))\n",
    "print(\"No.of letters in the file=\",sum(len(word)for word in list2))"
   ]
  },
  {
   "cell_type": "code",
   "execution_count": 19,
   "metadata": {},
   "outputs": [],
   "source": [
    "#2. Copy the content of one file to another\n",
    "with open(\"sample.txt\") as f:\n",
    "    with open(\"text.txt\",\"w\") as f1:\n",
    "        for line in f:\n",
    "            f1.write(line)"
   ]
  },
  {
   "cell_type": "code",
   "execution_count": 20,
   "metadata": {},
   "outputs": [
    {
     "name": "stdout",
     "output_type": "stream",
     "text": [
      "please!!!\n"
     ]
    }
   ],
   "source": [
    "#3. Display the words starting with letter 'p'\n",
    "file=open(\"sample.txt\",\"r\")\n",
    "c=file.read()\n",
    "list1=c.split()\n",
    "for word in list1:\n",
    "    if word.startswith(\"p\"):\n",
    "        print(word)\n",
    "    continue"
   ]
  },
  {
   "cell_type": "code",
   "execution_count": 21,
   "metadata": {},
   "outputs": [],
   "source": [
    "#4. Rename files\n",
    "import os\n",
    "os.rename(\"text.txt\",\"text1.txt\")"
   ]
  },
  {
   "cell_type": "code",
   "execution_count": 23,
   "metadata": {},
   "outputs": [],
   "source": [
    "f = open(\"sample3.txt\",\"w\")\n",
    "f.write(\"Hello everyone\")\n",
    "f.close()"
   ]
  },
  {
   "cell_type": "code",
   "execution_count": 24,
   "metadata": {},
   "outputs": [],
   "source": [
    "#4.Remove file\n",
    "import os\n",
    "os.remove(\"sample3.txt\")"
   ]
  },
  {
   "cell_type": "code",
   "execution_count": 25,
   "metadata": {},
   "outputs": [
    {
     "name": "stdout",
     "output_type": "stream",
     "text": [
      "enter no. of elements in list:1\n",
      "2\n",
      "the list is: [2]\n",
      "sum is: 2\n"
     ]
    }
   ],
   "source": [
    "#6.sum of list elements\n",
    "x=[]\n",
    "n=int(input(\"enter no. of elements in list:\"))\n",
    "for i in range(0,n):\n",
    "    element=int(input())\n",
    "    x.append(element)\n",
    "print(\"the list is:\",x)\n",
    "s=0\n",
    "for i in range(0,len(x)):\n",
    "    s=s+x[i]\n",
    "print(\"sum is:\",s)"
   ]
  },
  {
   "cell_type": "code",
   "execution_count": 26,
   "metadata": {},
   "outputs": [
    {
     "name": "stdout",
     "output_type": "stream",
     "text": [
      "enter no. of elements in list:3\n",
      "1\n",
      "2\n",
      "3\n",
      "the list is: [1, 2, 3]\n",
      "the even numbers in list are:\n",
      "2\n"
     ]
    }
   ],
   "source": [
    "#7.even numbers from the list\n",
    "x=[]\n",
    "n=int(input(\"enter no. of elements in list:\"))\n",
    "for i in range(0,n):\n",
    "    element=int(input())\n",
    "    x.append(element)\n",
    "print(\"the list is:\",x)\n",
    "print(\"the even numbers in list are:\")\n",
    "for i in range(0,len(x)):\n",
    "    if(x[i]%2==0):\n",
    "        print(x[i])"
   ]
  },
  {
   "cell_type": "code",
   "execution_count": 27,
   "metadata": {},
   "outputs": [
    {
     "name": "stdout",
     "output_type": "stream",
     "text": [
      "enter no. of elements in list:3\n",
      "1\n",
      "2\n",
      "3\n",
      "the list is: [1, 2, 3]\n",
      "smallest number in list is  1 at index  0\n"
     ]
    }
   ],
   "source": [
    "#8.smallest number and index of that number in list\n",
    "x=[]\n",
    "n=int(input(\"enter no. of elements in list:\"))\n",
    "for i in range(0,n):\n",
    "    element=int(input())\n",
    "    x.append(element)\n",
    "print(\"the list is:\",x)\n",
    "m=0\n",
    "t=x[0]\n",
    "for i in range(0,len(x)):\n",
    "    if(x[i]<t):\n",
    "        t=x[i]\n",
    "        m=i\n",
    "print(\"smallest number in list is \",t,\"at index \",m)"
   ]
  },
  {
   "cell_type": "code",
   "execution_count": 28,
   "metadata": {},
   "outputs": [
    {
     "name": "stdout",
     "output_type": "stream",
     "text": [
      "enter no. of elements in list:4\n",
      "1\n",
      "2\n",
      "3\n",
      "4\n",
      "the list is: ['1', '2', '3', '4']\n",
      "1\n"
     ]
    }
   ],
   "source": [
    "#9.Longest string in list\n",
    "x=[]\n",
    "n=int(input(\"enter no. of elements in list:\"))\n",
    "for i in range(0,n):\n",
    "    e=input()\n",
    "    x.append(e)\n",
    "print(\"the list is:\",x)\n",
    "m=-1\n",
    "for i in x:\n",
    "    if len(i)>m:\n",
    "        m=len(i)\n",
    "        res=i\n",
    "print(res)"
   ]
  },
  {
   "cell_type": "code",
   "execution_count": 3,
   "metadata": {},
   "outputs": [
    {
     "name": "stdout",
     "output_type": "stream",
     "text": [
      "1\n",
      "it is not a prime\n",
      "enter no. Of elements in list:3\n",
      "1\n",
      "2\n",
      "3\n",
      "the list is: [1, 2, 3]\n",
      "2\n",
      "3\n"
     ]
    }
   ],
   "source": [
    "#10\n",
    "def prime(n):\n",
    "    c=0\n",
    "    for i in range(1,n+1):\n",
    "        if(n%i==0):\n",
    "            c+=1\n",
    "    if(c==2):\n",
    "        print(\"it is prime\")\n",
    "    else:\n",
    "        print(\"it is not a prime\")\n",
    "x=int(input())\n",
    "prime(x)\n",
    "b=int(input(\"enter no. Of elements in list:\"))\n",
    "l=[]\n",
    "for i in range(0,b):\n",
    "        ele=int(input())\n",
    "        l.append(ele)\n",
    "print(\"the list is:\",l)\n",
    "for i in range(0,len(l)):\n",
    "        v=0\n",
    "        for j in range(1,l[i]+1):\n",
    "             if(l[i]%j==0):\n",
    "                   v+=1\n",
    "        if(v==2):\n",
    "            print(l[i])"
   ]
  },
  {
   "cell_type": "code",
   "execution_count": 5,
   "metadata": {},
   "outputs": [
    {
     "name": "stdout",
     "output_type": "stream",
     "text": [
      "5\n",
      "binary: 101\n",
      "octal: 5\n"
     ]
    }
   ],
   "source": [
    "#11.Converting a number to binary or actal\n",
    "def binary(n):\n",
    "    x=bin(n)\n",
    "    x=x[2:]\n",
    "    print(\"binary:\",x)\n",
    "def octal(n):\n",
    "    y=oct(n)\n",
    "    y=y[2:]\n",
    "    print(\"octal:\",y)\n",
    "n=int(input())\n",
    "binary(n)\n",
    "octal(n)"
   ]
  },
  {
   "cell_type": "code",
   "execution_count": null,
   "metadata": {},
   "outputs": [],
   "source": []
  },
  {
   "cell_type": "code",
   "execution_count": null,
   "metadata": {},
   "outputs": [],
   "source": []
  }
 ],
 "metadata": {
  "kernelspec": {
   "display_name": "Python 3",
   "language": "python",
   "name": "python3"
  },
  "language_info": {
   "codemirror_mode": {
    "name": "ipython",
    "version": 3
   },
   "file_extension": ".py",
   "mimetype": "text/x-python",
   "name": "python",
   "nbconvert_exporter": "python",
   "pygments_lexer": "ipython3",
   "version": "3.7.6"
  }
 },
 "nbformat": 4,
 "nbformat_minor": 4
}
