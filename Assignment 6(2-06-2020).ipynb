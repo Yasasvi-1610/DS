{
 "cells": [
  {
   "cell_type": "markdown",
   "metadata": {},
   "source": [
    "# CSE-221710313059-T.Yasasvi"
   ]
  },
  {
   "cell_type": "code",
   "execution_count": 1,
   "metadata": {},
   "outputs": [
    {
     "name": "stdout",
     "output_type": "stream",
     "text": [
      "['?', '?', '?', '?', '?']\n",
      "enter letter or word p\n",
      "['p', '?', '?', '?', '?']\n",
      "enter letter or word i\n",
      "['p', 'i', '?', '?', '?']\n",
      "enter letter or word z\n",
      "['p', 'i', 'z', '?', '?']\n",
      "enter letter or word z\n",
      "['p', 'i', 'z', 'z', '?']\n",
      "enter letter or word a\n",
      "['p', 'i', 'z', 'z', 'a']\n",
      "enter letter or word pizza\n",
      "Won\n"
     ]
    }
   ],
   "source": [
    "import random\n",
    "l=9\n",
    "list1=('apple','build','pizza','plays')\n",
    "a=random.choice(list1)\n",
    "s=list('?????')\n",
    "g=False\n",
    "i=0\n",
    "while(l>0):\n",
    "    print(s)\n",
    "    letter=input(\"enter letter or word \")\n",
    "    if letter==a:\n",
    "        print(\"Won\")\n",
    "        g=True\n",
    "        break\n",
    "    elif letter in a:\n",
    "        while(i<len(a)):\n",
    "            if letter==a[i]:\n",
    "                s[i]=letter\n",
    "                i+=1\n",
    "            break\n",
    "    else:\n",
    "        l-=1\n",
    "        print(\"lives left\",l)\n",
    "if g==False:\n",
    "    print(\"Game over\")"
   ]
  },
  {
   "cell_type": "code",
   "execution_count": null,
   "metadata": {},
   "outputs": [],
   "source": []
  },
  {
   "cell_type": "code",
   "execution_count": null,
   "metadata": {},
   "outputs": [],
   "source": [
    "\n"
   ]
  },
  {
   "cell_type": "code",
   "execution_count": null,
   "metadata": {},
   "outputs": [],
   "source": []
  },
  {
   "cell_type": "code",
   "execution_count": null,
   "metadata": {},
   "outputs": [],
   "source": []
  }
 ],
 "metadata": {
  "kernelspec": {
   "display_name": "Python 3",
   "language": "python",
   "name": "python3"
  },
  "language_info": {
   "codemirror_mode": {
    "name": "ipython",
    "version": 3
   },
   "file_extension": ".py",
   "mimetype": "text/x-python",
   "name": "python",
   "nbconvert_exporter": "python",
   "pygments_lexer": "ipython3",
   "version": "3.7.6"
  }
 },
 "nbformat": 4,
 "nbformat_minor": 4
}
