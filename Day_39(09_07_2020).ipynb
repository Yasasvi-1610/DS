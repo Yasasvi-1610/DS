{
  "nbformat": 4,
  "nbformat_minor": 0,
  "metadata": {
    "colab": {
      "name": "Day-39(09-07-2020)",
      "provenance": [],
      "collapsed_sections": []
    },
    "kernelspec": {
      "name": "python3",
      "display_name": "Python 3"
    }
  },
  "cells": [
    {
      "cell_type": "markdown",
      "metadata": {
        "id": "XLmqEYXXu3BE",
        "colab_type": "text"
      },
      "source": [
        "### Handwritten Digit recognition"
      ]
    },
    {
      "cell_type": "markdown",
      "metadata": {
        "id": "FX-WbwJ8u-Hf",
        "colab_type": "text"
      },
      "source": [
        "#### Data Collection"
      ]
    },
    {
      "cell_type": "markdown",
      "metadata": {
        "id": "fLHthK96vBGp",
        "colab_type": "text"
      },
      "source": [
        "##### importing the required packages"
      ]
    },
    {
      "cell_type": "code",
      "metadata": {
        "id": "JZ1b81IVubjp",
        "colab_type": "code",
        "colab": {}
      },
      "source": [
        "import tensorflow as tf\n",
        "import tensorflow.keras as keras\n",
        "import numpy as np\n",
        "import matplotlib.pyplot as plt\n",
        "%matplotlib inline"
      ],
      "execution_count": null,
      "outputs": []
    },
    {
      "cell_type": "markdown",
      "metadata": {
        "id": "rJD5rnTKv4Qr",
        "colab_type": "text"
      },
      "source": [
        "### Load the MNIST dataset"
      ]
    },
    {
      "cell_type": "code",
      "metadata": {
        "id": "4IpCzTXAwSYs",
        "colab_type": "code",
        "colab": {
          "base_uri": "https://localhost:8080/",
          "height": 34
        },
        "outputId": "b0f0de4d-4c5d-42c8-bcb9-d14bb90c7d84"
      },
      "source": [
        "from keras.datasets.mnist import load_data"
      ],
      "execution_count": null,
      "outputs": [
        {
          "output_type": "stream",
          "text": [
            "Using TensorFlow backend.\n"
          ],
          "name": "stderr"
        }
      ]
    },
    {
      "cell_type": "code",
      "metadata": {
        "id": "wPZWft78v3WS",
        "colab_type": "code",
        "colab": {
          "base_uri": "https://localhost:8080/",
          "height": 67
        },
        "outputId": "3e1ce1ae-e4e7-423b-81a1-9e7ccfd5facd"
      },
      "source": [
        "## load_data -- return value is two tuples train,test\n",
        "(train_digits,train_labels),(test_digits,test_labels)=load_data()\n",
        "print(train_digits.shape)"
      ],
      "execution_count": null,
      "outputs": [
        {
          "output_type": "stream",
          "text": [
            "Downloading data from https://s3.amazonaws.com/img-datasets/mnist.npz\n",
            "11493376/11490434 [==============================] - 0s 0us/step\n",
            "(60000, 28, 28)\n"
          ],
          "name": "stdout"
        }
      ]
    },
    {
      "cell_type": "markdown",
      "metadata": {
        "id": "7xPUV9-ZwvX5",
        "colab_type": "text"
      },
      "source": [
        "There are 60000 images in the training data.each image size is 28*28"
      ]
    },
    {
      "cell_type": "code",
      "metadata": {
        "id": "LNKuW8o_w2tG",
        "colab_type": "code",
        "colab": {
          "base_uri": "https://localhost:8080/",
          "height": 34
        },
        "outputId": "233b428d-bd08-4ca4-efe8-5b9c8fc13b9a"
      },
      "source": [
        "print(test_digits.shape)"
      ],
      "execution_count": null,
      "outputs": [
        {
          "output_type": "stream",
          "text": [
            "(10000, 28, 28)\n"
          ],
          "name": "stdout"
        }
      ]
    },
    {
      "cell_type": "markdown",
      "metadata": {
        "id": "cIXIOmTIxE2U",
        "colab_type": "text"
      },
      "source": [
        "There are 10 classes . from class 0 to class 9"
      ]
    },
    {
      "cell_type": "code",
      "metadata": {
        "id": "RfcEfOx1xJ6Z",
        "colab_type": "code",
        "colab": {
          "base_uri": "https://localhost:8080/",
          "height": 34
        },
        "outputId": "23244fd4-324c-454a-d940-a1c5a5ad5275"
      },
      "source": [
        "print(train_labels.shape)"
      ],
      "execution_count": null,
      "outputs": [
        {
          "output_type": "stream",
          "text": [
            "(60000,)\n"
          ],
          "name": "stdout"
        }
      ]
    },
    {
      "cell_type": "markdown",
      "metadata": {
        "id": "3f_voDsxx7gd",
        "colab_type": "text"
      },
      "source": [
        "Class wise images count"
      ]
    },
    {
      "cell_type": "code",
      "metadata": {
        "id": "n-88YgZLxOtY",
        "colab_type": "code",
        "colab": {
          "base_uri": "https://localhost:8080/",
          "height": 34
        },
        "outputId": "81b34c24-fec9-407f-c5b3-f9ea6020a358"
      },
      "source": [
        "type(train_labels)"
      ],
      "execution_count": null,
      "outputs": [
        {
          "output_type": "execute_result",
          "data": {
            "text/plain": [
              "numpy.ndarray"
            ]
          },
          "metadata": {
            "tags": []
          },
          "execution_count": 10
        }
      ]
    },
    {
      "cell_type": "code",
      "metadata": {
        "id": "MYjvJmqlyzFJ",
        "colab_type": "code",
        "colab": {
          "base_uri": "https://localhost:8080/",
          "height": 202
        },
        "outputId": "8eeac93f-5e07-4d56-d520-49d3934a0ea9"
      },
      "source": [
        "import pandas as pd\n",
        "pd.Series(train_labels).value_counts()"
      ],
      "execution_count": null,
      "outputs": [
        {
          "output_type": "execute_result",
          "data": {
            "text/plain": [
              "1    6742\n",
              "7    6265\n",
              "3    6131\n",
              "2    5958\n",
              "9    5949\n",
              "0    5923\n",
              "6    5918\n",
              "8    5851\n",
              "4    5842\n",
              "5    5421\n",
              "dtype: int64"
            ]
          },
          "metadata": {
            "tags": []
          },
          "execution_count": 13
        }
      ]
    },
    {
      "cell_type": "markdown",
      "metadata": {
        "id": "4O2JJ5ZJzU_E",
        "colab_type": "text"
      },
      "source": [
        "image count for each label in test data"
      ]
    },
    {
      "cell_type": "code",
      "metadata": {
        "id": "mYw0dc41zAbp",
        "colab_type": "code",
        "colab": {
          "base_uri": "https://localhost:8080/",
          "height": 202
        },
        "outputId": "97f6db5e-999e-41a4-8fea-17d385534859"
      },
      "source": [
        "pd.Series(test_labels).value_counts()"
      ],
      "execution_count": null,
      "outputs": [
        {
          "output_type": "execute_result",
          "data": {
            "text/plain": [
              "1    1135\n",
              "2    1032\n",
              "7    1028\n",
              "3    1010\n",
              "9    1009\n",
              "4     982\n",
              "0     980\n",
              "8     974\n",
              "6     958\n",
              "5     892\n",
              "dtype: int64"
            ]
          },
          "metadata": {
            "tags": []
          },
          "execution_count": 14
        }
      ]
    },
    {
      "cell_type": "markdown",
      "metadata": {
        "id": "UaDp24dMz0-b",
        "colab_type": "text"
      },
      "source": [
        "## EDA"
      ]
    },
    {
      "cell_type": "markdown",
      "metadata": {
        "id": "FAfXwVI069nr",
        "colab_type": "text"
      },
      "source": [
        "Display few images with labels"
      ]
    },
    {
      "cell_type": "code",
      "metadata": {
        "id": "wkPh_9PMz3hM",
        "colab_type": "code",
        "colab": {
          "base_uri": "https://localhost:8080/",
          "height": 282
        },
        "outputId": "fd8cfe30-eaad-4bd3-fd89-125986582faa"
      },
      "source": [
        "plt.imshow(train_digits[0])"
      ],
      "execution_count": null,
      "outputs": [
        {
          "output_type": "execute_result",
          "data": {
            "text/plain": [
              "<matplotlib.image.AxesImage at 0x7fabc0dd40b8>"
            ]
          },
          "metadata": {
            "tags": []
          },
          "execution_count": 15
        },
        {
          "output_type": "display_data",
          "data": {
            "image/png": "[encoded data removed]",
            "text/plain": [
              "<Figure size 432x288 with 1 Axes>"
            ]
          },
          "metadata": {
            "tags": [],
            "needs_background": "light"
          }
        }
      ]
    },
    {
      "cell_type": "code",
      "metadata": {
        "id": "8aX1QMzX0IUF",
        "colab_type": "code",
        "colab": {
          "base_uri": "https://localhost:8080/",
          "height": 298
        },
        "outputId": "a0603991-39ad-419c-9908-3544c1b370ba"
      },
      "source": [
        "plt.imshow(train_digits[0],cmap='gray')\n",
        "plt.title(\"Digits\"+str(train_labels[0]))"
      ],
      "execution_count": null,
      "outputs": [
        {
          "output_type": "execute_result",
          "data": {
            "text/plain": [
              "Text(0.5, 1.0, 'Digits5')"
            ]
          },
          "metadata": {
            "tags": []
          },
          "execution_count": 16
        },
        {
          "output_type": "display_data",
          "data": {
            "image/png": "[encoded data removed]",
            "text/plain": [
              "<Figure size 432x288 with 1 Axes>"
            ]
          },
          "metadata": {
            "tags": [],
            "needs_background": "light"
          }
        }
      ]
    },
    {
      "cell_type": "code",
      "metadata": {
        "id": "O38xMGcd3Zh-",
        "colab_type": "code",
        "colab": {
          "base_uri": "https://localhost:8080/",
          "height": 101
        },
        "outputId": "0188c6e7-f950-452c-8d7e-dbc4ab740cfb"
      },
      "source": [
        "train_digits[0][5:10,22:25]"
      ],
      "execution_count": null,
      "outputs": [
        {
          "output_type": "execute_result",
          "data": {
            "text/plain": [
              "array([[247, 127,   0],\n",
              "       [195,  64,   0],\n",
              "       [ 39,   0,   0],\n",
              "       [  0,   0,   0],\n",
              "       [  0,   0,   0]], dtype=uint8)"
            ]
          },
          "metadata": {
            "tags": []
          },
          "execution_count": 30
        }
      ]
    },
    {
      "cell_type": "code",
      "metadata": {
        "id": "bQY8MEsy2DN3",
        "colab_type": "code",
        "colab": {
          "base_uri": "https://localhost:8080/",
          "height": 34
        },
        "outputId": "8fc042ed-ce94-4195-d23f-98eea5e196e2"
      },
      "source": [
        "28*28"
      ],
      "execution_count": null,
      "outputs": [
        {
          "output_type": "execute_result",
          "data": {
            "text/plain": [
              "784"
            ]
          },
          "metadata": {
            "tags": []
          },
          "execution_count": 23
        }
      ]
    },
    {
      "cell_type": "code",
      "metadata": {
        "id": "Ta77K0x200bp",
        "colab_type": "code",
        "colab": {
          "base_uri": "https://localhost:8080/",
          "height": 786
        },
        "outputId": "50baf229-cba1-4159-9342-3654b2bc04db"
      },
      "source": [
        "plt.hist(train_digits[0])"
      ],
      "execution_count": null,
      "outputs": [
        {
          "output_type": "execute_result",
          "data": {
            "text/plain": [
              "(array([[28.,  0.,  0.,  0.,  0.,  0.,  0.,  0.,  0.,  0.],\n",
              "        [28.,  0.,  0.,  0.,  0.,  0.,  0.,  0.,  0.,  0.],\n",
              "        [28.,  0.,  0.,  0.,  0.,  0.,  0.,  0.,  0.,  0.],\n",
              "        [28.,  0.,  0.,  0.,  0.,  0.,  0.,  0.,  0.,  0.],\n",
              "        [26.,  0.,  1.,  0.,  0.,  1.,  0.,  0.,  0.,  0.],\n",
              "        [26.,  0.,  0.,  0.,  0.,  0.,  1.,  0.,  0.,  1.],\n",
              "        [26.,  0.,  0.,  0.,  0.,  0.,  0.,  0.,  1.,  1.],\n",
              "        [24.,  1.,  0.,  0.,  0.,  0.,  1.,  0.,  0.,  2.],\n",
              "        [21.,  1.,  0.,  1.,  0.,  0.,  0.,  0.,  3.,  2.],\n",
              "        [20.,  1.,  1.,  0.,  0.,  1.,  1.,  0.,  0.,  4.],\n",
              "        [20.,  0.,  0.,  1.,  1.,  1.,  0.,  0.,  1.,  4.],\n",
              "        [18.,  0.,  0.,  0.,  1.,  1.,  2.,  0.,  0.,  6.],\n",
              "        [15.,  2.,  0.,  0.,  0.,  1.,  1.,  1.,  1.,  7.],\n",
              "        [15.,  0.,  0.,  2.,  0.,  1.,  0.,  2.,  1.,  7.],\n",
              "        [16.,  2.,  1.,  1.,  0.,  0.,  0.,  1.,  2.,  5.],\n",
              "        [18.,  0.,  0.,  0.,  0.,  1.,  1.,  3.,  0.,  5.],\n",
              "        [15.,  1.,  0.,  2.,  2.,  0.,  0.,  1.,  0.,  7.],\n",
              "        [16.,  0.,  0.,  0.,  1.,  1.,  1.,  1.,  0.,  8.],\n",
              "        [19.,  0.,  0.,  2.,  0.,  1.,  1.,  0.,  1.,  4.],\n",
              "        [20.,  2.,  0.,  1.,  0.,  0.,  1.,  2.,  1.,  1.],\n",
              "        [24.,  0.,  1.,  1.,  0.,  0.,  1.,  0.,  0.,  1.],\n",
              "        [25.,  0.,  1.,  0.,  0.,  0.,  0.,  0.,  0.,  2.],\n",
              "        [25.,  1.,  0.,  0.,  0.,  0.,  0.,  1.,  0.,  1.],\n",
              "        [26.,  0.,  1.,  0.,  1.,  0.,  0.,  0.,  0.,  0.],\n",
              "        [28.,  0.,  0.,  0.,  0.,  0.,  0.,  0.,  0.,  0.],\n",
              "        [28.,  0.,  0.,  0.,  0.,  0.,  0.,  0.,  0.,  0.],\n",
              "        [28.,  0.,  0.,  0.,  0.,  0.,  0.,  0.,  0.,  0.],\n",
              "        [28.,  0.,  0.,  0.,  0.,  0.,  0.,  0.,  0.,  0.]]),\n",
              " array([  0. ,  25.5,  51. ,  76.5, 102. , 127.5, 153. , 178.5, 204. ,\n",
              "        229.5, 255. ]),\n",
              " <a list of 28 Lists of Patches objects>)"
            ]
          },
          "metadata": {
            "tags": []
          },
          "execution_count": 18
        },
        {
          "output_type": "display_data",
          "data": {
            "image/png": "[encoded data removed]",
            "text/plain": [
              "<Figure size 432x288 with 1 Axes>"
            ]
          },
          "metadata": {
            "tags": [],
            "needs_background": "light"
          }
        }
      ]
    },
    {
      "cell_type": "code",
      "metadata": {
        "id": "bSt_6FHR1Zwz",
        "colab_type": "code",
        "colab": {
          "base_uri": "https://localhost:8080/",
          "height": 265
        },
        "outputId": "0deb2a76-e4da-4790-c31a-b658dac17d18"
      },
      "source": [
        "plt.hist(train_digits[0])\n",
        "plt.show()"
      ],
      "execution_count": null,
      "outputs": [
        {
          "output_type": "display_data",
          "data": {
            "image/png": "[encoded data removed]",
            "text/plain": [
              "<Figure size 432x288 with 1 Axes>"
            ]
          },
          "metadata": {
            "tags": [],
            "needs_background": "light"
          }
        }
      ]
    },
    {
      "cell_type": "code",
      "metadata": {
        "id": "hJoJmqLS2dZ9",
        "colab_type": "code",
        "colab": {
          "base_uri": "https://localhost:8080/",
          "height": 332
        },
        "outputId": "81202160-9f17-4ed7-ecf3-9f17c214e701"
      },
      "source": [
        "plt.hist(train_digits[0].flat)"
      ],
      "execution_count": null,
      "outputs": [
        {
          "output_type": "execute_result",
          "data": {
            "text/plain": [
              "(array([639.,  11.,   6.,  11.,   6.,   9.,  11.,  12.,  11.,  68.]),\n",
              " array([  0. ,  25.5,  51. ,  76.5, 102. , 127.5, 153. , 178.5, 204. ,\n",
              "        229.5, 255. ]),\n",
              " <a list of 10 Patch objects>)"
            ]
          },
          "metadata": {
            "tags": []
          },
          "execution_count": 25
        },
        {
          "output_type": "display_data",
          "data": {
            "image/png": "[encoded data removed]",
            "text/plain": [
              "<Figure size 432x288 with 1 Axes>"
            ]
          },
          "metadata": {
            "tags": [],
            "needs_background": "light"
          }
        }
      ]
    },
    {
      "cell_type": "code",
      "metadata": {
        "id": "-GCItH7v1fZA",
        "colab_type": "code",
        "colab": {
          "base_uri": "https://localhost:8080/",
          "height": 265
        },
        "outputId": "3791628e-c01e-43aa-db8f-7a95dca9712e"
      },
      "source": [
        "plt.hist(train_digits[0],bins=255)\n",
        "plt.show()"
      ],
      "execution_count": null,
      "outputs": [
        {
          "output_type": "display_data",
          "data": {
            "image/png": "[encoded data removed]",
            "text/plain": [
              "<Figure size 432x288 with 1 Axes>"
            ]
          },
          "metadata": {
            "tags": [],
            "needs_background": "light"
          }
        }
      ]
    },
    {
      "cell_type": "code",
      "metadata": {
        "id": "FCLbD05M1lbl",
        "colab_type": "code",
        "colab": {
          "base_uri": "https://localhost:8080/",
          "height": 265
        },
        "outputId": "82f34468-1bd3-4932-b55f-366c82e25d4a"
      },
      "source": [
        "plt.hist(train_digits[0].flat,bins=255)\n",
        "plt.show()"
      ],
      "execution_count": null,
      "outputs": [
        {
          "output_type": "display_data",
          "data": {
            "image/png": "[encoded data removed]",
            "text/plain": [
              "<Figure size 432x288 with 1 Axes>"
            ]
          },
          "metadata": {
            "tags": [],
            "needs_background": "light"
          }
        }
      ]
    },
    {
      "cell_type": "code",
      "metadata": {
        "id": "cJflU9Rj4Nw8",
        "colab_type": "code",
        "colab": {
          "base_uri": "https://localhost:8080/",
          "height": 282
        },
        "outputId": "794ec990-631d-4ced-cd5b-0bfb18f0562f"
      },
      "source": [
        "plt.imshow(train_digits[14],cmap='gray')"
      ],
      "execution_count": null,
      "outputs": [
        {
          "output_type": "execute_result",
          "data": {
            "text/plain": [
              "<matplotlib.image.AxesImage at 0x7fabbe2ec0b8>"
            ]
          },
          "metadata": {
            "tags": []
          },
          "execution_count": 31
        },
        {
          "output_type": "display_data",
          "data": {
            "image/png": "[encoded data removed]",
            "text/plain": [
              "<Figure size 432x288 with 1 Axes>"
            ]
          },
          "metadata": {
            "tags": [],
            "needs_background": "light"
          }
        }
      ]
    },
    {
      "cell_type": "code",
      "metadata": {
        "id": "o-r6gjxV2izR",
        "colab_type": "code",
        "colab": {
          "base_uri": "https://localhost:8080/",
          "height": 332
        },
        "outputId": "813d062f-6eb3-41f5-fda0-d5de4a74f474"
      },
      "source": [
        "## pixel distribution of digit 1\n",
        "plt.hist(train_digits[14].flat)"
      ],
      "execution_count": null,
      "outputs": [
        {
          "output_type": "execute_result",
          "data": {
            "text/plain": [
              "(array([713.,  17.,   1.,   2.,  10.,   0.,   4.,   4.,   2.,  31.]),\n",
              " array([  0. ,  25.5,  51. ,  76.5, 102. , 127.5, 153. , 178.5, 204. ,\n",
              "        229.5, 255. ]),\n",
              " <a list of 10 Patch objects>)"
            ]
          },
          "metadata": {
            "tags": []
          },
          "execution_count": 28
        },
        {
          "output_type": "display_data",
          "data": {
            "image/png": "[encoded data removed]",
            "text/plain": [
              "<Figure size 432x288 with 1 Axes>"
            ]
          },
          "metadata": {
            "tags": [],
            "needs_background": "light"
          }
        }
      ]
    },
    {
      "cell_type": "code",
      "metadata": {
        "id": "_R7GBtZq2ptg",
        "colab_type": "code",
        "colab": {
          "base_uri": "https://localhost:8080/",
          "height": 34
        },
        "outputId": "21efa39d-30e0-476c-c697-e0714121abc4"
      },
      "source": [
        "train_labels[10:20]"
      ],
      "execution_count": null,
      "outputs": [
        {
          "output_type": "execute_result",
          "data": {
            "text/plain": [
              "array([3, 5, 3, 6, 1, 7, 2, 8, 6, 9], dtype=uint8)"
            ]
          },
          "metadata": {
            "tags": []
          },
          "execution_count": 27
        }
      ]
    },
    {
      "cell_type": "code",
      "metadata": {
        "id": "EF3hmZQQ4csj",
        "colab_type": "code",
        "colab": {
          "base_uri": "https://localhost:8080/",
          "height": 50
        },
        "outputId": "7c924ff3-2a04-4c5d-d6bf-e7bcd8115916"
      },
      "source": [
        "samples = np.random.randint(train_digits.shape[0],size=16)\n",
        "samples"
      ],
      "execution_count": null,
      "outputs": [
        {
          "output_type": "execute_result",
          "data": {
            "text/plain": [
              "array([24107, 23776, 54591, 37427, 57998, 27207, 18614, 26856, 21904,\n",
              "        5311, 38372, 26896,  1665, 18082, 55484,  1356])"
            ]
          },
          "metadata": {
            "tags": []
          },
          "execution_count": 32
        }
      ]
    },
    {
      "cell_type": "code",
      "metadata": {
        "id": "MKfz7GHi5fbN",
        "colab_type": "code",
        "colab": {
          "base_uri": "https://localhost:8080/",
          "height": 917
        },
        "outputId": "dc84142a-2c76-4ec3-f7c0-90789f6e0fab"
      },
      "source": [
        "plt.figure(figsize=(16,16))\n",
        "j = 1\n",
        "for i in samples:\n",
        "  plt.subplot(4,4,j)\n",
        "  plt.imshow(train_digits[i])\n",
        "  plt.title(\"Digit\"+str(train_labels[i]))\n",
        "  plt.axis('off')\n",
        "  j+=1"
      ],
      "execution_count": null,
      "outputs": [
        {
          "output_type": "display_data",
          "data": {
            "image/png": "[encoded data removed]",
            "text/plain": [
              "<Figure size 1152x1152 with 16 Axes>"
            ]
          },
          "metadata": {
            "tags": [],
            "needs_background": "light"
          }
        }
      ]
    },
    {
      "cell_type": "code",
      "metadata": {
        "id": "P6YTq7D56JZL",
        "colab_type": "code",
        "colab": {
          "base_uri": "https://localhost:8080/",
          "height": 917
        },
        "outputId": "9dbb015f-6e19-481e-a27f-1051f4efb88c"
      },
      "source": [
        "plt.figure(figsize=(16,16))\n",
        "j = 1\n",
        "for i in samples:\n",
        "  plt.subplot(4,4,j)\n",
        "  plt.imshow(train_digits[i],cmap='gray')\n",
        "  plt.title(\"Digit\"+str(train_labels[i]))\n",
        "  plt.axis('off')\n",
        "  j+=1"
      ],
      "execution_count": null,
      "outputs": [
        {
          "output_type": "display_data",
          "data": {
            "image/png": "[encoded data removed]",
            "text/plain": [
              "<Figure size 1152x1152 with 16 Axes>"
            ]
          },
          "metadata": {
            "tags": [],
            "needs_background": "light"
          }
        }
      ]
    },
    {
      "cell_type": "code",
      "metadata": {
        "id": "R7NnaH1Q6T2r",
        "colab_type": "code",
        "colab": {
          "base_uri": "https://localhost:8080/",
          "height": 934
        },
        "outputId": "4a0be3a3-6fa4-4e8b-a23d-66a0e945e261"
      },
      "source": [
        "plt.figure(figsize=(16,16))\n",
        "j = 1\n",
        "for i in samples:\n",
        "  plt.subplot(4,4,j)\n",
        "  plt.hist(train_digits[i].flat)\n",
        "  plt.title(\"Digit\"+str(train_labels[i]))\n",
        " # plt.axis('off')\n",
        "  j+=1"
      ],
      "execution_count": null,
      "outputs": [
        {
          "output_type": "display_data",
          "data": {
            "image/png": "[encoded data removed]",
            "text/plain": [
              "<Figure size 1152x1152 with 16 Axes>"
            ]
          },
          "metadata": {
            "tags": [],
            "needs_background": "light"
          }
        }
      ]
    },
    {
      "cell_type": "markdown",
      "metadata": {
        "id": "ysGtOTJv8WkC",
        "colab_type": "text"
      },
      "source": [
        "### Preprocessing"
      ]
    },
    {
      "cell_type": "markdown",
      "metadata": {
        "id": "QCIA0BU88Z77",
        "colab_type": "text"
      },
      "source": [
        "##### Scaling"
      ]
    },
    {
      "cell_type": "code",
      "metadata": {
        "id": "rELsnRie8cL6",
        "colab_type": "code",
        "colab": {}
      },
      "source": [
        "train_digits_sc = train_digits/255.0\n",
        "test_digits_sc = test_digits/255.0"
      ],
      "execution_count": null,
      "outputs": []
    },
    {
      "cell_type": "markdown",
      "metadata": {
        "id": "zDv0aoI3-QLr",
        "colab_type": "text"
      },
      "source": [
        "Convert labels to categorical values"
      ]
    },
    {
      "cell_type": "code",
      "metadata": {
        "id": "TwgiYUXq8VeG",
        "colab_type": "code",
        "colab": {
          "base_uri": "https://localhost:8080/",
          "height": 34
        },
        "outputId": "5b88ee92-dff8-4592-c7b6-32a9ee7d8a47"
      },
      "source": [
        "train_labels"
      ],
      "execution_count": null,
      "outputs": [
        {
          "output_type": "execute_result",
          "data": {
            "text/plain": [
              "array([5, 0, 4, ..., 5, 6, 8], dtype=uint8)"
            ]
          },
          "metadata": {
            "tags": []
          },
          "execution_count": 39
        }
      ]
    },
    {
      "cell_type": "code",
      "metadata": {
        "id": "9xSUd42i8vzE",
        "colab_type": "code",
        "colab": {}
      },
      "source": [
        "from keras.utils import to_categorical"
      ],
      "execution_count": null,
      "outputs": []
    },
    {
      "cell_type": "code",
      "metadata": {
        "id": "oqdBnp1h8_13",
        "colab_type": "code",
        "colab": {}
      },
      "source": [
        "train_labels_cat = to_categorical(train_labels)"
      ],
      "execution_count": null,
      "outputs": []
    },
    {
      "cell_type": "code",
      "metadata": {
        "id": "5gpJ3f_49Mlh",
        "colab_type": "code",
        "colab": {
          "base_uri": "https://localhost:8080/",
          "height": 34
        },
        "outputId": "5b04c66e-1c1d-4837-e097-d46486979154"
      },
      "source": [
        "train_labels_cat[0]"
      ],
      "execution_count": null,
      "outputs": [
        {
          "output_type": "execute_result",
          "data": {
            "text/plain": [
              "array([0., 0., 0., 0., 0., 1., 0., 0., 0., 0.], dtype=float32)"
            ]
          },
          "metadata": {
            "tags": []
          },
          "execution_count": 42
        }
      ]
    },
    {
      "cell_type": "code",
      "metadata": {
        "id": "1WIZx4xb9U4w",
        "colab_type": "code",
        "colab": {
          "base_uri": "https://localhost:8080/",
          "height": 34
        },
        "outputId": "8b6294f9-0545-45f3-f873-54f37f3e61e4"
      },
      "source": [
        "test_labels_cat = to_categorical(test_labels)\n",
        "test_labels_cat[9]"
      ],
      "execution_count": null,
      "outputs": [
        {
          "output_type": "execute_result",
          "data": {
            "text/plain": [
              "array([0., 0., 0., 0., 0., 0., 0., 0., 0., 1.], dtype=float32)"
            ]
          },
          "metadata": {
            "tags": []
          },
          "execution_count": 44
        }
      ]
    },
    {
      "cell_type": "markdown",
      "metadata": {
        "id": "ZZQrI6NW-bC0",
        "colab_type": "text"
      },
      "source": [
        "Split the train data to train and validation"
      ]
    },
    {
      "cell_type": "code",
      "metadata": {
        "id": "2m_jw4TB-aDa",
        "colab_type": "code",
        "colab": {
          "base_uri": "https://localhost:8080/",
          "height": 67
        },
        "outputId": "15f887f0-bbcf-4561-af1e-0acc41fa8dbf"
      },
      "source": [
        "from sklearn.model_selection import train_test_split\n",
        "X_train,X_val,y_train,y_val = train_test_split(train_digits_sc,train_labels_cat,test_size=0.1,random_state=32)\n",
        "print(X_train.shape)\n",
        "print(X_val.shape)\n",
        "print(y_train.shape)"
      ],
      "execution_count": null,
      "outputs": [
        {
          "output_type": "stream",
          "text": [
            "(54000, 28, 28)\n",
            "(6000, 28, 28)\n",
            "(54000, 10)\n"
          ],
          "name": "stdout"
        }
      ]
    },
    {
      "cell_type": "markdown",
      "metadata": {
        "id": "af_P3u-v_Z0u",
        "colab_type": "text"
      },
      "source": [
        "### Build and Train the model"
      ]
    },
    {
      "cell_type": "markdown",
      "metadata": {
        "id": "M8TgF1VhBuTa",
        "colab_type": "text"
      },
      "source": [
        "### Build the model\n",
        "We need to take 1d array as input for Dense layer.<br>\n",
        "How many hidden layers you want to add here?<br>\n",
        "How many neurons in each hidden layer?<br>\n",
        "what is activation function for the hidden layers?<br>\n",
        "how many neurons we should take in the output layer?<br>\n",
        "what is the activation function for the output layer?"
      ]
    },
    {
      "cell_type": "markdown",
      "metadata": {
        "id": "lgdTyuTc_e_z",
        "colab_type": "text"
      },
      "source": [
        "Build the model"
      ]
    },
    {
      "cell_type": "code",
      "metadata": {
        "id": "RW34uNUP_Yrs",
        "colab_type": "code",
        "colab": {}
      },
      "source": [
        "## import the methods required\n",
        "from keras.models import Sequential\n",
        "from keras.layers import Dense,Flatten"
      ],
      "execution_count": null,
      "outputs": []
    },
    {
      "cell_type": "code",
      "metadata": {
        "id": "DQZN3JMLF3rO",
        "colab_type": "code",
        "colab": {
          "base_uri": "https://localhost:8080/",
          "height": 34
        },
        "outputId": "2495ed29-9fe7-4de5-b8be-c2da83858614"
      },
      "source": [
        "784*128+ 128"
      ],
      "execution_count": null,
      "outputs": [
        {
          "output_type": "execute_result",
          "data": {
            "text/plain": [
              "100480"
            ]
          },
          "metadata": {
            "tags": []
          },
          "execution_count": 53
        }
      ]
    },
    {
      "cell_type": "code",
      "metadata": {
        "id": "Mg8vjUA1E93z",
        "colab_type": "code",
        "colab": {
          "base_uri": "https://localhost:8080/",
          "height": 353
        },
        "outputId": "a399dc7b-df00-48e6-d7b5-caec9c792f64"
      },
      "source": [
        "## We are creating the base model\n",
        "model = Sequential()\n",
        "# first layer we need to mention the input shape\n",
        "model.add(Flatten(input_shape=(28,28)))\n",
        "## 784 pixel values as input to this Dense.128 neurons in the layers\n",
        "model.add(Dense(128,activation='relu')) #784*128+ 128\n",
        "model.add(Dense(128,activation='relu')) #128*128 +128\n",
        "model.add(Dense(64,activation='relu'))\n",
        "model.add(Dense(256,activation='relu'))\n",
        "# Final layer there are 10 classes so use 10 neurons\n",
        "model.add(Dense(10,activation='softmax')) # relu --> 1 or 0 for multiple node you will get 1\n",
        "model.summary()"
      ],
      "execution_count": null,
      "outputs": [
        {
          "output_type": "stream",
          "text": [
            "Model: \"sequential_1\"\n",
            "_________________________________________________________________\n",
            "Layer (type)                 Output Shape              Param #   \n",
            "=================================================================\n",
            "flatten_1 (Flatten)          (None, 784)               0         \n",
            "_________________________________________________________________\n",
            "dense_1 (Dense)              (None, 128)               100480    \n",
            "_________________________________________________________________\n",
            "dense_2 (Dense)              (None, 128)               16512     \n",
            "_________________________________________________________________\n",
            "dense_3 (Dense)              (None, 64)                8256      \n",
            "_________________________________________________________________\n",
            "dense_4 (Dense)              (None, 256)               16640     \n",
            "_________________________________________________________________\n",
            "dense_5 (Dense)              (None, 10)                2570      \n",
            "=================================================================\n",
            "Total params: 144,458\n",
            "Trainable params: 144,458\n",
            "Non-trainable params: 0\n",
            "_________________________________________________________________\n"
          ],
          "name": "stdout"
        }
      ]
    },
    {
      "cell_type": "markdown",
      "metadata": {
        "id": "gw5MkI1sHdI7",
        "colab_type": "text"
      },
      "source": [
        "### Compile the model\n",
        "what is the loss function?<br>\n",
        "what is the optimizer?<br>\n",
        "what are the metrcs?"
      ]
    },
    {
      "cell_type": "code",
      "metadata": {
        "id": "kDa0yHm6HvGm",
        "colab_type": "code",
        "colab": {}
      },
      "source": [
        "model.compile(optimizer='adam',loss=tf.keras.losses.CategoricalCrossentropy(),metrics=['accuracy'])"
      ],
      "execution_count": null,
      "outputs": []
    },
    {
      "cell_type": "markdown",
      "metadata": {
        "id": "AA3ASl8LJABl",
        "colab_type": "text"
      },
      "source": [
        "### Training the model"
      ]
    },
    {
      "cell_type": "code",
      "metadata": {
        "id": "ak3G4bsuI4Py",
        "colab_type": "code",
        "colab": {
          "base_uri": "https://localhost:8080/",
          "height": 390
        },
        "outputId": "81d611a3-f9d4-4a92-b9fc-6cbcc28a1128"
      },
      "source": [
        "history = model.fit(x=X_train,y=y_train,epochs=10,\\\n",
        "                    validation_data=(X_val,y_val),batch_size=32)"
      ],
      "execution_count": null,
      "outputs": [
        {
          "output_type": "stream",
          "text": [
            "Train on 54000 samples, validate on 6000 samples\n",
            "Epoch 1/10\n",
            "54000/54000 [==============================] - 7s 128us/step - loss: 0.2515 - accuracy: 0.9225 - val_loss: 0.1316 - val_accuracy: 0.9618\n",
            "Epoch 2/10\n",
            "54000/54000 [==============================] - 6s 116us/step - loss: 0.1098 - accuracy: 0.9660 - val_loss: 0.1040 - val_accuracy: 0.9703\n",
            "Epoch 3/10\n",
            "54000/54000 [==============================] - 6s 115us/step - loss: 0.0789 - accuracy: 0.9755 - val_loss: 0.1098 - val_accuracy: 0.9712\n",
            "Epoch 4/10\n",
            "54000/54000 [==============================] - 6s 117us/step - loss: 0.0639 - accuracy: 0.9801 - val_loss: 0.1098 - val_accuracy: 0.9690\n",
            "Epoch 5/10\n",
            "54000/54000 [==============================] - 6s 120us/step - loss: 0.0539 - accuracy: 0.9832 - val_loss: 0.1310 - val_accuracy: 0.9650\n",
            "Epoch 6/10\n",
            "54000/54000 [==============================] - 7s 128us/step - loss: 0.0451 - accuracy: 0.9852 - val_loss: 0.1029 - val_accuracy: 0.9723\n",
            "Epoch 7/10\n",
            "54000/54000 [==============================] - 6s 113us/step - loss: 0.0385 - accuracy: 0.9877 - val_loss: 0.0817 - val_accuracy: 0.9785\n",
            "Epoch 8/10\n",
            "54000/54000 [==============================] - 6s 115us/step - loss: 0.0352 - accuracy: 0.9893 - val_loss: 0.0998 - val_accuracy: 0.9747\n",
            "Epoch 9/10\n",
            "54000/54000 [==============================] - 6s 120us/step - loss: 0.0304 - accuracy: 0.9906 - val_loss: 0.0948 - val_accuracy: 0.9790\n",
            "Epoch 10/10\n",
            "54000/54000 [==============================] - 7s 122us/step - loss: 0.0292 - accuracy: 0.9913 - val_loss: 0.1337 - val_accuracy: 0.9757\n"
          ],
          "name": "stdout"
        }
      ]
    },
    {
      "cell_type": "code",
      "metadata": {
        "id": "uZLKEw3lOIEs",
        "colab_type": "code",
        "colab": {
          "base_uri": "https://localhost:8080/",
          "height": 50
        },
        "outputId": "63d33f08-cd6e-48ce-f71b-253e2b7411c7"
      },
      "source": [
        "model.evaluate(test_digits_sc,test_labels_cat)"
      ],
      "execution_count": null,
      "outputs": [
        {
          "output_type": "stream",
          "text": [
            "10000/10000 [==============================] - 0s 29us/step\n"
          ],
          "name": "stdout"
        },
        {
          "output_type": "execute_result",
          "data": {
            "text/plain": [
              "[0.0987635317595923, 0.9757000207901001]"
            ]
          },
          "metadata": {
            "tags": []
          },
          "execution_count": 58
        }
      ]
    },
    {
      "cell_type": "code",
      "metadata": {
        "id": "rOnHooqsO3sh",
        "colab_type": "code",
        "colab": {
          "base_uri": "https://localhost:8080/",
          "height": 67
        },
        "outputId": "86a34597-333d-4d62-cbe0-9842470f4cd2"
      },
      "source": [
        "print(test_digits_sc.shape)\n",
        "print(test_digits_sc[0].shape)\n",
        "print(np.expand_dims(test_digits_sc[0],axis=0).shape)"
      ],
      "execution_count": null,
      "outputs": [
        {
          "output_type": "stream",
          "text": [
            "(10000, 28, 28)\n",
            "(28, 28)\n",
            "(1, 28, 28)\n"
          ],
          "name": "stdout"
        }
      ]
    },
    {
      "cell_type": "code",
      "metadata": {
        "id": "XE7qf3NUQVv3",
        "colab_type": "code",
        "colab": {
          "base_uri": "https://localhost:8080/",
          "height": 34
        },
        "outputId": "3072b4ef-872b-46a9-f7e6-2d52f7b2f006"
      },
      "source": [
        "test_labels[0]"
      ],
      "execution_count": null,
      "outputs": [
        {
          "output_type": "execute_result",
          "data": {
            "text/plain": [
              "7"
            ]
          },
          "metadata": {
            "tags": []
          },
          "execution_count": 66
        }
      ]
    },
    {
      "cell_type": "code",
      "metadata": {
        "id": "0jwSGeqgOqfG",
        "colab_type": "code",
        "colab": {
          "base_uri": "https://localhost:8080/",
          "height": 67
        },
        "outputId": "55871fe4-d805-4c1c-8147-63b5dd2db89b"
      },
      "source": [
        "model.predict(np.expand_dims(test_digits_sc[0],axis=0))\n"
      ],
      "execution_count": null,
      "outputs": [
        {
          "output_type": "execute_result",
          "data": {
            "text/plain": [
              "array([[7.4857232e-13, 9.4906243e-09, 8.5639194e-08, 4.6063636e-08,\n",
              "        1.7852508e-12, 8.1774777e-14, 1.5185538e-16, 9.9999988e-01,\n",
              "        3.5280542e-10, 2.5715458e-08]], dtype=float32)"
            ]
          },
          "metadata": {
            "tags": []
          },
          "execution_count": 64
        }
      ]
    },
    {
      "cell_type": "code",
      "metadata": {
        "id": "-wwJ8LWuP8-T",
        "colab_type": "code",
        "colab": {
          "base_uri": "https://localhost:8080/",
          "height": 521
        },
        "outputId": "63973e38-b0d4-4757-b9df-88c86e82907f"
      },
      "source": [
        "model.predict(test_digits_sc[:10])"
      ],
      "execution_count": null,
      "outputs": [
        {
          "output_type": "execute_result",
          "data": {
            "text/plain": [
              "array([[7.48575139e-13, 9.49064205e-09, 8.56395204e-08, 4.60638105e-08,\n",
              "        1.78525760e-12, 8.17757117e-14, 1.51856543e-16, 9.99999881e-01,\n",
              "        3.52806784e-10, 2.57156074e-08],\n",
              "       [2.11400949e-12, 5.19570431e-09, 1.00000000e+00, 6.72725209e-10,\n",
              "        2.44756017e-12, 8.50210093e-13, 1.43258845e-13, 9.66482006e-10,\n",
              "        3.31549892e-12, 1.13760582e-14],\n",
              "       [1.89828171e-11, 9.99999762e-01, 2.05901660e-08, 2.91359402e-11,\n",
              "        4.99176211e-09, 2.59415371e-11, 1.46315723e-10, 1.40239305e-08,\n",
              "        2.74971853e-07, 2.26129893e-10],\n",
              "       [1.00000000e+00, 6.37088581e-14, 7.10239978e-10, 1.76345466e-10,\n",
              "        3.32294747e-10, 2.25218399e-09, 4.33942020e-08, 5.42628789e-12,\n",
              "        7.59753416e-09, 1.56322706e-08],\n",
              "       [1.12563100e-06, 3.44893233e-05, 9.36438846e-06, 4.20633413e-08,\n",
              "        9.99094009e-01, 1.40507973e-06, 1.88554004e-05, 1.71912790e-04,\n",
              "        8.58549299e-07, 6.68037566e-04],\n",
              "       [7.28665912e-12, 9.99999642e-01, 8.38797831e-09, 3.86720933e-11,\n",
              "        1.66222114e-09, 3.15992501e-12, 8.75609047e-12, 2.36300757e-08,\n",
              "        3.50927735e-07, 1.34781811e-10],\n",
              "       [1.08430209e-09, 8.34257094e-07, 1.23853806e-06, 2.97275493e-09,\n",
              "        9.99955058e-01, 4.18044323e-07, 1.09538469e-07, 5.09975280e-06,\n",
              "        3.59495039e-06, 3.37553538e-05],\n",
              "       [1.20763195e-08, 2.84191115e-09, 5.34128020e-10, 4.97778032e-08,\n",
              "        7.91052116e-07, 9.39675431e-07, 1.68987979e-13, 9.77023547e-08,\n",
              "        2.37054154e-09, 9.99998093e-01],\n",
              "       [8.46314185e-10, 2.01766479e-08, 3.31321526e-10, 1.24708144e-09,\n",
              "        1.04900666e-09, 3.44763696e-01, 6.55234933e-01, 3.77175538e-14,\n",
              "        1.30810417e-06, 2.06536543e-09],\n",
              "       [4.98955911e-11, 3.44351318e-11, 1.97432565e-12, 3.92890609e-10,\n",
              "        6.79974477e-08, 2.10821804e-09, 2.09832163e-16, 5.42801359e-09,\n",
              "        7.07620351e-11, 9.99999881e-01]], dtype=float32)"
            ]
          },
          "metadata": {
            "tags": []
          },
          "execution_count": 65
        }
      ]
    },
    {
      "cell_type": "code",
      "metadata": {
        "id": "URdkdh2KQwv3",
        "colab_type": "code",
        "colab": {
          "base_uri": "https://localhost:8080/",
          "height": 34
        },
        "outputId": "affc2f36-df7e-445a-aab1-483b5d106cca"
      },
      "source": [
        "model.predict_classes(np.expand_dims(test_digits_sc[0],axis=0))"
      ],
      "execution_count": null,
      "outputs": [
        {
          "output_type": "execute_result",
          "data": {
            "text/plain": [
              "array([7])"
            ]
          },
          "metadata": {
            "tags": []
          },
          "execution_count": 67
        }
      ]
    },
    {
      "cell_type": "code",
      "metadata": {
        "id": "oSzSMQhAQ-ue",
        "colab_type": "code",
        "colab": {
          "base_uri": "https://localhost:8080/",
          "height": 67
        },
        "outputId": "fc753db0-9ada-4662-f51f-87e6b186c50c"
      },
      "source": [
        "model.predict_proba(np.expand_dims(test_digits_sc[0],axis=0))"
      ],
      "execution_count": null,
      "outputs": [
        {
          "output_type": "execute_result",
          "data": {
            "text/plain": [
              "array([[7.4857232e-13, 9.4906243e-09, 8.5639194e-08, 4.6063636e-08,\n",
              "        1.7852508e-12, 8.1774777e-14, 1.5185538e-16, 9.9999988e-01,\n",
              "        3.5280542e-10, 2.5715458e-08]], dtype=float32)"
            ]
          },
          "metadata": {
            "tags": []
          },
          "execution_count": 68
        }
      ]
    },
    {
      "cell_type": "code",
      "metadata": {
        "id": "O7IxvZFNRFm-",
        "colab_type": "code",
        "colab": {
          "base_uri": "https://localhost:8080/",
          "height": 840
        },
        "outputId": "d00e7172-c0a0-440d-9a3f-135d455d8ebe"
      },
      "source": [
        "dir(history)"
      ],
      "execution_count": null,
      "outputs": [
        {
          "output_type": "execute_result",
          "data": {
            "text/plain": [
              "['__class__',\n",
              " '__delattr__',\n",
              " '__dict__',\n",
              " '__dir__',\n",
              " '__doc__',\n",
              " '__eq__',\n",
              " '__format__',\n",
              " '__ge__',\n",
              " '__getattribute__',\n",
              " '__gt__',\n",
              " '__hash__',\n",
              " '__init__',\n",
              " '__init_subclass__',\n",
              " '__le__',\n",
              " '__lt__',\n",
              " '__module__',\n",
              " '__ne__',\n",
              " '__new__',\n",
              " '__reduce__',\n",
              " '__reduce_ex__',\n",
              " '__repr__',\n",
              " '__setattr__',\n",
              " '__sizeof__',\n",
              " '__str__',\n",
              " '__subclasshook__',\n",
              " '__weakref__',\n",
              " 'epoch',\n",
              " 'history',\n",
              " 'model',\n",
              " 'on_batch_begin',\n",
              " 'on_batch_end',\n",
              " 'on_epoch_begin',\n",
              " 'on_epoch_end',\n",
              " 'on_predict_batch_begin',\n",
              " 'on_predict_batch_end',\n",
              " 'on_predict_begin',\n",
              " 'on_predict_end',\n",
              " 'on_test_batch_begin',\n",
              " 'on_test_batch_end',\n",
              " 'on_test_begin',\n",
              " 'on_test_end',\n",
              " 'on_train_batch_begin',\n",
              " 'on_train_batch_end',\n",
              " 'on_train_begin',\n",
              " 'on_train_end',\n",
              " 'params',\n",
              " 'set_model',\n",
              " 'set_params',\n",
              " 'validation_data']"
            ]
          },
          "metadata": {
            "tags": []
          },
          "execution_count": 69
        }
      ]
    },
    {
      "cell_type": "code",
      "metadata": {
        "id": "vJ4CJ0oXRVoT",
        "colab_type": "code",
        "colab": {
          "base_uri": "https://localhost:8080/",
          "height": 689
        },
        "outputId": "9750c2cc-ebb3-496d-bac0-02545b7cf172"
      },
      "source": [
        "history.history"
      ],
      "execution_count": null,
      "outputs": [
        {
          "output_type": "execute_result",
          "data": {
            "text/plain": [
              "{'accuracy': [0.92246294,\n",
              "  0.9660185,\n",
              "  0.9755185,\n",
              "  0.9800926,\n",
              "  0.9832037,\n",
              "  0.9852037,\n",
              "  0.9877037,\n",
              "  0.9892963,\n",
              "  0.99057406,\n",
              "  0.9913333],\n",
              " 'loss': [0.25149503522890587,\n",
              "  0.10978578328417131,\n",
              "  0.07893593202890069,\n",
              "  0.06387804312225327,\n",
              "  0.05385051726317033,\n",
              "  0.04511493286865125,\n",
              "  0.03854519511171384,\n",
              "  0.035173502809011284,\n",
              "  0.030406235933670596,\n",
              "  0.029161191869160608],\n",
              " 'val_accuracy': [0.9618333578109741,\n",
              "  0.9703333377838135,\n",
              "  0.9711666703224182,\n",
              "  0.968999981880188,\n",
              "  0.9649999737739563,\n",
              "  0.9723333120346069,\n",
              "  0.9785000085830688,\n",
              "  0.9746666550636292,\n",
              "  0.9789999723434448,\n",
              "  0.9756666421890259],\n",
              " 'val_loss': [0.13163316508879264,\n",
              "  0.10400204438281556,\n",
              "  0.10979036837071181,\n",
              "  0.10976937395147979,\n",
              "  0.13098481064119066,\n",
              "  0.1029376487058277,\n",
              "  0.08165260779003923,\n",
              "  0.09983259305264801,\n",
              "  0.09482886047905777,\n",
              "  0.13365852866585676]}"
            ]
          },
          "metadata": {
            "tags": []
          },
          "execution_count": 70
        }
      ]
    },
    {
      "cell_type": "code",
      "metadata": {
        "id": "wqbNmrdqRZAU",
        "colab_type": "code",
        "colab": {
          "base_uri": "https://localhost:8080/",
          "height": 34
        },
        "outputId": "426ea81e-dd2d-4e68-8ebd-203ac10e593e"
      },
      "source": [
        "history.history.keys()"
      ],
      "execution_count": null,
      "outputs": [
        {
          "output_type": "execute_result",
          "data": {
            "text/plain": [
              "dict_keys(['val_loss', 'val_accuracy', 'loss', 'accuracy'])"
            ]
          },
          "metadata": {
            "tags": []
          },
          "execution_count": 71
        }
      ]
    },
    {
      "cell_type": "code",
      "metadata": {
        "id": "cFPQnZBdRgcP",
        "colab_type": "code",
        "colab": {
          "base_uri": "https://localhost:8080/",
          "height": 282
        },
        "outputId": "90e28601-d170-485f-d45b-ad6381dd4162"
      },
      "source": [
        "plt.plot(range(1,11),history.history['accuracy'])\n",
        "plt.plot(range(1,11),history.history['val_accuracy'])"
      ],
      "execution_count": null,
      "outputs": [
        {
          "output_type": "execute_result",
          "data": {
            "text/plain": [
              "[<matplotlib.lines.Line2D at 0x7fabb9bb7da0>]"
            ]
          },
          "metadata": {
            "tags": []
          },
          "execution_count": 74
        },
        {
          "output_type": "display_data",
          "data": {
            "image/png": "[encoded data removed]",
            "text/plain": [
              "<Figure size 432x288 with 1 Axes>"
            ]
          },
          "metadata": {
            "tags": [],
            "needs_background": "light"
          }
        }
      ]
    }
  ]
}