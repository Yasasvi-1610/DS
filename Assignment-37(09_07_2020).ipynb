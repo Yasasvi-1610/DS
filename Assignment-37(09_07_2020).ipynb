{
 "cells": [
  {
   "cell_type": "markdown",
   "metadata": {
    "colab_type": "text",
    "id": "lHYB5Ip2FrNS"
   },
   "source": [
    "### CSE"
   ]
  },
  {
   "cell_type": "code",
   "execution_count": 1,
   "metadata": {
    "colab": {},
    "colab_type": "code",
    "id": "uX_yTmw2FV9U"
   },
   "outputs": [],
   "source": [
    "import tensorflow as tf\n",
    "import tensorflow.keras as keras\n",
    "import numpy as np\n",
    "import matplotlib.pyplot as plt\n",
    "%matplotlib inline"
   ]
  },
  {
   "cell_type": "code",
   "execution_count": 2,
   "metadata": {
    "colab": {
     "base_uri": "https://localhost:8080/",
     "height": 34
    },
    "colab_type": "code",
    "id": "sVRllwXyFeTC",
    "outputId": "5270ace5-3247-4943-8a47-ba7d8641f47d"
   },
   "outputs": [
    {
     "name": "stderr",
     "output_type": "stream",
     "text": [
      "Using TensorFlow backend.\n"
     ]
    }
   ],
   "source": [
    "from keras.datasets.mnist import load_data"
   ]
  },
  {
   "cell_type": "code",
   "execution_count": 3,
   "metadata": {
    "colab": {
     "base_uri": "https://localhost:8080/",
     "height": 84
    },
    "colab_type": "code",
    "id": "q-IO4IHGFiGu",
    "outputId": "47d39e71-0799-4206-d34f-d68b92abfa9c"
   },
   "outputs": [
    {
     "name": "stdout",
     "output_type": "stream",
     "text": [
      "Downloading data from https://s3.amazonaws.com/img-datasets/mnist.npz\n",
      "11493376/11490434 [==============================] - 0s 0us/step\n",
      "(60000, 28, 28)\n",
      "(10000, 28, 28)\n"
     ]
    }
   ],
   "source": [
    "(train_digits,train_labels),(test_digits,test_labels)=load_data()\n",
    "print(train_digits.shape)\n",
    "print(test_digits.shape)"
   ]
  },
  {
   "cell_type": "code",
   "execution_count": 4,
   "metadata": {
    "colab": {
     "base_uri": "https://localhost:8080/",
     "height": 218
    },
    "colab_type": "code",
    "id": "6MxmXm7DFlru",
    "outputId": "f3e63f78-4d1c-4d59-bec1-ede9306baffe"
   },
   "outputs": [
    {
     "data": {
      "text/plain": [
       "<bound method IndexOpsMixin.value_counts of 0        5\n",
       "1        0\n",
       "2        4\n",
       "3        1\n",
       "4        9\n",
       "        ..\n",
       "59995    8\n",
       "59996    3\n",
       "59997    5\n",
       "59998    6\n",
       "59999    8\n",
       "Length: 60000, dtype: uint8>"
      ]
     },
     "execution_count": 4,
     "metadata": {
      "tags": []
     },
     "output_type": "execute_result"
    }
   ],
   "source": [
    "import pandas as pd\n",
    "pd.Series(train_labels).value_counts"
   ]
  },
  {
   "cell_type": "code",
   "execution_count": 5,
   "metadata": {
    "colab": {
     "base_uri": "https://localhost:8080/",
     "height": 218
    },
    "colab_type": "code",
    "id": "nR445WoSFqZa",
    "outputId": "16d5acd7-4c69-4f7f-9550-6bcc395da6be"
   },
   "outputs": [
    {
     "data": {
      "text/plain": [
       "<bound method IndexOpsMixin.value_counts of 0       7\n",
       "1       2\n",
       "2       1\n",
       "3       0\n",
       "4       4\n",
       "       ..\n",
       "9995    2\n",
       "9996    3\n",
       "9997    4\n",
       "9998    5\n",
       "9999    6\n",
       "Length: 10000, dtype: uint8>"
      ]
     },
     "execution_count": 5,
     "metadata": {
      "tags": []
     },
     "output_type": "execute_result"
    }
   ],
   "source": [
    "pd.Series(test_labels).value_counts"
   ]
  },
  {
   "cell_type": "code",
   "execution_count": 6,
   "metadata": {
    "colab": {
     "base_uri": "https://localhost:8080/",
     "height": 282
    },
    "colab_type": "code",
    "id": "cpAtNO7vGjmt",
    "outputId": "440a1e3e-b157-438f-b401-5ca762c9859d"
   },
   "outputs": [
    {
     "data": {
      "text/plain": [
       "<matplotlib.image.AxesImage at 0x7f635447c400>"
      ]
     },
     "execution_count": 6,
     "metadata": {
      "tags": []
     },
     "output_type": "execute_result"
    },
    {
     "data": {
      "image/png": "[encoded data removed]",
      "text/plain": [
       "<Figure size 432x288 with 1 Axes>"
      ]
     },
     "metadata": {
      "needs_background": "light",
      "tags": []
     },
     "output_type": "display_data"
    }
   ],
   "source": [
    "plt.imshow(train_digits[0])"
   ]
  },
  {
   "cell_type": "code",
   "execution_count": 7,
   "metadata": {
    "colab": {
     "base_uri": "https://localhost:8080/",
     "height": 298
    },
    "colab_type": "code",
    "id": "S0rAqfS4GnH8",
    "outputId": "c5613bb9-38cd-4122-da2d-ce368940fc3f"
   },
   "outputs": [
    {
     "data": {
      "text/plain": [
       "<matplotlib.image.AxesImage at 0x7f6353fb0470>"
      ]
     },
     "execution_count": 7,
     "metadata": {
      "tags": []
     },
     "output_type": "execute_result"
    },
    {
     "data": {
      "image/png": "[encoded data removed]",
      "text/plain": [
       "<Figure size 432x288 with 1 Axes>"
      ]
     },
     "metadata": {
      "needs_background": "light",
      "tags": []
     },
     "output_type": "display_data"
    }
   ],
   "source": [
    "plt.title(\"Digit:\"+str(train_labels[0]))\n",
    "plt.imshow(train_digits[0],cmap=\"gray\")"
   ]
  },
  {
   "cell_type": "code",
   "execution_count": 8,
   "metadata": {
    "colab": {
     "base_uri": "https://localhost:8080/",
     "height": 265
    },
    "colab_type": "code",
    "id": "XszRGi1RGqqn",
    "outputId": "f663d920-0054-42d0-b22e-15ea824e2d18"
   },
   "outputs": [
    {
     "data": {
      "image/png": "[encoded data removed]",
      "text/plain": [
       "<Figure size 432x288 with 1 Axes>"
      ]
     },
     "metadata": {
      "needs_background": "light",
      "tags": []
     },
     "output_type": "display_data"
    }
   ],
   "source": [
    "plt.hist(train_digits[0])\n",
    "plt.show()"
   ]
  },
  {
   "cell_type": "code",
   "execution_count": 9,
   "metadata": {
    "colab": {
     "base_uri": "https://localhost:8080/",
     "height": 50
    },
    "colab_type": "code",
    "id": "uGIFHbm_GtjS",
    "outputId": "7427b5e4-a135-4d22-f1ba-bf53269e7ed7"
   },
   "outputs": [
    {
     "data": {
      "text/plain": [
       "array([19145, 12594, 15847, 24243, 27260, 23133,  2859, 14874, 50187,\n",
       "       25729, 13271, 30029,  5334,  2160, 37763, 56200])"
      ]
     },
     "execution_count": 9,
     "metadata": {
      "tags": []
     },
     "output_type": "execute_result"
    }
   ],
   "source": [
    "samp=np.random.randint(train_digits.shape[0],size=16)\n",
    "samp"
   ]
  },
  {
   "cell_type": "code",
   "execution_count": 10,
   "metadata": {
    "colab": {
     "base_uri": "https://localhost:8080/",
     "height": 657
    },
    "colab_type": "code",
    "id": "vhECXaU1GwfB",
    "outputId": "393016d8-c05e-4463-96c3-0b3a90ad2fa6"
   },
   "outputs": [
    {
     "data": {
      "image/png": "[encoded data removed]",
      "text/plain": [
       "<Figure size 1152x1152 with 16 Axes>"
      ]
     },
     "metadata": {
      "needs_background": "light",
      "tags": []
     },
     "output_type": "display_data"
    }
   ],
   "source": [
    "plt.figure(figsize=(16,16))\n",
    "j=1\n",
    "for i in samp:\n",
    "  plt.subplot(4,4,j)\n",
    "  plt.imshow(train_digits[i])\n",
    "  plt.title(\"Digit:\"+str(train_labels[i]))\n",
    "  plt.axis(\"off\")\n",
    "  j=j+1"
   ]
  },
  {
   "cell_type": "code",
   "execution_count": 11,
   "metadata": {
    "colab": {},
    "colab_type": "code",
    "id": "CeS8uGOyGzyz"
   },
   "outputs": [],
   "source": [
    "train_digits_sc=train_digits/255.0\n",
    "test_digits_sc=test_digits/255.0"
   ]
  },
  {
   "cell_type": "code",
   "execution_count": 12,
   "metadata": {
    "colab": {},
    "colab_type": "code",
    "id": "LwUpm-xEG7u3"
   },
   "outputs": [],
   "source": [
    "from keras.utils import to_categorical"
   ]
  },
  {
   "cell_type": "code",
   "execution_count": 13,
   "metadata": {
    "colab": {},
    "colab_type": "code",
    "id": "yh10UxdnG-UK"
   },
   "outputs": [],
   "source": [
    "train_labels_cat=to_categorical(train_labels)"
   ]
  },
  {
   "cell_type": "code",
   "execution_count": 14,
   "metadata": {
    "colab": {},
    "colab_type": "code",
    "id": "AqlD3bDSHAos"
   },
   "outputs": [],
   "source": [
    "test_labels_cat=to_categorical(test_labels)"
   ]
  },
  {
   "cell_type": "code",
   "execution_count": 15,
   "metadata": {
    "colab": {
     "base_uri": "https://localhost:8080/",
     "height": 84
    },
    "colab_type": "code",
    "id": "ZmPeSz9QHDIO",
    "outputId": "b0f05184-799e-45f8-a4ba-eb8f36058514"
   },
   "outputs": [
    {
     "name": "stdout",
     "output_type": "stream",
     "text": [
      "(54000, 28, 28)\n",
      "(6000, 28, 28)\n",
      "(54000, 10)\n",
      "(6000, 10)\n"
     ]
    }
   ],
   "source": [
    "from sklearn.model_selection import train_test_split\n",
    "x_train,x_val,y_train,y_val=train_test_split(train_digits_sc,train_labels_cat,test_size=0.1,random_state=32)\n",
    "print(x_train.shape)\n",
    "print(x_val.shape)\n",
    "print(y_train.shape)\n",
    "print(y_val.shape)"
   ]
  },
  {
   "cell_type": "code",
   "execution_count": 16,
   "metadata": {
    "colab": {
     "base_uri": "https://localhost:8080/",
     "height": 353
    },
    "colab_type": "code",
    "id": "dGsCN8mMHF0X",
    "outputId": "55a788df-8bdc-4317-abef-f085aef27848"
   },
   "outputs": [
    {
     "name": "stdout",
     "output_type": "stream",
     "text": [
      "Model: \"sequential_1\"\n",
      "_________________________________________________________________\n",
      "Layer (type)                 Output Shape              Param #   \n",
      "=================================================================\n",
      "flatten_1 (Flatten)          (None, 784)               0         \n",
      "_________________________________________________________________\n",
      "dense_1 (Dense)              (None, 128)               100480    \n",
      "_________________________________________________________________\n",
      "dense_2 (Dense)              (None, 128)               16512     \n",
      "_________________________________________________________________\n",
      "dense_3 (Dense)              (None, 64)                8256      \n",
      "_________________________________________________________________\n",
      "dense_4 (Dense)              (None, 256)               16640     \n",
      "_________________________________________________________________\n",
      "dense_5 (Dense)              (None, 10)                2570      \n",
      "=================================================================\n",
      "Total params: 144,458\n",
      "Trainable params: 144,458\n",
      "Non-trainable params: 0\n",
      "_________________________________________________________________\n"
     ]
    }
   ],
   "source": [
    "from keras.models import Sequential\n",
    "from keras.layers import Dense,Flatten\n",
    "\n",
    "model = Sequential()\n",
    "# first layer we need to mention the input shape\n",
    "\n",
    "model.add(Flatten(input_shape=(28,28)))\n",
    "## 784 pixel values as input to this Dense. 128 Neurons in the layers\n",
    "model.add(Dense(128,activation='relu'))# 784 * 128+128\n",
    "model.add(Dense(128,activation='relu'))# \n",
    "model.add(Dense(64,activation='relu'))\n",
    "model.add(Dense(256,activation='relu'))\n",
    "#Final layer\n",
    "model.add(Dense(10,activation='softmax'))\n",
    "model.summary()"
   ]
  },
  {
   "cell_type": "code",
   "execution_count": 17,
   "metadata": {
    "colab": {},
    "colab_type": "code",
    "id": "dPVqE0NaHJKn"
   },
   "outputs": [],
   "source": [
    "model.compile(optimizer='adam',loss=tf.keras.losses.CategoricalCrossentropy(),metrics=['accuracy'])"
   ]
  },
  {
   "cell_type": "code",
   "execution_count": 18,
   "metadata": {
    "colab": {
     "base_uri": "https://localhost:8080/",
     "height": 222
    },
    "colab_type": "code",
    "id": "AChWvUSDHNWG",
    "outputId": "020ac52b-c270-4da7-d8b2-8091a0295766"
   },
   "outputs": [
    {
     "name": "stdout",
     "output_type": "stream",
     "text": [
      "Train on 54000 samples, validate on 6000 samples\n",
      "Epoch 1/5\n",
      "54000/54000 [==============================] - 7s 128us/step - loss: 0.2478 - accuracy: 0.9241 - val_loss: 0.1517 - val_accuracy: 0.9548\n",
      "Epoch 2/5\n",
      "54000/54000 [==============================] - 7s 122us/step - loss: 0.1101 - accuracy: 0.9663 - val_loss: 0.1571 - val_accuracy: 0.9583\n",
      "Epoch 3/5\n",
      "54000/54000 [==============================] - 7s 121us/step - loss: 0.0831 - accuracy: 0.9744 - val_loss: 0.1134 - val_accuracy: 0.9702\n",
      "Epoch 4/5\n",
      "54000/54000 [==============================] - 7s 124us/step - loss: 0.0646 - accuracy: 0.9801 - val_loss: 0.1153 - val_accuracy: 0.9705\n",
      "Epoch 5/5\n",
      "54000/54000 [==============================] - 7s 123us/step - loss: 0.0535 - accuracy: 0.9831 - val_loss: 0.1217 - val_accuracy: 0.9693\n"
     ]
    }
   ],
   "source": [
    "history=model.fit(x=x_train,y=y_train,epochs=5,validation_data=(x_val,y_val),batch_size=32)"
   ]
  },
  {
   "cell_type": "code",
   "execution_count": 19,
   "metadata": {
    "colab": {
     "base_uri": "https://localhost:8080/",
     "height": 50
    },
    "colab_type": "code",
    "id": "3Ig8LedmHQQ1",
    "outputId": "eb0f9d0c-77ce-4d3e-c963-d0264bedf7d9"
   },
   "outputs": [
    {
     "name": "stdout",
     "output_type": "stream",
     "text": [
      "10000/10000 [==============================] - 0s 29us/step\n"
     ]
    },
    {
     "data": {
      "text/plain": [
       "[0.11014243417466059, 0.97079998254776]"
      ]
     },
     "execution_count": 19,
     "metadata": {
      "tags": []
     },
     "output_type": "execute_result"
    }
   ],
   "source": [
    "model.evaluate(test_digits_sc,test_labels_cat)"
   ]
  },
  {
   "cell_type": "code",
   "execution_count": 20,
   "metadata": {
    "colab": {
     "base_uri": "https://localhost:8080/",
     "height": 67
    },
    "colab_type": "code",
    "id": "upzAJ9yKHcwA",
    "outputId": "b0418ec2-24e4-44c1-9c8d-88e5ebc4412a"
   },
   "outputs": [
    {
     "name": "stdout",
     "output_type": "stream",
     "text": [
      "(10000, 28, 28)\n",
      "(28, 28)\n",
      "(1, 28, 28)\n"
     ]
    }
   ],
   "source": [
    "print(test_digits_sc.shape)\n",
    "print(test_digits_sc[0].shape)\n",
    "print(np.expand_dims(test_digits_sc[0],axis=0).shape)"
   ]
  },
  {
   "cell_type": "code",
   "execution_count": 21,
   "metadata": {
    "colab": {
     "base_uri": "https://localhost:8080/",
     "height": 67
    },
    "colab_type": "code",
    "id": "rwV9he6yIpH5",
    "outputId": "c82cfad7-00b4-40db-cc97-0f38f2d6bf28"
   },
   "outputs": [
    {
     "data": {
      "text/plain": [
       "array([[2.8016409e-08, 7.1844270e-06, 4.6565347e-06, 1.0936827e-06,\n",
       "        7.1496295e-08, 1.1814443e-07, 1.8719644e-11, 9.9990153e-01,\n",
       "        1.4140386e-07, 8.5230859e-05]], dtype=float32)"
      ]
     },
     "execution_count": 21,
     "metadata": {
      "tags": []
     },
     "output_type": "execute_result"
    }
   ],
   "source": [
    "model.predict(np.expand_dims(test_digits_sc[0],axis=0))"
   ]
  },
  {
   "cell_type": "code",
   "execution_count": 22,
   "metadata": {
    "colab": {
     "base_uri": "https://localhost:8080/",
     "height": 521
    },
    "colab_type": "code",
    "id": "nMUpTjYkIsef",
    "outputId": "b10e1766-2e6b-449d-ef62-57746b8ae236"
   },
   "outputs": [
    {
     "data": {
      "text/plain": [
       "array([[2.80164087e-08, 7.18443380e-06, 4.65653920e-06, 1.09368375e-06,\n",
       "        7.14964372e-08, 1.18144648e-07, 1.87196786e-11, 9.99901533e-01,\n",
       "        1.41403859e-07, 8.52309386e-05],\n",
       "       [3.24655218e-08, 2.02363626e-05, 9.99973893e-01, 2.94402639e-06,\n",
       "        2.73770013e-07, 5.02391053e-08, 1.61820040e-07, 2.41764246e-06,\n",
       "        1.90513454e-08, 1.85136684e-10],\n",
       "       [6.56223392e-06, 9.99343932e-01, 2.22948351e-04, 4.64591585e-06,\n",
       "        3.10295800e-05, 1.90788687e-05, 3.23289714e-04, 1.55791749e-05,\n",
       "        3.20408944e-05, 8.71065595e-07],\n",
       "       [9.99330878e-01, 2.00514116e-09, 5.50019438e-04, 6.10961069e-06,\n",
       "        2.57980361e-07, 6.09668064e-07, 5.17699955e-05, 2.05152716e-07,\n",
       "        2.77037117e-07, 5.98996885e-05],\n",
       "       [4.15415649e-08, 9.39252587e-09, 4.09202499e-07, 1.08026569e-07,\n",
       "        9.99989629e-01, 2.72668501e-07, 4.77429467e-07, 8.62305455e-07,\n",
       "        1.44836332e-09, 8.16923421e-06],\n",
       "       [1.81379406e-07, 9.99986291e-01, 2.82014798e-06, 5.45487531e-08,\n",
       "        3.52739448e-06, 1.27864993e-07, 5.38438280e-06, 7.66406004e-07,\n",
       "        8.32143257e-07, 3.65978607e-08],\n",
       "       [5.58966384e-08, 5.34285824e-08, 4.58697656e-07, 3.40948425e-08,\n",
       "        9.99911070e-01, 4.27566036e-08, 9.65394804e-08, 3.32016884e-06,\n",
       "        1.53073785e-07, 8.47090050e-05],\n",
       "       [4.46393133e-05, 2.64946181e-07, 8.23151913e-06, 2.45261379e-03,\n",
       "        2.14700376e-05, 7.51881336e-04, 1.33306735e-08, 2.48570359e-05,\n",
       "        9.14945631e-05, 9.96604562e-01],\n",
       "       [8.23064106e-09, 9.14684417e-09, 1.65595821e-07, 6.34178605e-06,\n",
       "        3.95996858e-06, 9.95615363e-01, 4.31353739e-03, 2.76992917e-08,\n",
       "        2.18103833e-05, 3.87363871e-05],\n",
       "       [1.45792670e-04, 2.15111982e-06, 1.32502955e-05, 5.75780405e-06,\n",
       "        1.10303480e-02, 2.25970098e-06, 9.97885650e-08, 3.52088391e-04,\n",
       "        1.52887424e-05, 9.88432944e-01]], dtype=float32)"
      ]
     },
     "execution_count": 22,
     "metadata": {
      "tags": []
     },
     "output_type": "execute_result"
    }
   ],
   "source": [
    "model.predict(test_digits_sc[:10])"
   ]
  },
  {
   "cell_type": "code",
   "execution_count": 23,
   "metadata": {
    "colab": {
     "base_uri": "https://localhost:8080/",
     "height": 34
    },
    "colab_type": "code",
    "id": "UpLMy3loIwKZ",
    "outputId": "388babcd-6acb-484a-f1a3-00688fff4526"
   },
   "outputs": [
    {
     "data": {
      "text/plain": [
       "array([7])"
      ]
     },
     "execution_count": 23,
     "metadata": {
      "tags": []
     },
     "output_type": "execute_result"
    }
   ],
   "source": [
    "model.predict_classes(np.expand_dims(test_digits_sc[0],axis=0))"
   ]
  },
  {
   "cell_type": "code",
   "execution_count": 24,
   "metadata": {
    "colab": {
     "base_uri": "https://localhost:8080/",
     "height": 67
    },
    "colab_type": "code",
    "id": "ix2U29g_Izhp",
    "outputId": "3430abf9-1f95-464f-ed72-8c759a1bace7"
   },
   "outputs": [
    {
     "data": {
      "text/plain": [
       "array([[2.8016409e-08, 7.1844270e-06, 4.6565347e-06, 1.0936827e-06,\n",
       "        7.1496295e-08, 1.1814443e-07, 1.8719644e-11, 9.9990153e-01,\n",
       "        1.4140386e-07, 8.5230859e-05]], dtype=float32)"
      ]
     },
     "execution_count": 24,
     "metadata": {
      "tags": []
     },
     "output_type": "execute_result"
    }
   ],
   "source": [
    "model.predict_proba(np.expand_dims(test_digits_sc[0],axis=0))"
   ]
  },
  {
   "cell_type": "code",
   "execution_count": 25,
   "metadata": {
    "colab": {
     "base_uri": "https://localhost:8080/",
     "height": 286
    },
    "colab_type": "code",
    "id": "GSuf7gdNI3I1",
    "outputId": "bda3245f-030a-4aab-b6e5-a5205ef42cfa"
   },
   "outputs": [
    {
     "data": {
      "text/plain": [
       "{'accuracy': [0.9240556, 0.9662778, 0.9744259, 0.98007405, 0.98305553],\n",
       " 'loss': [0.24775694658220918,\n",
       "  0.11007659681369034,\n",
       "  0.08310751750515084,\n",
       "  0.06462690685717044,\n",
       "  0.05353790246480127],\n",
       " 'val_accuracy': [0.9548333287239075,\n",
       "  0.9583333134651184,\n",
       "  0.9701666831970215,\n",
       "  0.9704999923706055,\n",
       "  0.9693333506584167],\n",
       " 'val_loss': [0.15174406527231138,\n",
       "  0.1570743273148934,\n",
       "  0.1133534084620575,\n",
       "  0.11527723016993453,\n",
       "  0.12169556098462393]}"
      ]
     },
     "execution_count": 25,
     "metadata": {
      "tags": []
     },
     "output_type": "execute_result"
    }
   ],
   "source": [
    "history.history"
   ]
  },
  {
   "cell_type": "code",
   "execution_count": 26,
   "metadata": {
    "colab": {
     "base_uri": "https://localhost:8080/",
     "height": 282
    },
    "colab_type": "code",
    "id": "8R0r9xzTI552",
    "outputId": "9214cf2e-d003-4f09-c31b-46bc391e9692"
   },
   "outputs": [
    {
     "data": {
      "text/plain": [
       "[<matplotlib.lines.Line2D at 0x7f6345a43f28>]"
      ]
     },
     "execution_count": 26,
     "metadata": {
      "tags": []
     },
     "output_type": "execute_result"
    },
    {
     "data": {
      "image/png": "[encoded data removed]",
      "text/plain": [
       "<Figure size 432x288 with 1 Axes>"
      ]
     },
     "metadata": {
      "needs_background": "light",
      "tags": []
     },
     "output_type": "display_data"
    }
   ],
   "source": [
    "plt.plot(history.history['accuracy'])\n",
    "plt.plot(history.history['val_accuracy'])"
   ]
  },
  {
   "cell_type": "code",
   "execution_count": 27,
   "metadata": {
    "colab": {
     "base_uri": "https://localhost:8080/",
     "height": 353
    },
    "colab_type": "code",
    "id": "YIvjDI9qI8fU",
    "outputId": "bcd21cb9-95d4-46c0-8312-53be9194f6a0"
   },
   "outputs": [
    {
     "name": "stdout",
     "output_type": "stream",
     "text": [
      "Model: \"sequential_2\"\n",
      "_________________________________________________________________\n",
      "Layer (type)                 Output Shape              Param #   \n",
      "=================================================================\n",
      "flatten_2 (Flatten)          (None, 784)               0         \n",
      "_________________________________________________________________\n",
      "dense_6 (Dense)              (None, 128)               100480    \n",
      "_________________________________________________________________\n",
      "dense_7 (Dense)              (None, 256)               33024     \n",
      "_________________________________________________________________\n",
      "dense_8 (Dense)              (None, 64)                16448     \n",
      "_________________________________________________________________\n",
      "dense_9 (Dense)              (None, 256)               16640     \n",
      "_________________________________________________________________\n",
      "dense_10 (Dense)             (None, 10)                2570      \n",
      "=================================================================\n",
      "Total params: 169,162\n",
      "Trainable params: 169,162\n",
      "Non-trainable params: 0\n",
      "_________________________________________________________________\n"
     ]
    }
   ],
   "source": [
    "model1 = Sequential()\n",
    "# first layer we need to mention the input shape\n",
    "\n",
    "model1.add(Flatten(input_shape=(28,28)))\n",
    "## 784 pixel values as input to this Dense. 128 Neurons in the layers\n",
    "model1.add(Dense(128,activation='relu'))# 784 * 128+128\n",
    "model1.add(Dense(256,activation='relu'))# \n",
    "model1.add(Dense(64,activation='relu'))\n",
    "model1.add(Dense(256,activation='relu'))\n",
    "#Final layer\n",
    "model1.add(Dense(10,activation='sigmoid'))\n",
    "model1.summary()"
   ]
  },
  {
   "cell_type": "code",
   "execution_count": 28,
   "metadata": {
    "colab": {},
    "colab_type": "code",
    "id": "ow0mkZ0pJAGo"
   },
   "outputs": [],
   "source": [
    "model1.compile(optimizer='adam',loss=tf.keras.losses.CategoricalCrossentropy(),metrics=['accuracy'])"
   ]
  },
  {
   "cell_type": "code",
   "execution_count": 29,
   "metadata": {
    "colab": {
     "base_uri": "https://localhost:8080/",
     "height": 222
    },
    "colab_type": "code",
    "id": "RAh-jRcCJDox",
    "outputId": "d4aeb53c-dd87-4ece-a3c0-9a369eb50128"
   },
   "outputs": [
    {
     "name": "stdout",
     "output_type": "stream",
     "text": [
      "Train on 54000 samples, validate on 6000 samples\n",
      "Epoch 1/5\n",
      "54000/54000 [==============================] - 8s 141us/step - loss: 0.2659 - accuracy: 0.9212 - val_loss: 0.1546 - val_accuracy: 0.9537\n",
      "Epoch 2/5\n",
      "54000/54000 [==============================] - 7s 133us/step - loss: 0.1159 - accuracy: 0.9643 - val_loss: 0.1065 - val_accuracy: 0.9703\n",
      "Epoch 3/5\n",
      "54000/54000 [==============================] - 7s 138us/step - loss: 0.0837 - accuracy: 0.9747 - val_loss: 0.1080 - val_accuracy: 0.9717\n",
      "Epoch 4/5\n",
      "54000/54000 [==============================] - 7s 132us/step - loss: 0.0649 - accuracy: 0.9798 - val_loss: 0.1112 - val_accuracy: 0.9712\n",
      "Epoch 5/5\n",
      "54000/54000 [==============================] - 7s 136us/step - loss: 0.0551 - accuracy: 0.9831 - val_loss: 0.1283 - val_accuracy: 0.9693\n"
     ]
    }
   ],
   "source": [
    "history=model1.fit(x=x_train,y=y_train,epochs=5,validation_data=(x_val,y_val),batch_size=32)"
   ]
  },
  {
   "cell_type": "code",
   "execution_count": 30,
   "metadata": {
    "colab": {
     "base_uri": "https://localhost:8080/",
     "height": 50
    },
    "colab_type": "code",
    "id": "p8QLfl_EJPJk",
    "outputId": "0afbacac-1c92-49e8-ac93-3d7fafd8655a"
   },
   "outputs": [
    {
     "name": "stdout",
     "output_type": "stream",
     "text": [
      "10000/10000 [==============================] - 0s 32us/step\n"
     ]
    },
    {
     "data": {
      "text/plain": [
       "[0.10460382611152018, 0.9735999703407288]"
      ]
     },
     "execution_count": 30,
     "metadata": {
      "tags": []
     },
     "output_type": "execute_result"
    }
   ],
   "source": [
    "model1.evaluate(test_digits_sc,test_labels_cat)"
   ]
  },
  {
   "cell_type": "code",
   "execution_count": 31,
   "metadata": {
    "colab": {
     "base_uri": "https://localhost:8080/",
     "height": 67
    },
    "colab_type": "code",
    "id": "hQtmTJURJZh8",
    "outputId": "21459280-d9eb-45f9-e2ff-288cf92fbe1b"
   },
   "outputs": [
    {
     "name": "stdout",
     "output_type": "stream",
     "text": [
      "(10000, 28, 28)\n",
      "(28, 28)\n",
      "(1, 28, 28)\n"
     ]
    }
   ],
   "source": [
    "print(test_digits_sc.shape)\n",
    "print(test_digits_sc[0].shape)\n",
    "print(np.expand_dims(test_digits_sc[0],axis=0).shape)"
   ]
  },
  {
   "cell_type": "code",
   "execution_count": 32,
   "metadata": {
    "colab": {
     "base_uri": "https://localhost:8080/",
     "height": 67
    },
    "colab_type": "code",
    "id": "IvLGkyHMJdNC",
    "outputId": "8ced9cd0-7588-447f-8842-cce394aa3e64"
   },
   "outputs": [
    {
     "data": {
      "text/plain": [
       "array([[2.8016409e-08, 7.1844270e-06, 4.6565347e-06, 1.0936827e-06,\n",
       "        7.1496295e-08, 1.1814443e-07, 1.8719644e-11, 9.9990153e-01,\n",
       "        1.4140386e-07, 8.5230859e-05]], dtype=float32)"
      ]
     },
     "execution_count": 32,
     "metadata": {
      "tags": []
     },
     "output_type": "execute_result"
    }
   ],
   "source": [
    "model.predict(np.expand_dims(test_digits_sc[0],axis=0))"
   ]
  },
  {
   "cell_type": "code",
   "execution_count": 33,
   "metadata": {
    "colab": {
     "base_uri": "https://localhost:8080/",
     "height": 521
    },
    "colab_type": "code",
    "id": "TNNYypI4Jghk",
    "outputId": "6f9685f0-066c-4f9f-f447-a09a6488a329"
   },
   "outputs": [
    {
     "data": {
      "text/plain": [
       "array([[2.80164087e-08, 7.18443380e-06, 4.65653920e-06, 1.09368375e-06,\n",
       "        7.14964372e-08, 1.18144648e-07, 1.87196786e-11, 9.99901533e-01,\n",
       "        1.41403859e-07, 8.52309386e-05],\n",
       "       [3.24655218e-08, 2.02363626e-05, 9.99973893e-01, 2.94402639e-06,\n",
       "        2.73770013e-07, 5.02391053e-08, 1.61820040e-07, 2.41764246e-06,\n",
       "        1.90513454e-08, 1.85136684e-10],\n",
       "       [6.56223392e-06, 9.99343932e-01, 2.22948351e-04, 4.64591585e-06,\n",
       "        3.10295800e-05, 1.90788687e-05, 3.23289714e-04, 1.55791749e-05,\n",
       "        3.20408944e-05, 8.71065595e-07],\n",
       "       [9.99330878e-01, 2.00514116e-09, 5.50019438e-04, 6.10961069e-06,\n",
       "        2.57980361e-07, 6.09668064e-07, 5.17699955e-05, 2.05152716e-07,\n",
       "        2.77037117e-07, 5.98996885e-05],\n",
       "       [4.15415649e-08, 9.39252587e-09, 4.09202499e-07, 1.08026569e-07,\n",
       "        9.99989629e-01, 2.72668501e-07, 4.77429467e-07, 8.62305455e-07,\n",
       "        1.44836332e-09, 8.16923421e-06],\n",
       "       [1.81379406e-07, 9.99986291e-01, 2.82014798e-06, 5.45487531e-08,\n",
       "        3.52739448e-06, 1.27864993e-07, 5.38438280e-06, 7.66406004e-07,\n",
       "        8.32143257e-07, 3.65978607e-08],\n",
       "       [5.58966384e-08, 5.34285824e-08, 4.58697656e-07, 3.40948425e-08,\n",
       "        9.99911070e-01, 4.27566036e-08, 9.65394804e-08, 3.32016884e-06,\n",
       "        1.53073785e-07, 8.47090050e-05],\n",
       "       [4.46393133e-05, 2.64946181e-07, 8.23151913e-06, 2.45261379e-03,\n",
       "        2.14700376e-05, 7.51881336e-04, 1.33306735e-08, 2.48570359e-05,\n",
       "        9.14945631e-05, 9.96604562e-01],\n",
       "       [8.23064106e-09, 9.14684417e-09, 1.65595821e-07, 6.34178605e-06,\n",
       "        3.95996858e-06, 9.95615363e-01, 4.31353739e-03, 2.76992917e-08,\n",
       "        2.18103833e-05, 3.87363871e-05],\n",
       "       [1.45792670e-04, 2.15111982e-06, 1.32502955e-05, 5.75780405e-06,\n",
       "        1.10303480e-02, 2.25970098e-06, 9.97885650e-08, 3.52088391e-04,\n",
       "        1.52887424e-05, 9.88432944e-01]], dtype=float32)"
      ]
     },
     "execution_count": 33,
     "metadata": {
      "tags": []
     },
     "output_type": "execute_result"
    }
   ],
   "source": [
    "model.predict(test_digits_sc[:10])"
   ]
  },
  {
   "cell_type": "code",
   "execution_count": 34,
   "metadata": {
    "colab": {
     "base_uri": "https://localhost:8080/",
     "height": 34
    },
    "colab_type": "code",
    "id": "8sCpCpVbJji0",
    "outputId": "264e614e-3566-48f3-f9b6-995da93c9319"
   },
   "outputs": [
    {
     "data": {
      "text/plain": [
       "array([7])"
      ]
     },
     "execution_count": 34,
     "metadata": {
      "tags": []
     },
     "output_type": "execute_result"
    }
   ],
   "source": [
    "model.predict_classes(np.expand_dims(test_digits_sc[0],axis=0))"
   ]
  },
  {
   "cell_type": "code",
   "execution_count": 35,
   "metadata": {
    "colab": {
     "base_uri": "https://localhost:8080/",
     "height": 67
    },
    "colab_type": "code",
    "id": "tHiNVqYYJmPU",
    "outputId": "64ffe4b7-54c9-4ae2-bc37-7a64db963061"
   },
   "outputs": [
    {
     "data": {
      "text/plain": [
       "array([[2.8016409e-08, 7.1844270e-06, 4.6565347e-06, 1.0936827e-06,\n",
       "        7.1496295e-08, 1.1814443e-07, 1.8719644e-11, 9.9990153e-01,\n",
       "        1.4140386e-07, 8.5230859e-05]], dtype=float32)"
      ]
     },
     "execution_count": 35,
     "metadata": {
      "tags": []
     },
     "output_type": "execute_result"
    }
   ],
   "source": [
    "model.predict_proba(np.expand_dims(test_digits_sc[0],axis=0))"
   ]
  },
  {
   "cell_type": "code",
   "execution_count": 36,
   "metadata": {
    "colab": {
     "base_uri": "https://localhost:8080/",
     "height": 286
    },
    "colab_type": "code",
    "id": "g8NlieSlJpjI",
    "outputId": "dff26bc4-4ce1-412b-cfa1-1b83ee856e86"
   },
   "outputs": [
    {
     "data": {
      "text/plain": [
       "{'accuracy': [0.92120373, 0.9643148, 0.97474074, 0.9798333, 0.9831296],\n",
       " 'loss': [0.2659279983394124,\n",
       "  0.11590227216882286,\n",
       "  0.08365750229303484,\n",
       "  0.06486292815805171,\n",
       "  0.055136562255055956],\n",
       " 'val_accuracy': [0.9536666870117188,\n",
       "  0.9703333377838135,\n",
       "  0.971666693687439,\n",
       "  0.9711666703224182,\n",
       "  0.9693333506584167],\n",
       " 'val_loss': [0.15458188768227896,\n",
       "  0.10654538602754474,\n",
       "  0.10796550505359967,\n",
       "  0.11121123522147536,\n",
       "  0.12832880963540325]}"
      ]
     },
     "execution_count": 36,
     "metadata": {
      "tags": []
     },
     "output_type": "execute_result"
    }
   ],
   "source": [
    "history.history"
   ]
  },
  {
   "cell_type": "code",
   "execution_count": 37,
   "metadata": {
    "colab": {
     "base_uri": "https://localhost:8080/",
     "height": 282
    },
    "colab_type": "code",
    "id": "eDbr-93mJsXi",
    "outputId": "35803835-8f17-40b1-de43-d46372b89078"
   },
   "outputs": [
    {
     "data": {
      "text/plain": [
       "[<matplotlib.lines.Line2D at 0x7f6344b8d358>]"
      ]
     },
     "execution_count": 37,
     "metadata": {
      "tags": []
     },
     "output_type": "execute_result"
    },
    {
     "data": {
      "image/png": "[encoded data removed]",
      "text/plain": [
       "<Figure size 432x288 with 1 Axes>"
      ]
     },
     "metadata": {
      "needs_background": "light",
      "tags": []
     },
     "output_type": "display_data"
    }
   ],
   "source": [
    "plt.plot(history.history['accuracy'])\n",
    "plt.plot(history.history['val_accuracy'])"
   ]
  }
 ],
 "metadata": {
  "colab": {
   "name": "Assignment(09-07-2020)",
   "provenance": []
  },
  "kernelspec": {
   "display_name": "Python 3",
   "language": "python",
   "name": "python3"
  },
  "language_info": {
   "codemirror_mode": {
    "name": "ipython",
    "version": 3
   },
   "file_extension": ".py",
   "mimetype": "text/x-python",
   "name": "python",
   "nbconvert_exporter": "python",
   "pygments_lexer": "ipython3",
   "version": "3.7.6"
  }
 },
 "nbformat": 4,
 "nbformat_minor": 1
}
