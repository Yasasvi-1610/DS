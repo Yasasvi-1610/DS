{
 "cells": [
  {
   "cell_type": "markdown",
   "metadata": {},
   "source": [
    "# CSE-221710313059-T.Yasasvi"
   ]
  },
  {
   "cell_type": "code",
   "execution_count": 1,
   "metadata": {},
   "outputs": [
    {
     "name": "stdout",
     "output_type": "stream",
     "text": [
      "Input first number: 25\n",
      "Input second number: 55\n",
      "Input third number: 65\n",
      "The median is 55.0\n"
     ]
    }
   ],
   "source": [
    "#10. Median of 3 no's\n",
    "a = float(input(\"Input first number: \"))\n",
    "b = float(input(\"Input second number: \"))\n",
    "c = float(input(\"Input third number: \"))\n",
    "if a > b:\n",
    "    if a < c:\n",
    "        median = a\n",
    "    elif b > c:\n",
    "        median = b\n",
    "    else:\n",
    "        median = c\n",
    "else:\n",
    "    if a > c:\n",
    "        median = a\n",
    "    elif b < c:\n",
    "        median = b\n",
    "    else:\n",
    "        median = c\n",
    "\n",
    "print(\"The median is\", median)"
   ]
  },
  {
   "cell_type": "code",
   "execution_count": null,
   "metadata": {},
   "outputs": [],
   "source": []
  },
  {
   "cell_type": "code",
   "execution_count": 2,
   "metadata": {},
   "outputs": [
    {
     "name": "stdout",
     "output_type": "stream",
     "text": [
      "Enter Score: 0.85\n",
      "B\n"
     ]
    }
   ],
   "source": [
    "#8.\n",
    "score = input(\"Enter Score: \")\n",
    "s=float(score)\n",
    "if s>1.0:\n",
    "    print(\"error\")\n",
    "elif s>=0.9:\n",
    "    print(\"A\")\n",
    "elif s>=0.8:\n",
    "    print(\"B\")\n",
    "elif s>=0.7:\n",
    "    print(\"C\")\n",
    "elif s>=0.6:\n",
    "    print(\"D\")\n",
    "else:\n",
    "    print(\"F\")"
   ]
  },
  {
   "cell_type": "code",
   "execution_count": 12,
   "metadata": {},
   "outputs": [
    {
     "name": "stdout",
     "output_type": "stream",
     "text": [
      "enter string :yasasvi@\n",
      "Vowels: 3\n",
      "Consonant: 4\n",
      "Special Character: 1\n"
     ]
    }
   ],
   "source": [
    "#1 count\n",
    "vowels = 0\n",
    "consonant = 0\n",
    "specialChar = 0\n",
    "str=input(\"enter string :\")\n",
    "for i in range(0, len(str)):          \n",
    "    ch = str[i]  \n",
    "    if ( (ch >= 'a' and ch <= 'z') or \n",
    "             (ch >= 'A' and ch <= 'Z') ):\n",
    "            if (ch == 'a' or ch == 'e' or ch == 'i' \n",
    "                        or ch == 'o' or ch == 'u'): \n",
    "                vowels += 1\n",
    "            else: \n",
    "                consonant += 1\n",
    "    else: \n",
    "            specialChar += 1\n",
    "      \n",
    "print(\"Vowels:\", vowels) \n",
    "print(\"Consonant:\", consonant)   \n",
    "print(\"Special Character:\", specialChar)  \n"
   ]
  },
  {
   "cell_type": "code",
   "execution_count": 13,
   "metadata": {},
   "outputs": [
    {
     "name": "stdout",
     "output_type": "stream",
     "text": [
      "Enter the string :((((()()()))))()\n",
      "8\n"
     ]
    }
   ],
   "source": [
    "#3.\n",
    "str = input(\"Enter the string :\")\n",
    "c1=0\n",
    "c2=0\n",
    "for i in range(0,len(str)):\n",
    "    if(str[i]=='('):\n",
    "        c1=c1+1;\n",
    "    else:\n",
    "        c2=c2+1;\n",
    "if(c1==c2):\n",
    "    print(c1)"
   ]
  },
  {
   "cell_type": "code",
   "execution_count": 14,
   "metadata": {},
   "outputs": [
    {
     "name": "stdout",
     "output_type": "stream",
     "text": [
      "enter the stringappli123cat98\n",
      "23\n"
     ]
    }
   ],
   "source": [
    "#7. Accept input as a string and display sum of digits as the output \n",
    "str1=input(\"enter the string\")\n",
    "sum_digit=0\n",
    "for x in str1:\n",
    "    if x.isdigit() == True:\n",
    "        z=int(x)\n",
    "        sum_digit=sum_digit+z\n",
    "print(sum_digit)"
   ]
  },
  {
   "cell_type": "code",
   "execution_count": 6,
   "metadata": {},
   "outputs": [
    {
     "name": "stdout",
     "output_type": "stream",
     "text": [
      "fizzbuzz\n",
      "1\n",
      "2\n",
      "fizz\n",
      "4\n",
      "buzz\n",
      "fizz\n",
      "7\n",
      "8\n",
      "fizz\n",
      "buzz\n",
      "11\n",
      "fizz\n",
      "13\n",
      "14\n",
      "fizzbuzz\n",
      "16\n",
      "17\n",
      "fizz\n",
      "19\n",
      "buzz\n",
      "fizz\n",
      "22\n",
      "23\n",
      "fizz\n",
      "buzz\n",
      "26\n",
      "fizz\n",
      "28\n",
      "29\n",
      "fizzbuzz\n",
      "31\n",
      "32\n",
      "fizz\n",
      "34\n",
      "buzz\n",
      "fizz\n",
      "37\n",
      "38\n",
      "fizz\n",
      "buzz\n",
      "41\n",
      "fizz\n",
      "43\n",
      "44\n",
      "fizzbuzz\n",
      "46\n",
      "47\n",
      "fizz\n",
      "49\n",
      "buzz\n"
     ]
    }
   ],
   "source": [
    "#9.FizzBuzz\n",
    "for fizzbuzz in range(51):\n",
    "    if fizzbuzz % 3 == 0 and fizzbuzz % 5 == 0:\n",
    "        print(\"fizzbuzz\")\n",
    "        continue\n",
    "    elif fizzbuzz % 3 == 0:\n",
    "        print(\"fizz\")\n",
    "        continue\n",
    "    elif fizzbuzz % 5 == 0:\n",
    "        print(\"buzz\")\n",
    "        continue\n",
    "    print(fizzbuzz)"
   ]
  },
  {
   "cell_type": "code",
   "execution_count": 16,
   "metadata": {},
   "outputs": [
    {
     "name": "stdout",
     "output_type": "stream",
     "text": [
      "enter stringabbaaccbbaaa\n",
      "2\n"
     ]
    }
   ],
   "source": [
    "#2count the no.of pairs\n",
    "str = input(\"enter string\")\n",
    "count=str.count(\"aa\")\n",
    "print(count)"
   ]
  },
  {
   "cell_type": "code",
   "execution_count": 21,
   "metadata": {},
   "outputs": [
    {
     "name": "stdout",
     "output_type": "stream",
     "text": [
      "enter max value:10\n",
      "9\n"
     ]
    }
   ],
   "source": [
    "#4.Read the input as two limits and Print the output as Palindrome count between the two limits\n",
    "max=int(input(\"enter max value:\"))\n",
    "cnt=0\n",
    "for num in range(1,max+1):\n",
    "    temp=num\n",
    "    rev=0\n",
    "    while(temp>0):\n",
    "        rem=temp%10\n",
    "        rev=(rev*10)+rem\n",
    "        temp=temp//10\n",
    "    if(num==rev):\n",
    "        cnt=cnt+1\n",
    "print(cnt)"
   ]
  },
  {
   "cell_type": "code",
   "execution_count": 4,
   "metadata": {},
   "outputs": [
    {
     "name": "stdout",
     "output_type": "stream",
     "text": [
      "127\n",
      "848\n"
     ]
    }
   ],
   "source": [
    "#5. palindrome\n",
    "n = int(input())\n",
    "while True :\n",
    "    if str(n) == str(n)[::-1]:\n",
    "        print(str(n)[::-1])\n",
    "        break\n",
    "    else:\n",
    "        n += int(str(n)[::-1])"
   ]
  },
  {
   "cell_type": "code",
   "execution_count": 5,
   "metadata": {},
   "outputs": [
    {
     "name": "stdout",
     "output_type": "stream",
     "text": [
      "p u b o i f "
     ]
    }
   ],
   "source": [
    "#6. orange->puboif\n",
    "def replaceCharacterType(str): \n",
    "    vowel = False\n",
    "    consonant = False\n",
    "    for i in range(0, len(str)):           \n",
    "        ch = str[i]    \n",
    "        if ( (ch >= 'a' and ch <= 'z') or \n",
    "             (ch >= 'A' and ch <= 'Z') ):  \n",
    "            if(isVowel(ch)):\n",
    "                vowel = True\n",
    "            else:\n",
    "                consonant = True\n",
    "            if (vowel == True): \n",
    "                print(chr(ord(ch) + 1), end =\" \")\n",
    "                vowel = False\n",
    "            else: \n",
    "                i=1\n",
    "                while True:\n",
    "                    tmp = chr(ord(ch)+i)\n",
    "                    if (isVowel(tmp)):\n",
    "                        print(tmp, end =\" \")\n",
    "                        break\n",
    "                    else:\n",
    "                        i +=1\n",
    "\n",
    "def isVowel(ch):\n",
    "    ch = ch.lower()   \n",
    "    if (ch == 'a' or ch == 'e' or ch == 'i' \n",
    "            or ch == 'o' or ch == 'u'):\n",
    "                return True\n",
    "    else:\n",
    "        return False\n",
    "str = \"orange\"\n",
    "replaceCharacterType(str)"
   ]
  }
 ],
 "metadata": {
  "kernelspec": {
   "display_name": "Python 3",
   "language": "python",
   "name": "python3"
  },
  "language_info": {
   "codemirror_mode": {
    "name": "ipython",
    "version": 3
   },
   "file_extension": ".py",
   "mimetype": "text/x-python",
   "name": "python",
   "nbconvert_exporter": "python",
   "pygments_lexer": "ipython3",
   "version": "3.7.6"
  }
 },
 "nbformat": 4,
 "nbformat_minor": 4
}
